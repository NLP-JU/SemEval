{
 "cells": [
  {
   "cell_type": "code",
   "execution_count": 7,
   "metadata": {},
   "outputs": [],
   "source": [
    "\n",
    "\n",
    "import pandas as pd  \n",
    "import numpy as np\n",
    "import matplotlib.pyplot as plt\n",
    "plt.style.use('fivethirtyeight')\n",
    "\n",
    "%matplotlib inline\n",
    "%config InlineBackend.figure_format = 'retina'\n",
    "\n"
   ]
  },
  {
   "cell_type": "code",
   "execution_count": 8,
   "metadata": {},
   "outputs": [
    {
     "name": "stdout",
     "output_type": "stream",
     "text": [
      "Clean_Tweets.ipynb  offenseval-training-v1.tsv\r\n"
     ]
    }
   ],
   "source": [
    "!ls"
   ]
  },
  {
   "cell_type": "code",
   "execution_count": 9,
   "metadata": {},
   "outputs": [],
   "source": [
    "df = pd.read_csv(\"offenseval-training-v1.tsv\", sep ='\\t')"
   ]
  },
  {
   "cell_type": "code",
   "execution_count": 10,
   "metadata": {},
   "outputs": [
    {
     "data": {
      "text/html": [
       "<div>\n",
       "<style scoped>\n",
       "    .dataframe tbody tr th:only-of-type {\n",
       "        vertical-align: middle;\n",
       "    }\n",
       "\n",
       "    .dataframe tbody tr th {\n",
       "        vertical-align: top;\n",
       "    }\n",
       "\n",
       "    .dataframe thead th {\n",
       "        text-align: right;\n",
       "    }\n",
       "</style>\n",
       "<table border=\"1\" class=\"dataframe\">\n",
       "  <thead>\n",
       "    <tr style=\"text-align: right;\">\n",
       "      <th></th>\n",
       "      <th>id</th>\n",
       "      <th>tweet</th>\n",
       "      <th>subtask_a</th>\n",
       "      <th>subtask_b</th>\n",
       "      <th>subtask_c</th>\n",
       "    </tr>\n",
       "  </thead>\n",
       "  <tbody>\n",
       "    <tr>\n",
       "      <th>0</th>\n",
       "      <td>86426</td>\n",
       "      <td>@USER She should ask a few native Americans wh...</td>\n",
       "      <td>OFF</td>\n",
       "      <td>UNT</td>\n",
       "      <td>NaN</td>\n",
       "    </tr>\n",
       "    <tr>\n",
       "      <th>1</th>\n",
       "      <td>90194</td>\n",
       "      <td>@USER @USER Go home you’re drunk!!! @USER #MAG...</td>\n",
       "      <td>OFF</td>\n",
       "      <td>TIN</td>\n",
       "      <td>IND</td>\n",
       "    </tr>\n",
       "    <tr>\n",
       "      <th>2</th>\n",
       "      <td>16820</td>\n",
       "      <td>Amazon is investigating Chinese employees who ...</td>\n",
       "      <td>NOT</td>\n",
       "      <td>NaN</td>\n",
       "      <td>NaN</td>\n",
       "    </tr>\n",
       "    <tr>\n",
       "      <th>3</th>\n",
       "      <td>62688</td>\n",
       "      <td>@USER Someone should'veTaken\" this piece of sh...</td>\n",
       "      <td>OFF</td>\n",
       "      <td>UNT</td>\n",
       "      <td>NaN</td>\n",
       "    </tr>\n",
       "    <tr>\n",
       "      <th>4</th>\n",
       "      <td>43605</td>\n",
       "      <td>@USER @USER Obama wanted liberals &amp;amp; illega...</td>\n",
       "      <td>NOT</td>\n",
       "      <td>NaN</td>\n",
       "      <td>NaN</td>\n",
       "    </tr>\n",
       "  </tbody>\n",
       "</table>\n",
       "</div>"
      ],
      "text/plain": [
       "      id                                              tweet subtask_a  \\\n",
       "0  86426  @USER She should ask a few native Americans wh...       OFF   \n",
       "1  90194  @USER @USER Go home you’re drunk!!! @USER #MAG...       OFF   \n",
       "2  16820  Amazon is investigating Chinese employees who ...       NOT   \n",
       "3  62688  @USER Someone should'veTaken\" this piece of sh...       OFF   \n",
       "4  43605  @USER @USER Obama wanted liberals &amp; illega...       NOT   \n",
       "\n",
       "  subtask_b subtask_c  \n",
       "0       UNT       NaN  \n",
       "1       TIN       IND  \n",
       "2       NaN       NaN  \n",
       "3       UNT       NaN  \n",
       "4       NaN       NaN  "
      ]
     },
     "execution_count": 10,
     "metadata": {},
     "output_type": "execute_result"
    }
   ],
   "source": [
    "df.head()\n"
   ]
  },
  {
   "cell_type": "code",
   "execution_count": 11,
   "metadata": {},
   "outputs": [],
   "source": [
    "df.rename({'tweet':'text', 'subtask_a':'sentiment', 'subtask_b':'subb', 'subtask_c':'subc'}, axis=1,inplace=True)\n"
   ]
  },
  {
   "cell_type": "code",
   "execution_count": 12,
   "metadata": {},
   "outputs": [
    {
     "data": {
      "text/html": [
       "<div>\n",
       "<style scoped>\n",
       "    .dataframe tbody tr th:only-of-type {\n",
       "        vertical-align: middle;\n",
       "    }\n",
       "\n",
       "    .dataframe tbody tr th {\n",
       "        vertical-align: top;\n",
       "    }\n",
       "\n",
       "    .dataframe thead th {\n",
       "        text-align: right;\n",
       "    }\n",
       "</style>\n",
       "<table border=\"1\" class=\"dataframe\">\n",
       "  <thead>\n",
       "    <tr style=\"text-align: right;\">\n",
       "      <th></th>\n",
       "      <th>id</th>\n",
       "      <th>text</th>\n",
       "      <th>sentiment</th>\n",
       "      <th>subb</th>\n",
       "      <th>subc</th>\n",
       "    </tr>\n",
       "  </thead>\n",
       "  <tbody>\n",
       "    <tr>\n",
       "      <th>0</th>\n",
       "      <td>86426</td>\n",
       "      <td>@USER She should ask a few native Americans wh...</td>\n",
       "      <td>OFF</td>\n",
       "      <td>UNT</td>\n",
       "      <td>NaN</td>\n",
       "    </tr>\n",
       "    <tr>\n",
       "      <th>1</th>\n",
       "      <td>90194</td>\n",
       "      <td>@USER @USER Go home you’re drunk!!! @USER #MAG...</td>\n",
       "      <td>OFF</td>\n",
       "      <td>TIN</td>\n",
       "      <td>IND</td>\n",
       "    </tr>\n",
       "    <tr>\n",
       "      <th>2</th>\n",
       "      <td>16820</td>\n",
       "      <td>Amazon is investigating Chinese employees who ...</td>\n",
       "      <td>NOT</td>\n",
       "      <td>NaN</td>\n",
       "      <td>NaN</td>\n",
       "    </tr>\n",
       "    <tr>\n",
       "      <th>3</th>\n",
       "      <td>62688</td>\n",
       "      <td>@USER Someone should'veTaken\" this piece of sh...</td>\n",
       "      <td>OFF</td>\n",
       "      <td>UNT</td>\n",
       "      <td>NaN</td>\n",
       "    </tr>\n",
       "    <tr>\n",
       "      <th>4</th>\n",
       "      <td>43605</td>\n",
       "      <td>@USER @USER Obama wanted liberals &amp;amp; illega...</td>\n",
       "      <td>NOT</td>\n",
       "      <td>NaN</td>\n",
       "      <td>NaN</td>\n",
       "    </tr>\n",
       "  </tbody>\n",
       "</table>\n",
       "</div>"
      ],
      "text/plain": [
       "      id                                               text sentiment subb  \\\n",
       "0  86426  @USER She should ask a few native Americans wh...       OFF  UNT   \n",
       "1  90194  @USER @USER Go home you’re drunk!!! @USER #MAG...       OFF  TIN   \n",
       "2  16820  Amazon is investigating Chinese employees who ...       NOT  NaN   \n",
       "3  62688  @USER Someone should'veTaken\" this piece of sh...       OFF  UNT   \n",
       "4  43605  @USER @USER Obama wanted liberals &amp; illega...       NOT  NaN   \n",
       "\n",
       "  subc  \n",
       "0  NaN  \n",
       "1  IND  \n",
       "2  NaN  \n",
       "3  NaN  \n",
       "4  NaN  "
      ]
     },
     "execution_count": 12,
     "metadata": {},
     "output_type": "execute_result"
    }
   ],
   "source": [
    "df.head()"
   ]
  },
  {
   "cell_type": "code",
   "execution_count": 13,
   "metadata": {},
   "outputs": [],
   "source": [
    "z = {'NOT' : 0 ,'OFF' : 1}\n",
    "df['sentiment'] = df.sentiment.map(z)"
   ]
  },
  {
   "cell_type": "code",
   "execution_count": 1,
   "metadata": {},
   "outputs": [
    {
     "data": {
      "text/plain": [
       "'NOT -- 0 OFF -- 1'"
      ]
     },
     "execution_count": 1,
     "metadata": {},
     "output_type": "execute_result"
    }
   ],
   "source": [
    "'''NOT -- 0 OFF -- 1'''"
   ]
  },
  {
   "cell_type": "code",
   "execution_count": 14,
   "metadata": {},
   "outputs": [
    {
     "data": {
      "text/html": [
       "<div>\n",
       "<style scoped>\n",
       "    .dataframe tbody tr th:only-of-type {\n",
       "        vertical-align: middle;\n",
       "    }\n",
       "\n",
       "    .dataframe tbody tr th {\n",
       "        vertical-align: top;\n",
       "    }\n",
       "\n",
       "    .dataframe thead th {\n",
       "        text-align: right;\n",
       "    }\n",
       "</style>\n",
       "<table border=\"1\" class=\"dataframe\">\n",
       "  <thead>\n",
       "    <tr style=\"text-align: right;\">\n",
       "      <th></th>\n",
       "      <th>id</th>\n",
       "      <th>text</th>\n",
       "      <th>sentiment</th>\n",
       "      <th>subb</th>\n",
       "      <th>subc</th>\n",
       "    </tr>\n",
       "  </thead>\n",
       "  <tbody>\n",
       "    <tr>\n",
       "      <th>0</th>\n",
       "      <td>86426</td>\n",
       "      <td>@USER She should ask a few native Americans wh...</td>\n",
       "      <td>1</td>\n",
       "      <td>UNT</td>\n",
       "      <td>NaN</td>\n",
       "    </tr>\n",
       "    <tr>\n",
       "      <th>1</th>\n",
       "      <td>90194</td>\n",
       "      <td>@USER @USER Go home you’re drunk!!! @USER #MAG...</td>\n",
       "      <td>1</td>\n",
       "      <td>TIN</td>\n",
       "      <td>IND</td>\n",
       "    </tr>\n",
       "    <tr>\n",
       "      <th>2</th>\n",
       "      <td>16820</td>\n",
       "      <td>Amazon is investigating Chinese employees who ...</td>\n",
       "      <td>0</td>\n",
       "      <td>NaN</td>\n",
       "      <td>NaN</td>\n",
       "    </tr>\n",
       "    <tr>\n",
       "      <th>3</th>\n",
       "      <td>62688</td>\n",
       "      <td>@USER Someone should'veTaken\" this piece of sh...</td>\n",
       "      <td>1</td>\n",
       "      <td>UNT</td>\n",
       "      <td>NaN</td>\n",
       "    </tr>\n",
       "    <tr>\n",
       "      <th>4</th>\n",
       "      <td>43605</td>\n",
       "      <td>@USER @USER Obama wanted liberals &amp;amp; illega...</td>\n",
       "      <td>0</td>\n",
       "      <td>NaN</td>\n",
       "      <td>NaN</td>\n",
       "    </tr>\n",
       "  </tbody>\n",
       "</table>\n",
       "</div>"
      ],
      "text/plain": [
       "      id                                               text  sentiment subb  \\\n",
       "0  86426  @USER She should ask a few native Americans wh...          1  UNT   \n",
       "1  90194  @USER @USER Go home you’re drunk!!! @USER #MAG...          1  TIN   \n",
       "2  16820  Amazon is investigating Chinese employees who ...          0  NaN   \n",
       "3  62688  @USER Someone should'veTaken\" this piece of sh...          1  UNT   \n",
       "4  43605  @USER @USER Obama wanted liberals &amp; illega...          0  NaN   \n",
       "\n",
       "  subc  \n",
       "0  NaN  \n",
       "1  IND  \n",
       "2  NaN  \n",
       "3  NaN  \n",
       "4  NaN  "
      ]
     },
     "execution_count": 14,
     "metadata": {},
     "output_type": "execute_result"
    }
   ],
   "source": [
    "df.head()"
   ]
  },
  {
   "cell_type": "code",
   "execution_count": 15,
   "metadata": {},
   "outputs": [
    {
     "name": "stdout",
     "output_type": "stream",
     "text": [
      "<class 'pandas.core.frame.DataFrame'>\n",
      "RangeIndex: 13240 entries, 0 to 13239\n",
      "Data columns (total 5 columns):\n",
      "id           13240 non-null int64\n",
      "text         13240 non-null object\n",
      "sentiment    13240 non-null int64\n",
      "subb         4400 non-null object\n",
      "subc         3876 non-null object\n",
      "dtypes: int64(2), object(3)\n",
      "memory usage: 517.3+ KB\n"
     ]
    }
   ],
   "source": [
    "df.info()\n"
   ]
  },
  {
   "cell_type": "code",
   "execution_count": 16,
   "metadata": {},
   "outputs": [
    {
     "data": {
      "text/plain": [
       "0    8840\n",
       "1    4400\n",
       "Name: sentiment, dtype: int64"
      ]
     },
     "execution_count": 16,
     "metadata": {},
     "output_type": "execute_result"
    }
   ],
   "source": [
    "\n",
    "\n",
    "df.sentiment.value_counts()\n",
    "\n"
   ]
  },
  {
   "cell_type": "code",
   "execution_count": 17,
   "metadata": {},
   "outputs": [],
   "source": [
    "df.drop(['subb','subc'],axis=1,inplace=True)"
   ]
  },
  {
   "cell_type": "code",
   "execution_count": 18,
   "metadata": {},
   "outputs": [
    {
     "data": {
      "text/html": [
       "<div>\n",
       "<style scoped>\n",
       "    .dataframe tbody tr th:only-of-type {\n",
       "        vertical-align: middle;\n",
       "    }\n",
       "\n",
       "    .dataframe tbody tr th {\n",
       "        vertical-align: top;\n",
       "    }\n",
       "\n",
       "    .dataframe thead th {\n",
       "        text-align: right;\n",
       "    }\n",
       "</style>\n",
       "<table border=\"1\" class=\"dataframe\">\n",
       "  <thead>\n",
       "    <tr style=\"text-align: right;\">\n",
       "      <th></th>\n",
       "      <th>id</th>\n",
       "      <th>text</th>\n",
       "      <th>sentiment</th>\n",
       "    </tr>\n",
       "  </thead>\n",
       "  <tbody>\n",
       "    <tr>\n",
       "      <th>0</th>\n",
       "      <td>86426</td>\n",
       "      <td>@USER She should ask a few native Americans wh...</td>\n",
       "      <td>1</td>\n",
       "    </tr>\n",
       "    <tr>\n",
       "      <th>1</th>\n",
       "      <td>90194</td>\n",
       "      <td>@USER @USER Go home you’re drunk!!! @USER #MAG...</td>\n",
       "      <td>1</td>\n",
       "    </tr>\n",
       "    <tr>\n",
       "      <th>2</th>\n",
       "      <td>16820</td>\n",
       "      <td>Amazon is investigating Chinese employees who ...</td>\n",
       "      <td>0</td>\n",
       "    </tr>\n",
       "    <tr>\n",
       "      <th>3</th>\n",
       "      <td>62688</td>\n",
       "      <td>@USER Someone should'veTaken\" this piece of sh...</td>\n",
       "      <td>1</td>\n",
       "    </tr>\n",
       "    <tr>\n",
       "      <th>4</th>\n",
       "      <td>43605</td>\n",
       "      <td>@USER @USER Obama wanted liberals &amp;amp; illega...</td>\n",
       "      <td>0</td>\n",
       "    </tr>\n",
       "  </tbody>\n",
       "</table>\n",
       "</div>"
      ],
      "text/plain": [
       "      id                                               text  sentiment\n",
       "0  86426  @USER She should ask a few native Americans wh...          1\n",
       "1  90194  @USER @USER Go home you’re drunk!!! @USER #MAG...          1\n",
       "2  16820  Amazon is investigating Chinese employees who ...          0\n",
       "3  62688  @USER Someone should'veTaken\" this piece of sh...          1\n",
       "4  43605  @USER @USER Obama wanted liberals &amp; illega...          0"
      ]
     },
     "execution_count": 18,
     "metadata": {},
     "output_type": "execute_result"
    }
   ],
   "source": [
    "df.head()"
   ]
  },
  {
   "cell_type": "code",
   "execution_count": 19,
   "metadata": {},
   "outputs": [
    {
     "data": {
      "text/html": [
       "<div>\n",
       "<style scoped>\n",
       "    .dataframe tbody tr th:only-of-type {\n",
       "        vertical-align: middle;\n",
       "    }\n",
       "\n",
       "    .dataframe tbody tr th {\n",
       "        vertical-align: top;\n",
       "    }\n",
       "\n",
       "    .dataframe thead th {\n",
       "        text-align: right;\n",
       "    }\n",
       "</style>\n",
       "<table border=\"1\" class=\"dataframe\">\n",
       "  <thead>\n",
       "    <tr style=\"text-align: right;\">\n",
       "      <th></th>\n",
       "      <th>id</th>\n",
       "      <th>text</th>\n",
       "      <th>sentiment</th>\n",
       "    </tr>\n",
       "  </thead>\n",
       "  <tbody>\n",
       "    <tr>\n",
       "      <th>2</th>\n",
       "      <td>16820</td>\n",
       "      <td>Amazon is investigating Chinese employees who ...</td>\n",
       "      <td>0</td>\n",
       "    </tr>\n",
       "    <tr>\n",
       "      <th>4</th>\n",
       "      <td>43605</td>\n",
       "      <td>@USER @USER Obama wanted liberals &amp;amp; illega...</td>\n",
       "      <td>0</td>\n",
       "    </tr>\n",
       "    <tr>\n",
       "      <th>8</th>\n",
       "      <td>45157</td>\n",
       "      <td>@USER Buy more icecream!!!</td>\n",
       "      <td>0</td>\n",
       "    </tr>\n",
       "    <tr>\n",
       "      <th>10</th>\n",
       "      <td>82776</td>\n",
       "      <td>@USER @USER @USER It’s not my fault you suppor...</td>\n",
       "      <td>0</td>\n",
       "    </tr>\n",
       "    <tr>\n",
       "      <th>11</th>\n",
       "      <td>42992</td>\n",
       "      <td>@USER What’s the difference between #Kavanaugh...</td>\n",
       "      <td>0</td>\n",
       "    </tr>\n",
       "    <tr>\n",
       "      <th>13</th>\n",
       "      <td>54920</td>\n",
       "      <td>@USER @USER @USER It should scare every Americ...</td>\n",
       "      <td>0</td>\n",
       "    </tr>\n",
       "    <tr>\n",
       "      <th>14</th>\n",
       "      <td>56392</td>\n",
       "      <td>@USER @USER @USER @USER @USER @USER @USER @USE...</td>\n",
       "      <td>0</td>\n",
       "    </tr>\n",
       "    <tr>\n",
       "      <th>15</th>\n",
       "      <td>86735</td>\n",
       "      <td>@USER you are also the king of taste</td>\n",
       "      <td>0</td>\n",
       "    </tr>\n",
       "    <tr>\n",
       "      <th>16</th>\n",
       "      <td>95686</td>\n",
       "      <td>#MAGA @USER  🎶 Sing like no one is listening  ...</td>\n",
       "      <td>0</td>\n",
       "    </tr>\n",
       "    <tr>\n",
       "      <th>17</th>\n",
       "      <td>71446</td>\n",
       "      <td>5/5: @USER The time is right for this House to...</td>\n",
       "      <td>0</td>\n",
       "    </tr>\n",
       "  </tbody>\n",
       "</table>\n",
       "</div>"
      ],
      "text/plain": [
       "       id                                               text  sentiment\n",
       "2   16820  Amazon is investigating Chinese employees who ...          0\n",
       "4   43605  @USER @USER Obama wanted liberals &amp; illega...          0\n",
       "8   45157                         @USER Buy more icecream!!!          0\n",
       "10  82776  @USER @USER @USER It’s not my fault you suppor...          0\n",
       "11  42992  @USER What’s the difference between #Kavanaugh...          0\n",
       "13  54920  @USER @USER @USER It should scare every Americ...          0\n",
       "14  56392  @USER @USER @USER @USER @USER @USER @USER @USE...          0\n",
       "15  86735               @USER you are also the king of taste          0\n",
       "16  95686  #MAGA @USER  🎶 Sing like no one is listening  ...          0\n",
       "17  71446  5/5: @USER The time is right for this House to...          0"
      ]
     },
     "execution_count": 19,
     "metadata": {},
     "output_type": "execute_result"
    }
   ],
   "source": [
    "df[df.sentiment == 0].head(10)"
   ]
  },
  {
   "cell_type": "code",
   "execution_count": 20,
   "metadata": {},
   "outputs": [
    {
     "data": {
      "text/html": [
       "<div>\n",
       "<style scoped>\n",
       "    .dataframe tbody tr th:only-of-type {\n",
       "        vertical-align: middle;\n",
       "    }\n",
       "\n",
       "    .dataframe tbody tr th {\n",
       "        vertical-align: top;\n",
       "    }\n",
       "\n",
       "    .dataframe thead th {\n",
       "        text-align: right;\n",
       "    }\n",
       "</style>\n",
       "<table border=\"1\" class=\"dataframe\">\n",
       "  <thead>\n",
       "    <tr style=\"text-align: right;\">\n",
       "      <th></th>\n",
       "      <th>id</th>\n",
       "      <th>text</th>\n",
       "      <th>sentiment</th>\n",
       "    </tr>\n",
       "  </thead>\n",
       "  <tbody>\n",
       "    <tr>\n",
       "      <th>0</th>\n",
       "      <td>86426</td>\n",
       "      <td>@USER She should ask a few native Americans wh...</td>\n",
       "      <td>1</td>\n",
       "    </tr>\n",
       "    <tr>\n",
       "      <th>1</th>\n",
       "      <td>90194</td>\n",
       "      <td>@USER @USER Go home you’re drunk!!! @USER #MAG...</td>\n",
       "      <td>1</td>\n",
       "    </tr>\n",
       "    <tr>\n",
       "      <th>3</th>\n",
       "      <td>62688</td>\n",
       "      <td>@USER Someone should'veTaken\" this piece of sh...</td>\n",
       "      <td>1</td>\n",
       "    </tr>\n",
       "    <tr>\n",
       "      <th>5</th>\n",
       "      <td>97670</td>\n",
       "      <td>@USER Liberals are all Kookoo !!!</td>\n",
       "      <td>1</td>\n",
       "    </tr>\n",
       "    <tr>\n",
       "      <th>6</th>\n",
       "      <td>77444</td>\n",
       "      <td>@USER @USER Oh noes! Tough shit.</td>\n",
       "      <td>1</td>\n",
       "    </tr>\n",
       "    <tr>\n",
       "      <th>7</th>\n",
       "      <td>52415</td>\n",
       "      <td>@USER was literally just talking about this lo...</td>\n",
       "      <td>1</td>\n",
       "    </tr>\n",
       "    <tr>\n",
       "      <th>9</th>\n",
       "      <td>13384</td>\n",
       "      <td>@USER Canada doesn’t need another CUCK! We alr...</td>\n",
       "      <td>1</td>\n",
       "    </tr>\n",
       "    <tr>\n",
       "      <th>12</th>\n",
       "      <td>28414</td>\n",
       "      <td>@USER you are a lying corrupt traitor!!! Nobod...</td>\n",
       "      <td>1</td>\n",
       "    </tr>\n",
       "    <tr>\n",
       "      <th>19</th>\n",
       "      <td>28195</td>\n",
       "      <td>@USER @USER @USER gun control! That is all the...</td>\n",
       "      <td>1</td>\n",
       "    </tr>\n",
       "    <tr>\n",
       "      <th>20</th>\n",
       "      <td>56117</td>\n",
       "      <td>@USER @USER @USER @USER LOL!!!   Throwing the ...</td>\n",
       "      <td>1</td>\n",
       "    </tr>\n",
       "  </tbody>\n",
       "</table>\n",
       "</div>"
      ],
      "text/plain": [
       "       id                                               text  sentiment\n",
       "0   86426  @USER She should ask a few native Americans wh...          1\n",
       "1   90194  @USER @USER Go home you’re drunk!!! @USER #MAG...          1\n",
       "3   62688  @USER Someone should'veTaken\" this piece of sh...          1\n",
       "5   97670                  @USER Liberals are all Kookoo !!!          1\n",
       "6   77444                   @USER @USER Oh noes! Tough shit.          1\n",
       "7   52415  @USER was literally just talking about this lo...          1\n",
       "9   13384  @USER Canada doesn’t need another CUCK! We alr...          1\n",
       "12  28414  @USER you are a lying corrupt traitor!!! Nobod...          1\n",
       "19  28195  @USER @USER @USER gun control! That is all the...          1\n",
       "20  56117  @USER @USER @USER @USER LOL!!!   Throwing the ...          1"
      ]
     },
     "execution_count": 20,
     "metadata": {},
     "output_type": "execute_result"
    }
   ],
   "source": [
    "df[df.sentiment == 1].head(10)"
   ]
  },
  {
   "cell_type": "code",
   "execution_count": 24,
   "metadata": {},
   "outputs": [],
   "source": [
    "\n",
    "\n",
    "from nltk.tokenize import WordPunctTokenizer\n",
    "tok = WordPunctTokenizer()\n",
    "\n"
   ]
  },
  {
   "cell_type": "code",
   "execution_count": 25,
   "metadata": {},
   "outputs": [],
   "source": [
    "\n",
    "\n",
    "import re\n",
    "\n",
    "from nltk.tokenize import WordPunctTokenizer\n",
    "tok = WordPunctTokenizer()\n",
    "\n",
    "pat1 = r'@[A-Za-z0-9_]+'\n",
    "pat2 = r'https?://[^ ]+'\n",
    "combined_pat = r'|'.join((pat1, pat2))\n",
    "www_pat = r'www.[^ ]+'\n",
    "url = r'URL'\n",
    "negations_dic = {\"isn't\":\"is not\", \"aren't\":\"are not\", \"wasn't\":\"was not\", \"weren't\":\"were not\",\n",
    "                \"haven't\":\"have not\",\"hasn't\":\"has not\",\"hadn't\":\"had not\",\"won't\":\"will not\",\n",
    "                \"wouldn't\":\"would not\", \"don't\":\"do not\", \"doesn't\":\"does not\",\"didn't\":\"did not\",\n",
    "                \"can't\":\"can not\",\"couldn't\":\"could not\",\"shouldn't\":\"should not\",\"mightn't\":\"might not\",\n",
    "                \"mustn't\":\"must not\"}\n",
    "neg_pattern = re.compile(r'\\b(' + '|'.join(negations_dic.keys()) + r')\\b')\n",
    "\n",
    "def tweet_cleaner(text):\n",
    "    \n",
    "    try:\n",
    "        bom_removed = text.decode(\"utf-8-sig\").replace(u\"\\ufffd\", \"?\")\n",
    "    except:\n",
    "        bom_removed = text\n",
    "    stripped = re.sub(combined_pat, '', bom_removed)\n",
    "    stripped = re.sub(www_pat, '', stripped)\n",
    "    stripped = re.sub(url, '', stripped)\n",
    "    \n",
    "    lower_case = stripped.lower()\n",
    "    neg_handled = neg_pattern.sub(lambda x: negations_dic[x.group()], lower_case)\n",
    "    letters_only = re.sub(\"[^a-zA-Z]\", \" \", neg_handled)\n",
    "    # During the letters_only process two lines above, it has created unnecessay white spaces,\n",
    "    # I will tokenize and join together to remove unneccessary white spaces\n",
    "    words = [x for x  in tok.tokenize(letters_only) if len(x) > 1]\n",
    "    return (\" \".join(words)).strip()\n",
    "\n"
   ]
  },
  {
   "cell_type": "code",
   "execution_count": 26,
   "metadata": {},
   "outputs": [],
   "source": [
    "testing = df.text[:]"
   ]
  },
  {
   "cell_type": "code",
   "execution_count": 27,
   "metadata": {},
   "outputs": [],
   "source": [
    "\n",
    "\n",
    "test_result = []\n",
    "for t in testing:\n",
    "    test_result.append(tweet_cleaner(t))\n",
    "\n"
   ]
  },
  {
   "cell_type": "code",
   "execution_count": 28,
   "metadata": {},
   "outputs": [
    {
     "data": {
      "text/plain": [
       "['she should ask few native americans what their take on this is',\n",
       " 'go home you re drunk maga trump',\n",
       " 'amazon is investigating chinese employees who are selling internal data to third party sellers looking for an edge in the competitive marketplace amazon maga kag china tcot',\n",
       " 'someone should vetaken this piece of shit to volcano',\n",
       " 'obama wanted liberals amp illegals to move into red states',\n",
       " 'liberals are all kookoo',\n",
       " 'oh noes tough shit',\n",
       " 'was literally just talking about this lol all mass shootings like that have been set ups it propaganda used to divide us on major issues like gun control and terrorism',\n",
       " 'buy more icecream',\n",
       " 'canada doesn need another cuck we already have enough looneyleft liberals king up our great country qproofs trudeaumustgo',\n",
       " 'it not my fault you support gun control',\n",
       " 'what the difference between kavanaugh and one of these men admitted to groping year old girl years ago the other is going to be confirmed to the scj demsarefrauds demsaredone walkawaydemocrats redwave voteredsaveamerica trumptrain maga',\n",
       " 'you are lying corrupt traitor nobody wants to hear anymore of your lies deepstatecorruption',\n",
       " 'it should scare every american she is playing hockey with warped puck',\n",
       " 'like my soda like like my boarders with lot of ice',\n",
       " 'you are also the king of taste',\n",
       " 'maga sing like no one is listening love like you ve never been hurt vote gop when no one is watching and do not listen to liberals dirt',\n",
       " 'the time is right for this house to respond to the concerns of all canadians four out of five canadians support stronger gun control and with good reason guncontrol cdnpoli cdnhist',\n",
       " 'besides jax mom and maybe ope he is hands down my favorite he like the only good person on the show',\n",
       " 'gun control that is all these kids are asking for',\n",
       " 'lol throwing the bullshit flag on such nonsense putuporshutup kavanaugh maga callthevotealready',\n",
       " 'you are correct',\n",
       " 'kind of like when conservatives wanna associate everyone to their left as communist antifa members',\n",
       " 'da fuck is going on people there the men room and the women room pick one and stick it',\n",
       " 'been willie fan since before most of you were born love that he is holding rally with beto exactly which fans are furious could you give some specifics',\n",
       " 'tbh these days just do not like people in general just do not connect with people these days just annoyance',\n",
       " 'south korean official leaders will discuss specific denuke measures in pyongyang tcot maga rednationrising',\n",
       " 'you can tell he is hooper too',\n",
       " 'feel like he is better chasing the title',\n",
       " 'she to whom are you referring to hillary you know what is tiresome bernie supporters bashing hillary clinton she is an actual democrat who raises money for the democratic party and doesn bash them she has positive message so who is dividing the left',\n",
       " 'glad to see your friends are supporting metis rights as much as you are supporting zionists',\n",
       " 'yes you are but was asking what is it about the movie',\n",
       " 'the only thing the democrats have is lying and stalling to stop trump from being president what have they done for you lately trump kavanaugh maga demsuck',\n",
       " 'no wonder he is being apologetic and more social these day',\n",
       " 'any updates re ending your blatant racism as windrush amp grenfell proves you are alloutpolitics politicslive pmqs',\n",
       " 'do you know what going to happen now going to have to lay in bed and cry while listen to kelly clarkson thanks free speech antifa',\n",
       " 'you are not very smart are you why do you think gen flynn sentencing keeps being rescheduled',\n",
       " 'that expected if you placate the violent leftists terrorists kavanaughconfirmation woke',\n",
       " 'blow hard',\n",
       " 'that means you are max lvl twitter user and maybe should try new game',\n",
       " 'please explain what controlled opposition means as for bernier escaping he split with the rest of the conservatives because he even more racist and exclusionary than they want to be',\n",
       " 'socialists politics that stand up for the downtrodden and well done for conflating criticism of israel with anti semitism you are also part of the problem',\n",
       " 'nina one of the reasons did not read this book for so long was because was so worried about her character should ve trusted everyone nina is goddamn goddess would die for thousand times over she is big and bold and lovely and perfect her arc is perfect',\n",
       " 'please vote no on kavanaugh he is not fit for scotus and allegations about women and shady financials should disqualify him ruleoflaw matters metoo countryoverparty withdrawkavanaugh stopkavanaugh',\n",
       " 'ppl who say not racist are racist you are racist repeat after me',\n",
       " 'kathy the patriot you have to love our great president trump spine of steel changing it on trade amp everything for americans americafirst usa maga leadership amp respect economy jobs peacethrustrength god bless trump amp theusa',\n",
       " 'wow you liberals really don have sense of humor',\n",
       " 'so fucking ready',\n",
       " 'holy moly if the catholic people have not been awakened by this falseprophet lunatic',\n",
       " 'lol yeah per dina he is there everyday per claudia no horse got vet care unless it was for donation example limping etc',\n",
       " 'what surprise same as antifa blm and so on and so on soros is americas worst enemy in history he believes the only way to take down the usa is from withing and hes right but it not gunna happen',\n",
       " 'me too her wedding was the best she is very pretty',\n",
       " 'no conflict here don look at this soros involved in violent left agenda of antifa also',\n",
       " 'any of your announcements every come to fruition or is it basically stealing labour ideas to get few more votes',\n",
       " 'out of british people are basically full on racists out of voters vote for the conservatives coincidence',\n",
       " 'guncontrol advocates must stop falling all over themselves to assure electorate that they too love the horrific',\n",
       " 'hi there we love what huge fan of camila mendes you are would it be alright if we used your tweet about her in our promotional material',\n",
       " 'fuck off',\n",
       " 'certainly weird view toward the margaret sanger geonicidal philosophy of aborting minorities like to know if the black population that suffers the most shares her opinion',\n",
       " 'the prison system is so fucked why are they still getting away with what is potentially murder with intent if the prisoners die in the hurricane they did this in louisiana and like inmates went missing',\n",
       " 'she is useless attempts to do the right thing but never follows through',\n",
       " 'walkaway liberals your party is poison',\n",
       " 'grateful trump doesn have dog in the white house he is cruel man',\n",
       " 'you are lying stick with the facts we pay more than that now',\n",
       " 'trump kicks dem butt its so fun',\n",
       " 'he is dumb and dumber all in one president it two for one',\n",
       " 'toxictory minister attempted to expense charity donation it what do toriesmustgo dissolvetheunion',\n",
       " 'ur so straight forword man saw in dance dewwane and ur just talk free ky ap kitnay porrany ho industry mein and really like ur this quality that even gather with ur senior artist love for manmarziyaan',\n",
       " 'and this from the clown that should be in prison',\n",
       " 'did twitter silence alex jones in retaliation of him asking twitter jack questions',\n",
       " 'thats because you are an old man',\n",
       " 'they are obstructionists anti american pharisees ask them what they are running on and you get nothing maga',\n",
       " 'no you re not you re here represent the alinskyite orwellian leftist tool amp fool view on things like of the marxists amp antifa similar psst and use the words fascist or fascism again go ahead amp read souza book the big lie right now know squat about either',\n",
       " 'do remember but somehow centrist antifa haters can never quite seem to bring themselves to condemn such things',\n",
       " 'mean it worked for gun control right',\n",
       " 'think the last thing on the wh or trump mind is april ryan she needs to stop flattering herself she not as important as she thinks she is',\n",
       " 'principled conservatives are hypocrickets',\n",
       " 'do not forget amp democrat backed antifa',\n",
       " 'she is beautiful person to teach values to her kids teaching them they are royalty but keep to keep it from going to their heads stay real',\n",
       " 'bring out his antifa criminal son to campaign for him',\n",
       " 'didn watch and will not watch watching the september th stories and how we came together and stood shoulder to shoulder made me proud even with all of our issues yet the people playing damn game cannot stand for this moment protest on saturday',\n",
       " 'tear is made of water and feelings',\n",
       " 'trump addresses gun control representing the nra will not let you down he says',\n",
       " 'she is drinking so much koolaid she bloated',\n",
       " 'holder needs to be prosecuted',\n",
       " 'but but both players were women and both were women of color',\n",
       " 'the institution only let her tweet when she behaves she is window licker',\n",
       " 'babysitting kids people how old do you think she is she has three kids me dont get mad don get mad they don know they don know',\n",
       " 'well',\n",
       " 'wtc this is threat maga qanon wakeupamerica',\n",
       " 'it easily digestible content there no need for nuance or to even understand the story they can show picture of an antifa and get the base level emotional response their content requires in order to be profitable',\n",
       " 'try looking for plain old democrats the liberals are the ones which you can have conversation with',\n",
       " 'great news old moonbeam just went into coma',\n",
       " 'omg he is so extra ily',\n",
       " 'please call trump out for what he is narcissistic sociopath',\n",
       " 'unfortunately in america system like that would be called racist liberals believe exams are racist against minority groups',\n",
       " 'know she is still alive but wondering if her career was railroaded odd loved her especially that day',\n",
       " 'guy you are always present bet why lol',\n",
       " 'what baby',\n",
       " 'you are very persuasive fam']"
      ]
     },
     "execution_count": 28,
     "metadata": {},
     "output_type": "execute_result"
    }
   ],
   "source": [
    "test_result"
   ]
  },
  {
   "cell_type": "code",
   "execution_count": 29,
   "metadata": {},
   "outputs": [
    {
     "name": "stdout",
     "output_type": "stream",
     "text": [
      "Cleaning and parsing the tweets...\n",
      "\n",
      "Tweets has been processed\n",
      "CPU times: user 562 ms, sys: 0 ns, total: 562 ms\n",
      "Wall time: 561 ms\n"
     ]
    }
   ],
   "source": [
    "%%time\n",
    "#NOT REQD.\n",
    "print (\"Cleaning and parsing the tweets...\\n\")\n",
    "clean_tweet_texts = []\n",
    "for i in range(0,13240):\n",
    "    if( (i+1)%10000 == 0 ):\n",
    "        print (\"Tweets has been processed\")                                                                    \n",
    "    clean_tweet_texts.append(tweet_cleaner(df['text'][i]))"
   ]
  },
  {
   "cell_type": "code",
   "execution_count": 30,
   "metadata": {},
   "outputs": [
    {
     "data": {
      "text/plain": [
       "13240"
      ]
     },
     "execution_count": 30,
     "metadata": {},
     "output_type": "execute_result"
    }
   ],
   "source": [
    "len(test_result)"
   ]
  },
  {
   "cell_type": "code",
   "execution_count": 31,
   "metadata": {},
   "outputs": [
    {
     "data": {
      "text/html": [
       "<div>\n",
       "<style scoped>\n",
       "    .dataframe tbody tr th:only-of-type {\n",
       "        vertical-align: middle;\n",
       "    }\n",
       "\n",
       "    .dataframe tbody tr th {\n",
       "        vertical-align: top;\n",
       "    }\n",
       "\n",
       "    .dataframe thead th {\n",
       "        text-align: right;\n",
       "    }\n",
       "</style>\n",
       "<table border=\"1\" class=\"dataframe\">\n",
       "  <thead>\n",
       "    <tr style=\"text-align: right;\">\n",
       "      <th></th>\n",
       "      <th>text</th>\n",
       "      <th>target</th>\n",
       "    </tr>\n",
       "  </thead>\n",
       "  <tbody>\n",
       "    <tr>\n",
       "      <th>0</th>\n",
       "      <td>she should ask few native americans what their...</td>\n",
       "      <td>1</td>\n",
       "    </tr>\n",
       "    <tr>\n",
       "      <th>1</th>\n",
       "      <td>go home you re drunk maga trump</td>\n",
       "      <td>1</td>\n",
       "    </tr>\n",
       "    <tr>\n",
       "      <th>2</th>\n",
       "      <td>amazon is investigating chinese employees who ...</td>\n",
       "      <td>0</td>\n",
       "    </tr>\n",
       "    <tr>\n",
       "      <th>3</th>\n",
       "      <td>someone should vetaken this piece of shit to v...</td>\n",
       "      <td>1</td>\n",
       "    </tr>\n",
       "    <tr>\n",
       "      <th>4</th>\n",
       "      <td>obama wanted liberals amp illegals to move int...</td>\n",
       "      <td>0</td>\n",
       "    </tr>\n",
       "  </tbody>\n",
       "</table>\n",
       "</div>"
      ],
      "text/plain": [
       "                                                text  target\n",
       "0  she should ask few native americans what their...       1\n",
       "1                    go home you re drunk maga trump       1\n",
       "2  amazon is investigating chinese employees who ...       0\n",
       "3  someone should vetaken this piece of shit to v...       1\n",
       "4  obama wanted liberals amp illegals to move int...       0"
      ]
     },
     "execution_count": 31,
     "metadata": {},
     "output_type": "execute_result"
    }
   ],
   "source": [
    "\n",
    "\n",
    "clean_df = pd.DataFrame(test_result,columns=['text'])\n",
    "clean_df['target'] = df.sentiment\n",
    "clean_df.head()\n",
    "\n"
   ]
  },
  {
   "cell_type": "code",
   "execution_count": 32,
   "metadata": {},
   "outputs": [],
   "source": [
    "\n",
    "\n",
    "clean_df.to_csv('clean_tweet.csv',encoding='utf-8')\n",
    "\n"
   ]
  }
 ],
 "metadata": {
  "kernelspec": {
   "display_name": "Python 3",
   "language": "python",
   "name": "python3"
  },
  "language_info": {
   "codemirror_mode": {
    "name": "ipython",
    "version": 3
   },
   "file_extension": ".py",
   "mimetype": "text/x-python",
   "name": "python",
   "nbconvert_exporter": "python",
   "pygments_lexer": "ipython3",
   "version": "3.6.5"
  }
 },
 "nbformat": 4,
 "nbformat_minor": 2
}
