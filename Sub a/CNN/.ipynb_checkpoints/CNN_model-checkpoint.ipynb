{
 "cells": [
  {
   "cell_type": "code",
   "execution_count": 2,
   "metadata": {
    "colab": {
     "base_uri": "https://localhost:8080/",
     "height": 34
    },
    "colab_type": "code",
    "executionInfo": {
     "elapsed": 3333,
     "status": "ok",
     "timestamp": 1547689481309,
     "user": {
      "displayName": "Preeti Mainak",
      "photoUrl": "",
      "userId": "02089753100743727556"
     },
     "user_tz": -330
    },
    "id": "bCgkZYM1equL",
    "outputId": "bbeaaa19-5bc3-4482-ba0a-bb54ff1a0928"
   },
   "outputs": [
    {
     "name": "stdout",
     "output_type": "stream",
     "text": [
      "train_clean.csv  Untitled0.ipynb  wordList-300.npy  wordVectors-300.npy\r\n"
     ]
    }
   ],
   "source": [
    "!ls"
   ]
  },
  {
   "cell_type": "code",
   "execution_count": 3,
   "metadata": {
    "colab": {},
    "colab_type": "code",
    "id": "193J1e87fBdw"
   },
   "outputs": [],
   "source": [
    "import pandas as pd  \n",
    "import numpy as np\n",
    "import matplotlib.pyplot as plt\n",
    "plt.style.use('fivethirtyeight')\n",
    "\n",
    "%matplotlib inline\n",
    "%config InlineBackend.figure_format = 'retina'\n"
   ]
  },
  {
   "cell_type": "code",
   "execution_count": 4,
   "metadata": {
    "colab": {
     "base_uri": "https://localhost:8080/",
     "height": 204
    },
    "colab_type": "code",
    "executionInfo": {
     "elapsed": 1323,
     "status": "ok",
     "timestamp": 1547689539754,
     "user": {
      "displayName": "Preeti Mainak",
      "photoUrl": "",
      "userId": "02089753100743727556"
     },
     "user_tz": -330
    },
    "id": "39kd3vroer-n",
    "outputId": "75f21d07-7930-41fc-9cc3-b565f286c57e"
   },
   "outputs": [
    {
     "data": {
      "text/html": [
       "<div>\n",
       "<style scoped>\n",
       "    .dataframe tbody tr th:only-of-type {\n",
       "        vertical-align: middle;\n",
       "    }\n",
       "\n",
       "    .dataframe tbody tr th {\n",
       "        vertical-align: top;\n",
       "    }\n",
       "\n",
       "    .dataframe thead th {\n",
       "        text-align: right;\n",
       "    }\n",
       "</style>\n",
       "<table border=\"1\" class=\"dataframe\">\n",
       "  <thead>\n",
       "    <tr style=\"text-align: right;\">\n",
       "      <th></th>\n",
       "      <th>id</th>\n",
       "      <th>text</th>\n",
       "      <th>target</th>\n",
       "    </tr>\n",
       "  </thead>\n",
       "  <tbody>\n",
       "    <tr>\n",
       "      <th>0</th>\n",
       "      <td>86426</td>\n",
       "      <td>she should ask few native americans what their...</td>\n",
       "      <td>1</td>\n",
       "    </tr>\n",
       "    <tr>\n",
       "      <th>1</th>\n",
       "      <td>90194</td>\n",
       "      <td>go home you re drunk</td>\n",
       "      <td>1</td>\n",
       "    </tr>\n",
       "    <tr>\n",
       "      <th>2</th>\n",
       "      <td>16820</td>\n",
       "      <td>amazon is investigating chinese employees who ...</td>\n",
       "      <td>0</td>\n",
       "    </tr>\n",
       "    <tr>\n",
       "      <th>3</th>\n",
       "      <td>62688</td>\n",
       "      <td>someone should vetaken this piece of shit to v...</td>\n",
       "      <td>1</td>\n",
       "    </tr>\n",
       "    <tr>\n",
       "      <th>4</th>\n",
       "      <td>43605</td>\n",
       "      <td>obama wanted liberals amp illegals to move int...</td>\n",
       "      <td>0</td>\n",
       "    </tr>\n",
       "  </tbody>\n",
       "</table>\n",
       "</div>"
      ],
      "text/plain": [
       "      id                                               text  target\n",
       "0  86426  she should ask few native americans what their...       1\n",
       "1  90194                               go home you re drunk       1\n",
       "2  16820  amazon is investigating chinese employees who ...       0\n",
       "3  62688  someone should vetaken this piece of shit to v...       1\n",
       "4  43605  obama wanted liberals amp illegals to move int...       0"
      ]
     },
     "execution_count": 4,
     "metadata": {},
     "output_type": "execute_result"
    }
   ],
   "source": [
    "csv = 'train_clean.csv'\n",
    "my_df = pd.read_csv(csv)\n",
    "my_df.head()"
   ]
  },
  {
   "cell_type": "code",
   "execution_count": 5,
   "metadata": {
    "colab": {
     "base_uri": "https://localhost:8080/",
     "height": 153
    },
    "colab_type": "code",
    "executionInfo": {
     "elapsed": 869,
     "status": "ok",
     "timestamp": 1547689565453,
     "user": {
      "displayName": "Preeti Mainak",
      "photoUrl": "",
      "userId": "02089753100743727556"
     },
     "user_tz": -330
    },
    "id": "vty3jXYKe9Wi",
    "outputId": "aac9ec2b-0a94-4ecf-b2cc-dfcd8c2a627d"
   },
   "outputs": [
    {
     "name": "stdout",
     "output_type": "stream",
     "text": [
      "<class 'pandas.core.frame.DataFrame'>\n",
      "RangeIndex: 13239 entries, 0 to 13238\n",
      "Data columns (total 3 columns):\n",
      "id        13239 non-null int64\n",
      "text      13239 non-null object\n",
      "target    13239 non-null int64\n",
      "dtypes: int64(2), object(1)\n",
      "memory usage: 310.4+ KB\n"
     ]
    }
   ],
   "source": [
    "my_df.dropna(inplace=True)\n",
    "my_df.reset_index(drop=True,inplace=True)\n",
    "my_df.info()\n"
   ]
  },
  {
   "cell_type": "code",
   "execution_count": 6,
   "metadata": {
    "colab": {},
    "colab_type": "code",
    "id": "aGGW_mikfJkD"
   },
   "outputs": [],
   "source": [
    "x = my_df.text\n",
    "y = my_df.target\n"
   ]
  },
  {
   "cell_type": "code",
   "execution_count": 7,
   "metadata": {
    "colab": {},
    "colab_type": "code",
    "id": "yuU_xCHRfN43"
   },
   "outputs": [],
   "source": [
    "from sklearn.model_selection import train_test_split\n",
    "SEED = 50\n",
    "x_train, x_validation_and_test, y_train, y_validation_and_test = train_test_split(x, y, test_size=.15, random_state=SEED)\n",
    "x_validation, x_test, y_validation, y_test = train_test_split(x_validation_and_test, y_validation_and_test, test_size=.15, random_state=SEED)"
   ]
  },
  {
   "cell_type": "code",
   "execution_count": 8,
   "metadata": {
    "colab": {
     "base_uri": "https://localhost:8080/",
     "height": 68
    },
    "colab_type": "code",
    "executionInfo": {
     "elapsed": 963,
     "status": "ok",
     "timestamp": 1547689607770,
     "user": {
      "displayName": "Preeti Mainak",
      "photoUrl": "",
      "userId": "02089753100743727556"
     },
     "user_tz": -330
    },
    "id": "s5Y6di_rfRjq",
    "outputId": "27400973-8b84-4ac9-e06d-dad8240fc11f"
   },
   "outputs": [
    {
     "name": "stdout",
     "output_type": "stream",
     "text": [
      "Train set has total 11253 entries with 66.73% negative, 33.27% positive\n",
      "Validation set has total 1688 entries with 67.00% negative, 33.00% positive\n",
      "Test set has total 298 entries with 66.78% negative, 33.22% positive\n"
     ]
    }
   ],
   "source": [
    "\n",
    "\n",
    "\n",
    "print (\"Train set has total {0} entries with {1:.2f}% negative, {2:.2f}% positive\".format(len(x_train),\n",
    "                                                                             (len(x_train[y_train == 0]) / (len(x_train)*1.))*100,\n",
    "                                                                            (len(x_train[y_train == 1]) / (len(x_train)*1.))*100))\n",
    "print (\"Validation set has total {0} entries with {1:.2f}% negative, {2:.2f}% positive\".format(len(x_validation),\n",
    "                                                                             (len(x_validation[y_validation == 0]) / (len(x_validation)*1.))*100,\n",
    "                                                                            (len(x_validation[y_validation == 1]) / (len(x_validation)*1.))*100))\n",
    "print (\"Test set has total {0} entries with {1:.2f}% negative, {2:.2f}% positive\".format(len(x_test),\n",
    "                                                                             (len(x_test[y_test == 0]) / (len(x_test)*1.))*100,\n",
    "                                                                            (len(x_test[y_test == 1]) / (len(x_test)*1.))*100))\n",
    "\n"
   ]
  },
  {
   "cell_type": "code",
   "execution_count": 9,
   "metadata": {
    "colab": {
     "base_uri": "https://localhost:8080/",
     "height": 51
    },
    "colab_type": "code",
    "executionInfo": {
     "elapsed": 3216,
     "status": "ok",
     "timestamp": 1547689656709,
     "user": {
      "displayName": "Preeti Mainak",
      "photoUrl": "",
      "userId": "02089753100743727556"
     },
     "user_tz": -330
    },
    "id": "vtvJpEW5fT3J",
    "outputId": "2d191a82-5d26-4372-e8cf-d3a74d7ec3cb"
   },
   "outputs": [
    {
     "name": "stdout",
     "output_type": "stream",
     "text": [
      "Loaded the word list!\n",
      "Loaded the word vectors!\n"
     ]
    }
   ],
   "source": [
    "wordsList = np.load('wordList-300.npy')\n",
    "print('Loaded the word list!')\n",
    "wordsList = wordsList.tolist() #Originally loaded as numpy array\n",
    "wordsList = [word.decode('UTF-8') for word in wordsList] #Encode words as UTF-8\n",
    "wordVectors = np.load('wordVectors-300.npy')\n",
    "print ('Loaded the word vectors!')"
   ]
  },
  {
   "cell_type": "code",
   "execution_count": 10,
   "metadata": {
    "colab": {
     "base_uri": "https://localhost:8080/",
     "height": 51
    },
    "colab_type": "code",
    "executionInfo": {
     "elapsed": 953,
     "status": "ok",
     "timestamp": 1547692459465,
     "user": {
      "displayName": "Preeti Mainak",
      "photoUrl": "",
      "userId": "02089753100743727556"
     },
     "user_tz": -330
    },
    "id": "aSmrVPymqGty",
    "outputId": "27405961-e7e8-4c17-a59e-0d9e8803d589"
   },
   "outputs": [
    {
     "name": "stdout",
     "output_type": "stream",
     "text": [
      "400000\n",
      "(400000, 300)\n"
     ]
    }
   ],
   "source": [
    "print(len(wordsList))\n",
    "print(wordVectors.shape)"
   ]
  },
  {
   "cell_type": "code",
   "execution_count": 11,
   "metadata": {
    "colab": {
     "base_uri": "https://localhost:8080/",
     "height": 51
    },
    "colab_type": "code",
    "executionInfo": {
     "elapsed": 2098,
     "status": "ok",
     "timestamp": 1547689683085,
     "user": {
      "displayName": "Preeti Mainak",
      "photoUrl": "",
      "userId": "02089753100743727556"
     },
     "user_tz": -330
    },
    "id": "uRAoL7nVffRh",
    "outputId": "c8872e1d-fba4-47a2-a756-e01d186db87a"
   },
   "outputs": [
    {
     "name": "stdout",
     "output_type": "stream",
     "text": [
      "(10,)\n",
      "[   41   804     0  1005    15  7446     5 13767     0     0]\n"
     ]
    }
   ],
   "source": [
    "import tensorflow as tf\n",
    "maxSeqLength = 10 #Maximum length of sentence\n",
    "numDimensions = 300 #Dimensions for each word vector\n",
    "firstSentence = np.zeros((maxSeqLength), dtype='int32')\n",
    "firstSentence[0] = wordsList.index(\"i\")\n",
    "firstSentence[1] = wordsList.index(\"thought\")\n",
    "firstSentence[2] = wordsList.index(\"the\")\n",
    "firstSentence[3] = wordsList.index(\"movie\")\n",
    "firstSentence[4] = wordsList.index(\"was\")\n",
    "firstSentence[5] = wordsList.index(\"incredible\")\n",
    "firstSentence[6] = wordsList.index(\"and\")\n",
    "firstSentence[7] = wordsList.index(\"inspiring\")\n",
    "#firstSentence[8] and firstSentence[9] are going to be 0\n",
    "print(firstSentence.shape)\n",
    "print(firstSentence) #Shows the row index for each word"
   ]
  },
  {
   "cell_type": "code",
   "execution_count": 12,
   "metadata": {
    "colab": {
     "base_uri": "https://localhost:8080/",
     "height": 68
    },
    "colab_type": "code",
    "executionInfo": {
     "elapsed": 988,
     "status": "ok",
     "timestamp": 1547689775365,
     "user": {
      "displayName": "Preeti Mainak",
      "photoUrl": "",
      "userId": "02089753100743727556"
     },
     "user_tz": -330
    },
    "id": "t8bmj4XDfl9M",
    "outputId": "fac45352-f5a2-4452-9067-fec204f69379"
   },
   "outputs": [
    {
     "name": "stdout",
     "output_type": "stream",
     "text": [
      "The total number of files is 13239\n",
      "The total number of words in the files is 244085\n",
      "The average number of words in the files is 18.436815469446334\n"
     ]
    }
   ],
   "source": [
    "#from os import listdir\n",
    "#from os.path import isfile, join\n",
    "#positiveFiles = ['positiveReviews/' + f for f in listdir('positiveReviews/') if isfile(join('positiveReviews/', f))]\n",
    "#negativeFiles = ['negativeReviews/' + f for f in listdir('negativeReviews/') if isfile(join('negativeReviews/', f))]\n",
    "numWords = []\n",
    "k = my_df.text\n",
    "k = np.array(k)\n",
    "\n",
    "for i in range(len(k)) :\n",
    "  line = str(k[i])\n",
    "  counter = len(line.split())\n",
    "  numWords.append(counter)\n",
    "  \n",
    "  \n",
    "\n",
    "#for pf in positiveFiles:\n",
    "#    with open(pf, \"r\", encoding='utf-8') as f:\n",
    "#        line=f.readline()\n",
    "#        counter = len(line.split())\n",
    "#        numWords.append(counter)       \n",
    "#print('Positive files finished')\n",
    "\n",
    "#for nf in negativeFiles:\n",
    "#    with open(nf, \"r\", encoding='utf-8') as f:\n",
    "#        line=f.readline()\n",
    "#        counter = len(line.split())\n",
    "#        numWords.append(counter)  \n",
    "#print('Negative files finished')\n",
    "\n",
    "numFiles = len(numWords)\n",
    "print('The total number of files is', numFiles)\n",
    "print('The total number of words in the files is', sum(numWords))\n",
    "print('The average number of words in the files is', sum(numWords)/len(numWords))\n",
    "\n"
   ]
  },
  {
   "cell_type": "code",
   "execution_count": 13,
   "metadata": {
    "colab": {
     "base_uri": "https://localhost:8080/",
     "height": 34
    },
    "colab_type": "code",
    "executionInfo": {
     "elapsed": 2800,
     "status": "ok",
     "timestamp": 1547689796597,
     "user": {
      "displayName": "Preeti Mainak",
      "photoUrl": "",
      "userId": "02089753100743727556"
     },
     "user_tz": -330
    },
    "id": "3pZN3rvOf4Cp",
    "outputId": "12555c94-9f86-47b3-917b-45940de74e5e"
   },
   "outputs": [
    {
     "name": "stdout",
     "output_type": "stream",
     "text": [
      "(10, 300)\n"
     ]
    }
   ],
   "source": [
    "with tf.Session() as sess:\n",
    "    print(tf.nn.embedding_lookup(wordVectors,firstSentence).eval().shape)"
   ]
  },
  {
   "cell_type": "code",
   "execution_count": 14,
   "metadata": {
    "colab": {},
    "colab_type": "code",
    "id": "TW63tT9agBha"
   },
   "outputs": [],
   "source": [
    "k = my_df.text\n",
    "k = np.array(k)"
   ]
  },
  {
   "cell_type": "code",
   "execution_count": 15,
   "metadata": {
    "colab": {},
    "colab_type": "code",
    "id": "u81JPokAgMcA"
   },
   "outputs": [],
   "source": [
    "maxSeqLength = 65"
   ]
  },
  {
   "cell_type": "code",
   "execution_count": 16,
   "metadata": {
    "colab": {},
    "colab_type": "code",
    "id": "4qPifcbIgSI9"
   },
   "outputs": [],
   "source": [
    "# Removes punctuation, parentheses, question marks, etc., and leaves only alphanumeric characters\n",
    "import re\n",
    "strip_special_chars = re.compile(\"[^A-Za-z0-9 ]+\")\n",
    "\n",
    "def cleanSentences(string):\n",
    "    string = string.lower().replace(\"<br />\", \" \")\n",
    "    return re.sub(strip_special_chars, \"\", string.lower())"
   ]
  },
  {
   "cell_type": "code",
   "execution_count": 0,
   "metadata": {
    "colab": {},
    "colab_type": "code",
    "id": "Or-jayvagVuC"
   },
   "outputs": [],
   "source": [
    "ids = np.zeros((numFiles, maxSeqLength), dtype='int32')\n",
    "fileCounter = 0\n",
    "\n",
    "for i in range(len(k)) :\n",
    "  indexCounter = 0\n",
    "  line = str(k[i])\n",
    "  cleanedLine = cleanSentences(line)\n",
    "  split = cleanedLine.split()\n",
    "  for word in split:\n",
    "    try :\n",
    "      ids[fileCounter][indexCounter] = wordsList.index(word)\n",
    "    except ValueError:\n",
    "      ids[fileCounter][indexCounter] = 399999\n",
    "      \n",
    "    indexCounter = indexCounter + 1  \n",
    "    if indexCounter >= maxSeqLength:\n",
    "      break\n",
    "  fileCounter = fileCounter + 1   \n",
    "      \n",
    "      \n",
    "      \n",
    "\n",
    "# for pf in positiveFiles:\n",
    "#    with open(pf, \"r\") as f:\n",
    "#        indexCounter = 0\n",
    "#        line=f.readline()\n",
    "#        cleanedLine = cleanSentences(line)\n",
    "#        split = cleanedLine.split()\n",
    "#        for word in split:\n",
    "#            try:\n",
    "#                ids[fileCounter][indexCounter] = wordsList.index(word)\n",
    "#            except ValueError:\n",
    "#                ids[fileCounter][indexCounter] = 399999 #Vector for unkown words\n",
    "#            indexCounter = indexCounter + 1\n",
    "#            if indexCounter >= maxSeqLength:\n",
    "#                break\n",
    "#        fileCounter = fileCounter + 1 \n",
    "\n",
    "# for nf in negativeFiles:\n",
    "#    with open(nf, \"r\") as f:\n",
    "#        indexCounter = 0\n",
    "#        line=f.readline()\n",
    "#        cleanedLine = cleanSentences(line)\n",
    "#        split = cleanedLine.split()\n",
    "#        for word in split:\n",
    "#            try:\n",
    "#                ids[fileCounter][indexCounter] = wordsList.index(word)\n",
    "#            except ValueError:\n",
    "#                ids[fileCounter][indexCounter] = 399999 #Vector for unkown words\n",
    "#            indexCounter = indexCounter + 1\n",
    "#            if indexCounter >= maxSeqLength:\n",
    "#                break\n",
    "#        fileCounter = fileCounter + 1 \n",
    "# #Pass into embedding function and see if it evaluates. \n",
    "\n",
    "# np.save('idsMatrix', ids)"
   ]
  },
  {
   "cell_type": "code",
   "execution_count": 0,
   "metadata": {
    "colab": {},
    "colab_type": "code",
    "id": "NNA-Rr2XgcpL"
   },
   "outputs": [],
   "source": [
    "np.save('idsMatrix', ids)"
   ]
  },
  {
   "cell_type": "code",
   "execution_count": 0,
   "metadata": {
    "colab": {
     "base_uri": "https://localhost:8080/",
     "height": 34
    },
    "colab_type": "code",
    "executionInfo": {
     "elapsed": 910,
     "status": "ok",
     "timestamp": 1547689994234,
     "user": {
      "displayName": "Preeti Mainak",
      "photoUrl": "",
      "userId": "02089753100743727556"
     },
     "user_tz": -330
    },
    "id": "w3WypB6Fgwj2",
    "outputId": "9b54be40-6c45-488e-f579-2638a8bf0128"
   },
   "outputs": [
    {
     "data": {
      "text/plain": [
       "13239"
      ]
     },
     "execution_count": 32,
     "metadata": {
      "tags": []
     },
     "output_type": "execute_result"
    }
   ],
   "source": [
    "len(ids)"
   ]
  },
  {
   "cell_type": "code",
   "execution_count": 0,
   "metadata": {
    "colab": {
     "base_uri": "https://localhost:8080/",
     "height": 136
    },
    "colab_type": "code",
    "executionInfo": {
     "elapsed": 850,
     "status": "ok",
     "timestamp": 1547690103769,
     "user": {
      "displayName": "Preeti Mainak",
      "photoUrl": "",
      "userId": "02089753100743727556"
     },
     "user_tz": -330
    },
    "id": "vXmraQZbgyPD",
    "outputId": "31d3b29e-9f3a-4858-b807-171414f1cc9e"
   },
   "outputs": [
    {
     "data": {
      "text/plain": [
       "array([  67,  189, 1712,  306, 1683,  827,  102,   44,  190,   13,   37,\n",
       "         14,    0,    0,    0,    0,    0,    0,    0,    0,    0,    0,\n",
       "          0,    0,    0,    0,    0,    0,    0,    0,    0,    0,    0,\n",
       "          0,    0,    0,    0,    0,    0,    0,    0,    0,    0,    0,\n",
       "          0,    0,    0,    0,    0,    0,    0,    0,    0,    0,    0,\n",
       "          0,    0,    0,    0,    0,    0,    0,    0,    0,    0],\n",
       "      dtype=int32)"
      ]
     },
     "execution_count": 33,
     "metadata": {
      "tags": []
     },
     "output_type": "execute_result"
    }
   ],
   "source": [
    "ids[0]"
   ]
  },
  {
   "cell_type": "code",
   "execution_count": 0,
   "metadata": {
    "colab": {
     "base_uri": "https://localhost:8080/",
     "height": 163
    },
    "colab_type": "code",
    "executionInfo": {
     "elapsed": 994,
     "status": "error",
     "timestamp": 1547690113623,
     "user": {
      "displayName": "Preeti Mainak",
      "photoUrl": "",
      "userId": "02089753100743727556"
     },
     "user_tz": -330
    },
    "id": "EJ9gbp3ihM9-",
    "outputId": "eb7cf44b-cba5-4cb5-e245-706de2ffd5c6"
   },
   "outputs": [
    {
     "ename": "IndexError",
     "evalue": "ignored",
     "output_type": "error",
     "traceback": [
      "\u001b[0;31m---------------------------------------------------------------------------\u001b[0m",
      "\u001b[0;31mIndexError\u001b[0m                                Traceback (most recent call last)",
      "\u001b[0;32m<ipython-input-34-60efbc639ed5>\u001b[0m in \u001b[0;36m<module>\u001b[0;34m()\u001b[0m\n\u001b[0;32m----> 1\u001b[0;31m \u001b[0mids\u001b[0m\u001b[0;34m[\u001b[0m\u001b[0;36m13239\u001b[0m\u001b[0;34m]\u001b[0m\u001b[0;34m\u001b[0m\u001b[0;34m\u001b[0m\u001b[0m\n\u001b[0m",
      "\u001b[0;31mIndexError\u001b[0m: index 13239 is out of bounds for axis 0 with size 13239"
     ]
    }
   ],
   "source": [
    "ids[13239]"
   ]
  },
  {
   "cell_type": "code",
   "execution_count": 0,
   "metadata": {
    "colab": {
     "base_uri": "https://localhost:8080/",
     "height": 51
    },
    "colab_type": "code",
    "executionInfo": {
     "elapsed": 3336,
     "status": "ok",
     "timestamp": 1547690264440,
     "user": {
      "displayName": "Preeti Mainak",
      "photoUrl": "",
      "userId": "02089753100743727556"
     },
     "user_tz": -330
    },
    "id": "IoWtH_LohPWp",
    "outputId": "b402466c-95d7-41ef-9327-e6bea3708b59"
   },
   "outputs": [
    {
     "name": "stdout",
     "output_type": "stream",
     "text": [
      "'Copy of idsMatrix.npy'   Untitled0.ipynb   wordVectors.npy\n",
      " train_clean.csv\t  wordList.npy\n"
     ]
    }
   ],
   "source": [
    "!ls"
   ]
  },
  {
   "cell_type": "code",
   "execution_count": 0,
   "metadata": {
    "colab": {},
    "colab_type": "code",
    "id": "kDsBGYKDhzj9"
   },
   "outputs": [],
   "source": [
    "ids1 = np.load('idsMatrix.npy')"
   ]
  },
  {
   "cell_type": "code",
   "execution_count": 0,
   "metadata": {
    "colab": {
     "base_uri": "https://localhost:8080/",
     "height": 34
    },
    "colab_type": "code",
    "executionInfo": {
     "elapsed": 973,
     "status": "ok",
     "timestamp": 1547690437691,
     "user": {
      "displayName": "Preeti Mainak",
      "photoUrl": "",
      "userId": "02089753100743727556"
     },
     "user_tz": -330
    },
    "id": "9HYNl2YHh6hl",
    "outputId": "dd956728-52da-4003-bb3e-fd29ace29aa4"
   },
   "outputs": [
    {
     "data": {
      "text/plain": [
       "'vs and is'"
      ]
     },
     "execution_count": 41,
     "metadata": {
      "tags": []
     },
     "output_type": "execute_result"
    }
   ],
   "source": [
    "my_df.text[13238]"
   ]
  },
  {
   "cell_type": "code",
   "execution_count": 0,
   "metadata": {
    "colab": {
     "base_uri": "https://localhost:8080/",
     "height": 136
    },
    "colab_type": "code",
    "executionInfo": {
     "elapsed": 1251,
     "status": "ok",
     "timestamp": 1547690446773,
     "user": {
      "displayName": "Preeti Mainak",
      "photoUrl": "",
      "userId": "02089753100743727556"
     },
     "user_tz": -330
    },
    "id": "3NxpfQOth5-G",
    "outputId": "bb616c3e-92bf-4962-f97f-b2f3ea3dfed2"
   },
   "outputs": [
    {
     "data": {
      "text/plain": [
       "array([7091,    5,   14,    0,    0,    0,    0,    0,    0,    0,    0,\n",
       "          0,    0,    0,    0,    0,    0,    0,    0,    0,    0,    0,\n",
       "          0,    0,    0,    0,    0,    0,    0,    0,    0,    0,    0,\n",
       "          0,    0,    0,    0,    0,    0,    0,    0,    0,    0,    0,\n",
       "          0,    0,    0,    0,    0,    0,    0,    0,    0,    0,    0,\n",
       "          0,    0,    0,    0,    0,    0,    0,    0,    0,    0],\n",
       "      dtype=int32)"
      ]
     },
     "execution_count": 42,
     "metadata": {
      "tags": []
     },
     "output_type": "execute_result"
    }
   ],
   "source": [
    "ids[13238]"
   ]
  },
  {
   "cell_type": "code",
   "execution_count": 0,
   "metadata": {
    "colab": {},
    "colab_type": "code",
    "id": "dZjMXRGriQso"
   },
   "outputs": [],
   "source": [
    "my_df['seq'] = ids.tolist()"
   ]
  },
  {
   "cell_type": "code",
   "execution_count": 0,
   "metadata": {
    "colab": {
     "base_uri": "https://localhost:8080/",
     "height": 1969
    },
    "colab_type": "code",
    "executionInfo": {
     "elapsed": 935,
     "status": "ok",
     "timestamp": 1547691101289,
     "user": {
      "displayName": "Preeti Mainak",
      "photoUrl": "",
      "userId": "02089753100743727556"
     },
     "user_tz": -330
    },
    "id": "9hrTeiQgkOab",
    "outputId": "7dd81a4a-099f-47b2-9124-0c2f7fb44dcf"
   },
   "outputs": [
    {
     "data": {
      "text/html": [
       "<div>\n",
       "<style scoped>\n",
       "    .dataframe tbody tr th:only-of-type {\n",
       "        vertical-align: middle;\n",
       "    }\n",
       "\n",
       "    .dataframe tbody tr th {\n",
       "        vertical-align: top;\n",
       "    }\n",
       "\n",
       "    .dataframe thead th {\n",
       "        text-align: right;\n",
       "    }\n",
       "</style>\n",
       "<table border=\"1\" class=\"dataframe\">\n",
       "  <thead>\n",
       "    <tr style=\"text-align: right;\">\n",
       "      <th></th>\n",
       "      <th>id</th>\n",
       "      <th>text</th>\n",
       "      <th>target</th>\n",
       "      <th>seq</th>\n",
       "    </tr>\n",
       "  </thead>\n",
       "  <tbody>\n",
       "    <tr>\n",
       "      <th>0</th>\n",
       "      <td>86426</td>\n",
       "      <td>she should ask few native americans what their...</td>\n",
       "      <td>1</td>\n",
       "      <td>[67, 189, 1712, 306, 1683, 827, 102, 44, 190, ...</td>\n",
       "    </tr>\n",
       "    <tr>\n",
       "      <th>1</th>\n",
       "      <td>90194</td>\n",
       "      <td>go home you re drunk</td>\n",
       "      <td>1</td>\n",
       "      <td>[242, 163, 81, 1765, 8862, 0, 0, 0, 0, 0, 0, 0...</td>\n",
       "    </tr>\n",
       "    <tr>\n",
       "      <th>2</th>\n",
       "      <td>16820</td>\n",
       "      <td>amazon is investigating chinese employees who ...</td>\n",
       "      <td>0</td>\n",
       "      <td>[8427, 14, 3463, 327, 1242, 38, 32, 1514, 2169...</td>\n",
       "    </tr>\n",
       "    <tr>\n",
       "      <th>3</th>\n",
       "      <td>62688</td>\n",
       "      <td>someone should vetaken this piece of shit to v...</td>\n",
       "      <td>1</td>\n",
       "      <td>[1318, 189, 399999, 37, 2365, 3, 34855, 4, 855...</td>\n",
       "    </tr>\n",
       "    <tr>\n",
       "      <th>4</th>\n",
       "      <td>43605</td>\n",
       "      <td>obama wanted liberals amp illegals to move int...</td>\n",
       "      <td>0</td>\n",
       "      <td>[765, 741, 8193, 8457, 38273, 4, 483, 75, 639,...</td>\n",
       "    </tr>\n",
       "    <tr>\n",
       "      <th>5</th>\n",
       "      <td>97670</td>\n",
       "      <td>liberals are all kookoo</td>\n",
       "      <td>1</td>\n",
       "      <td>[8193, 32, 64, 399999, 0, 0, 0, 0, 0, 0, 0, 0,...</td>\n",
       "    </tr>\n",
       "    <tr>\n",
       "      <th>6</th>\n",
       "      <td>77444</td>\n",
       "      <td>oh noes tough shit</td>\n",
       "      <td>1</td>\n",
       "      <td>[3202, 68385, 1595, 34855, 0, 0, 0, 0, 0, 0, 0...</td>\n",
       "    </tr>\n",
       "    <tr>\n",
       "      <th>7</th>\n",
       "      <td>52415</td>\n",
       "      <td>was literally just talking about this lol all ...</td>\n",
       "      <td>1</td>\n",
       "      <td>[15, 5917, 120, 1901, 59, 37, 73048, 64, 1329,...</td>\n",
       "    </tr>\n",
       "    <tr>\n",
       "      <th>8</th>\n",
       "      <td>45157</td>\n",
       "      <td>buy more icecream</td>\n",
       "      <td>0</td>\n",
       "      <td>[987, 56, 244867, 0, 0, 0, 0, 0, 0, 0, 0, 0, 0...</td>\n",
       "    </tr>\n",
       "    <tr>\n",
       "      <th>9</th>\n",
       "      <td>13384</td>\n",
       "      <td>canada doesn need another cuck we already have...</td>\n",
       "      <td>1</td>\n",
       "      <td>[774, 66019, 408, 170, 399999, 53, 411, 33, 57...</td>\n",
       "    </tr>\n",
       "    <tr>\n",
       "      <th>10</th>\n",
       "      <td>82776</td>\n",
       "      <td>it not my fault you support gun control</td>\n",
       "      <td>0</td>\n",
       "      <td>[20, 36, 192, 6055, 81, 280, 2019, 424, 0, 0, ...</td>\n",
       "    </tr>\n",
       "    <tr>\n",
       "      <th>11</th>\n",
       "      <td>42992</td>\n",
       "      <td>what the difference between and one of these m...</td>\n",
       "      <td>0</td>\n",
       "      <td>[102, 0, 2333, 118, 5, 48, 3, 158, 301, 2084, ...</td>\n",
       "    </tr>\n",
       "    <tr>\n",
       "      <th>12</th>\n",
       "      <td>28414</td>\n",
       "      <td>you are lying corrupt traitor nobody wants to ...</td>\n",
       "      <td>1</td>\n",
       "      <td>[81, 32, 4739, 6826, 18897, 3291, 1025, 4, 227...</td>\n",
       "    </tr>\n",
       "    <tr>\n",
       "      <th>13</th>\n",
       "      <td>54920</td>\n",
       "      <td>it should scare every american she is playing ...</td>\n",
       "      <td>0</td>\n",
       "      <td>[20, 189, 8190, 359, 140, 67, 14, 697, 2354, 1...</td>\n",
       "    </tr>\n",
       "    <tr>\n",
       "      <th>14</th>\n",
       "      <td>56392</td>\n",
       "      <td>like my soda like like my boarders with lot of...</td>\n",
       "      <td>0</td>\n",
       "      <td>[117, 192, 12714, 117, 117, 192, 41944, 17, 53...</td>\n",
       "    </tr>\n",
       "    <tr>\n",
       "      <th>15</th>\n",
       "      <td>86735</td>\n",
       "      <td>you are also the king of taste</td>\n",
       "      <td>0</td>\n",
       "      <td>[81, 32, 52, 0, 691, 3, 4374, 0, 0, 0, 0, 0, 0...</td>\n",
       "    </tr>\n",
       "    <tr>\n",
       "      <th>16</th>\n",
       "      <td>95686</td>\n",
       "      <td>sing like no one is listening love like you ve...</td>\n",
       "      <td>0</td>\n",
       "      <td>[5622, 117, 84, 48, 14, 6146, 835, 117, 81, 37...</td>\n",
       "    </tr>\n",
       "    <tr>\n",
       "      <th>17</th>\n",
       "      <td>71446</td>\n",
       "      <td>the time is right for this house to respond to...</td>\n",
       "      <td>0</td>\n",
       "      <td>[0, 79, 14, 248, 10, 37, 166, 4, 3360, 4, 0, 1...</td>\n",
       "    </tr>\n",
       "    <tr>\n",
       "      <th>18</th>\n",
       "      <td>23958</td>\n",
       "      <td>besides jax mom and maybe ope he is hands down...</td>\n",
       "      <td>0</td>\n",
       "      <td>[3606, 58535, 6075, 5, 1881, 176328, 18, 14, 1...</td>\n",
       "    </tr>\n",
       "    <tr>\n",
       "      <th>19</th>\n",
       "      <td>28195</td>\n",
       "      <td>gun control that is all these kids are asking for</td>\n",
       "      <td>1</td>\n",
       "      <td>[2019, 424, 12, 14, 64, 158, 1813, 32, 2619, 1...</td>\n",
       "    </tr>\n",
       "    <tr>\n",
       "      <th>20</th>\n",
       "      <td>56117</td>\n",
       "      <td>lol throwing the bullshit flag on such nonsense</td>\n",
       "      <td>1</td>\n",
       "      <td>[73048, 4558, 0, 87375, 2808, 13, 125, 12585, ...</td>\n",
       "    </tr>\n",
       "    <tr>\n",
       "      <th>21</th>\n",
       "      <td>67757</td>\n",
       "      <td>you are correct</td>\n",
       "      <td>0</td>\n",
       "      <td>[81, 32, 3952, 0, 0, 0, 0, 0, 0, 0, 0, 0, 0, 0...</td>\n",
       "    </tr>\n",
       "    <tr>\n",
       "      <th>22</th>\n",
       "      <td>12681</td>\n",
       "      <td>kind of like when conservatives wanna associat...</td>\n",
       "      <td>1</td>\n",
       "      <td>[921, 3, 117, 61, 4189, 21128, 3891, 1402, 4, ...</td>\n",
       "    </tr>\n",
       "    <tr>\n",
       "      <th>23</th>\n",
       "      <td>82904</td>\n",
       "      <td>da fuck is going on people there the men room ...</td>\n",
       "      <td>1</td>\n",
       "      <td>[4622, 35690, 14, 222, 13, 69, 63, 0, 301, 927...</td>\n",
       "    </tr>\n",
       "    <tr>\n",
       "      <th>24</th>\n",
       "      <td>63236</td>\n",
       "      <td>been willie fan since before most of you were ...</td>\n",
       "      <td>0</td>\n",
       "      <td>[51, 8207, 3267, 108, 106, 96, 3, 81, 35, 379,...</td>\n",
       "    </tr>\n",
       "    <tr>\n",
       "      <th>25</th>\n",
       "      <td>77665</td>\n",
       "      <td>tbh these days just do not like people in gene...</td>\n",
       "      <td>1</td>\n",
       "      <td>[399999, 158, 249, 120, 88, 36, 117, 69, 6, 21...</td>\n",
       "    </tr>\n",
       "    <tr>\n",
       "      <th>26</th>\n",
       "      <td>83484</td>\n",
       "      <td>south korean official leaders will discuss spe...</td>\n",
       "      <td>0</td>\n",
       "      <td>[139, 1091, 239, 381, 43, 1471, 1902, 399999, ...</td>\n",
       "    </tr>\n",
       "    <tr>\n",
       "      <th>27</th>\n",
       "      <td>74932</td>\n",
       "      <td>you can tell he is hooper too</td>\n",
       "      <td>0</td>\n",
       "      <td>[81, 86, 1361, 18, 14, 17758, 317, 0, 0, 0, 0,...</td>\n",
       "    </tr>\n",
       "    <tr>\n",
       "      <th>28</th>\n",
       "      <td>91252</td>\n",
       "      <td>feel like he is better chasing the title</td>\n",
       "      <td>0</td>\n",
       "      <td>[998, 117, 18, 14, 439, 8524, 0, 698, 0, 0, 0,...</td>\n",
       "    </tr>\n",
       "    <tr>\n",
       "      <th>29</th>\n",
       "      <td>25440</td>\n",
       "      <td>she to whom are you referring to hillary you k...</td>\n",
       "      <td>1</td>\n",
       "      <td>[67, 4, 1231, 32, 81, 2558, 4, 4539, 81, 346, ...</td>\n",
       "    </tr>\n",
       "    <tr>\n",
       "      <th>...</th>\n",
       "      <td>...</td>\n",
       "      <td>...</td>\n",
       "      <td>...</td>\n",
       "      <td>...</td>\n",
       "    </tr>\n",
       "    <tr>\n",
       "      <th>13209</th>\n",
       "      <td>73518</td>\n",
       "      <td>he is he is so precious</td>\n",
       "      <td>0</td>\n",
       "      <td>[18, 14, 18, 14, 100, 7569, 0, 0, 0, 0, 0, 0, ...</td>\n",
       "    </tr>\n",
       "    <tr>\n",
       "      <th>13210</th>\n",
       "      <td>51204</td>\n",
       "      <td>booooring</td>\n",
       "      <td>0</td>\n",
       "      <td>[399999, 0, 0, 0, 0, 0, 0, 0, 0, 0, 0, 0, 0, 0...</td>\n",
       "    </tr>\n",
       "    <tr>\n",
       "      <th>13211</th>\n",
       "      <td>93164</td>\n",
       "      <td>everything else was ten years ago you are liar...</td>\n",
       "      <td>1</td>\n",
       "      <td>[1174, 1726, 15, 1705, 82, 363, 81, 32, 18939,...</td>\n",
       "    </tr>\n",
       "    <tr>\n",
       "      <th>13212</th>\n",
       "      <td>98218</td>\n",
       "      <td>right dang she is the</td>\n",
       "      <td>0</td>\n",
       "      <td>[248, 35548, 67, 14, 0, 0, 0, 0, 0, 0, 0, 0, 0...</td>\n",
       "    </tr>\n",
       "    <tr>\n",
       "      <th>13213</th>\n",
       "      <td>94976</td>\n",
       "      <td>mcraven engaged in publicity stunt he never sp...</td>\n",
       "      <td>0</td>\n",
       "      <td>[305043, 3356, 6, 6078, 12813, 18, 332, 1809, ...</td>\n",
       "    </tr>\n",
       "    <tr>\n",
       "      <th>13214</th>\n",
       "      <td>55677</td>\n",
       "      <td>oh man you are going to trigger the fanboys fa...</td>\n",
       "      <td>0</td>\n",
       "      <td>[3202, 300, 81, 32, 222, 4, 6624, 0, 147897, 3...</td>\n",
       "    </tr>\n",
       "    <tr>\n",
       "      <th>13215</th>\n",
       "      <td>17250</td>\n",
       "      <td>aw chelsea it never ends you are as always the...</td>\n",
       "      <td>0</td>\n",
       "      <td>[34849, 3856, 20, 332, 2441, 81, 32, 19, 690, ...</td>\n",
       "    </tr>\n",
       "    <tr>\n",
       "      <th>13216</th>\n",
       "      <td>61083</td>\n",
       "      <td>my head is fuckin egg</td>\n",
       "      <td>1</td>\n",
       "      <td>[192, 362, 14, 134264, 6593, 0, 0, 0, 0, 0, 0,...</td>\n",
       "    </tr>\n",
       "    <tr>\n",
       "      <th>13217</th>\n",
       "      <td>39742</td>\n",
       "      <td>alt right amp antifa are for cowards</td>\n",
       "      <td>0</td>\n",
       "      <td>[26952, 248, 8457, 399999, 32, 10, 45632, 0, 0...</td>\n",
       "    </tr>\n",
       "    <tr>\n",
       "      <th>13218</th>\n",
       "      <td>72262</td>\n",
       "      <td>did you serve you rate at bottom of the barrel...</td>\n",
       "      <td>0</td>\n",
       "      <td>[119, 81, 1367, 81, 571, 22, 2389, 3, 0, 3401,...</td>\n",
       "    </tr>\n",
       "    <tr>\n",
       "      <th>13219</th>\n",
       "      <td>28996</td>\n",
       "      <td>is right to say that housing associations shou...</td>\n",
       "      <td>0</td>\n",
       "      <td>[14, 248, 4, 203, 12, 1457, 7051, 189, 30, 582...</td>\n",
       "    </tr>\n",
       "    <tr>\n",
       "      <th>13220</th>\n",
       "      <td>20121</td>\n",
       "      <td>is just trying to make good with his libnut el...</td>\n",
       "      <td>0</td>\n",
       "      <td>[14, 120, 595, 4, 159, 219, 17, 26, 399999, 31...</td>\n",
       "    </tr>\n",
       "    <tr>\n",
       "      <th>13221</th>\n",
       "      <td>64713</td>\n",
       "      <td>boise state fan so can tell you two things abo...</td>\n",
       "      <td>0</td>\n",
       "      <td>[18112, 92, 3267, 100, 86, 1361, 81, 55, 654, ...</td>\n",
       "    </tr>\n",
       "    <tr>\n",
       "      <th>13222</th>\n",
       "      <td>63482</td>\n",
       "      <td>is advocating for conduct within bounds of hum...</td>\n",
       "      <td>1</td>\n",
       "      <td>[14, 13518, 10, 2627, 425, 13910, 3, 473, 417,...</td>\n",
       "    </tr>\n",
       "    <tr>\n",
       "      <th>13223</th>\n",
       "      <td>33567</td>\n",
       "      <td>so have the conservatives accepted the antisem...</td>\n",
       "      <td>0</td>\n",
       "      <td>[100, 33, 0, 4189, 2117, 0, 38118, 4743, 553, ...</td>\n",
       "    </tr>\n",
       "    <tr>\n",
       "      <th>13224</th>\n",
       "      <td>22965</td>\n",
       "      <td>can we all agree that tomlins seat is heating ...</td>\n",
       "      <td>0</td>\n",
       "      <td>[86, 53, 64, 2137, 12, 311689, 1633, 14, 6011,...</td>\n",
       "    </tr>\n",
       "    <tr>\n",
       "      <th>13225</th>\n",
       "      <td>11132</td>\n",
       "      <td>when you coming to ohio</td>\n",
       "      <td>0</td>\n",
       "      <td>[61, 81, 781, 4, 1992, 0, 0, 0, 0, 0, 0, 0, 0,...</td>\n",
       "    </tr>\n",
       "    <tr>\n",
       "      <th>13226</th>\n",
       "      <td>87416</td>\n",
       "      <td>liars like the antifa twins you vigorously defend</td>\n",
       "      <td>1</td>\n",
       "      <td>[34520, 117, 0, 399999, 6261, 81, 11281, 3228,...</td>\n",
       "    </tr>\n",
       "    <tr>\n",
       "      <th>13227</th>\n",
       "      <td>56034</td>\n",
       "      <td>he is involved because he was there now he nee...</td>\n",
       "      <td>0</td>\n",
       "      <td>[18, 14, 791, 113, 18, 15, 63, 114, 18, 1075, ...</td>\n",
       "    </tr>\n",
       "    <tr>\n",
       "      <th>13228</th>\n",
       "      <td>34461</td>\n",
       "      <td>how much lonely she is and how much she misses...</td>\n",
       "      <td>0</td>\n",
       "      <td>[197, 181, 10678, 67, 14, 5, 197, 181, 67, 133...</td>\n",
       "    </tr>\n",
       "    <tr>\n",
       "      <th>13229</th>\n",
       "      <td>90041</td>\n",
       "      <td>billy you have short memory obama tried to get...</td>\n",
       "      <td>0</td>\n",
       "      <td>[4785, 81, 33, 636, 2711, 765, 977, 4, 169, 6,...</td>\n",
       "    </tr>\n",
       "    <tr>\n",
       "      <th>13230</th>\n",
       "      <td>93038</td>\n",
       "      <td>but gun control</td>\n",
       "      <td>0</td>\n",
       "      <td>[34, 2019, 424, 0, 0, 0, 0, 0, 0, 0, 0, 0, 0, ...</td>\n",
       "    </tr>\n",
       "    <tr>\n",
       "      <th>13231</th>\n",
       "      <td>98824</td>\n",
       "      <td>she is not the brightest light on the tree</td>\n",
       "      <td>0</td>\n",
       "      <td>[67, 14, 36, 0, 19285, 897, 13, 0, 2654, 0, 0,...</td>\n",
       "    </tr>\n",
       "    <tr>\n",
       "      <th>13232</th>\n",
       "      <td>99696</td>\n",
       "      <td>if say you are mad now you will say tired of you</td>\n",
       "      <td>0</td>\n",
       "      <td>[83, 203, 81, 32, 5121, 114, 81, 43, 203, 5259...</td>\n",
       "    </tr>\n",
       "    <tr>\n",
       "      <th>13233</th>\n",
       "      <td>17500</td>\n",
       "      <td>retweet complete amp followed all patriots</td>\n",
       "      <td>0</td>\n",
       "      <td>[399999, 1336, 8457, 928, 64, 5216, 0, 0, 0, 0...</td>\n",
       "    </tr>\n",
       "    <tr>\n",
       "      <th>13234</th>\n",
       "      <td>95338</td>\n",
       "      <td>sometimes get strong vibes from people and thi...</td>\n",
       "      <td>1</td>\n",
       "      <td>[1071, 169, 562, 45487, 25, 69, 5, 37, 300, 22...</td>\n",
       "    </tr>\n",
       "    <tr>\n",
       "      <th>13235</th>\n",
       "      <td>67210</td>\n",
       "      <td>benidorm creamfields maga not too shabby of su...</td>\n",
       "      <td>0</td>\n",
       "      <td>[95993, 231217, 56066, 36, 317, 30416, 3, 740,...</td>\n",
       "    </tr>\n",
       "    <tr>\n",
       "      <th>13236</th>\n",
       "      <td>82921</td>\n",
       "      <td>and why report this garbage we do not give crap</td>\n",
       "      <td>1</td>\n",
       "      <td>[5, 738, 255, 37, 8308, 53, 88, 36, 455, 35404...</td>\n",
       "    </tr>\n",
       "    <tr>\n",
       "      <th>13237</th>\n",
       "      <td>27429</td>\n",
       "      <td>pussy</td>\n",
       "      <td>1</td>\n",
       "      <td>[55918, 0, 0, 0, 0, 0, 0, 0, 0, 0, 0, 0, 0, 0,...</td>\n",
       "    </tr>\n",
       "    <tr>\n",
       "      <th>13238</th>\n",
       "      <td>46552</td>\n",
       "      <td>vs and is</td>\n",
       "      <td>0</td>\n",
       "      <td>[7091, 5, 14, 0, 0, 0, 0, 0, 0, 0, 0, 0, 0, 0,...</td>\n",
       "    </tr>\n",
       "  </tbody>\n",
       "</table>\n",
       "<p>13239 rows × 4 columns</p>\n",
       "</div>"
      ],
      "text/plain": [
       "          id                                               text  target  \\\n",
       "0      86426  she should ask few native americans what their...       1   \n",
       "1      90194                               go home you re drunk       1   \n",
       "2      16820  amazon is investigating chinese employees who ...       0   \n",
       "3      62688  someone should vetaken this piece of shit to v...       1   \n",
       "4      43605  obama wanted liberals amp illegals to move int...       0   \n",
       "5      97670                            liberals are all kookoo       1   \n",
       "6      77444                                 oh noes tough shit       1   \n",
       "7      52415  was literally just talking about this lol all ...       1   \n",
       "8      45157                                  buy more icecream       0   \n",
       "9      13384  canada doesn need another cuck we already have...       1   \n",
       "10     82776            it not my fault you support gun control       0   \n",
       "11     42992  what the difference between and one of these m...       0   \n",
       "12     28414  you are lying corrupt traitor nobody wants to ...       1   \n",
       "13     54920  it should scare every american she is playing ...       0   \n",
       "14     56392  like my soda like like my boarders with lot of...       0   \n",
       "15     86735                     you are also the king of taste       0   \n",
       "16     95686  sing like no one is listening love like you ve...       0   \n",
       "17     71446  the time is right for this house to respond to...       0   \n",
       "18     23958  besides jax mom and maybe ope he is hands down...       0   \n",
       "19     28195  gun control that is all these kids are asking for       1   \n",
       "20     56117    lol throwing the bullshit flag on such nonsense       1   \n",
       "21     67757                                    you are correct       0   \n",
       "22     12681  kind of like when conservatives wanna associat...       1   \n",
       "23     82904  da fuck is going on people there the men room ...       1   \n",
       "24     63236  been willie fan since before most of you were ...       0   \n",
       "25     77665  tbh these days just do not like people in gene...       1   \n",
       "26     83484  south korean official leaders will discuss spe...       0   \n",
       "27     74932                      you can tell he is hooper too       0   \n",
       "28     91252           feel like he is better chasing the title       0   \n",
       "29     25440  she to whom are you referring to hillary you k...       1   \n",
       "...      ...                                                ...     ...   \n",
       "13209  73518                            he is he is so precious       0   \n",
       "13210  51204                                          booooring       0   \n",
       "13211  93164  everything else was ten years ago you are liar...       1   \n",
       "13212  98218                              right dang she is the       0   \n",
       "13213  94976  mcraven engaged in publicity stunt he never sp...       0   \n",
       "13214  55677  oh man you are going to trigger the fanboys fa...       0   \n",
       "13215  17250  aw chelsea it never ends you are as always the...       0   \n",
       "13216  61083                              my head is fuckin egg       1   \n",
       "13217  39742               alt right amp antifa are for cowards       0   \n",
       "13218  72262  did you serve you rate at bottom of the barrel...       0   \n",
       "13219  28996  is right to say that housing associations shou...       0   \n",
       "13220  20121  is just trying to make good with his libnut el...       0   \n",
       "13221  64713  boise state fan so can tell you two things abo...       0   \n",
       "13222  63482  is advocating for conduct within bounds of hum...       1   \n",
       "13223  33567  so have the conservatives accepted the antisem...       0   \n",
       "13224  22965  can we all agree that tomlins seat is heating ...       0   \n",
       "13225  11132                            when you coming to ohio       0   \n",
       "13226  87416  liars like the antifa twins you vigorously defend       1   \n",
       "13227  56034  he is involved because he was there now he nee...       0   \n",
       "13228  34461  how much lonely she is and how much she misses...       0   \n",
       "13229  90041  billy you have short memory obama tried to get...       0   \n",
       "13230  93038                                    but gun control       0   \n",
       "13231  98824         she is not the brightest light on the tree       0   \n",
       "13232  99696   if say you are mad now you will say tired of you       0   \n",
       "13233  17500         retweet complete amp followed all patriots       0   \n",
       "13234  95338  sometimes get strong vibes from people and thi...       1   \n",
       "13235  67210  benidorm creamfields maga not too shabby of su...       0   \n",
       "13236  82921    and why report this garbage we do not give crap       1   \n",
       "13237  27429                                              pussy       1   \n",
       "13238  46552                                          vs and is       0   \n",
       "\n",
       "                                                     seq  \n",
       "0      [67, 189, 1712, 306, 1683, 827, 102, 44, 190, ...  \n",
       "1      [242, 163, 81, 1765, 8862, 0, 0, 0, 0, 0, 0, 0...  \n",
       "2      [8427, 14, 3463, 327, 1242, 38, 32, 1514, 2169...  \n",
       "3      [1318, 189, 399999, 37, 2365, 3, 34855, 4, 855...  \n",
       "4      [765, 741, 8193, 8457, 38273, 4, 483, 75, 639,...  \n",
       "5      [8193, 32, 64, 399999, 0, 0, 0, 0, 0, 0, 0, 0,...  \n",
       "6      [3202, 68385, 1595, 34855, 0, 0, 0, 0, 0, 0, 0...  \n",
       "7      [15, 5917, 120, 1901, 59, 37, 73048, 64, 1329,...  \n",
       "8      [987, 56, 244867, 0, 0, 0, 0, 0, 0, 0, 0, 0, 0...  \n",
       "9      [774, 66019, 408, 170, 399999, 53, 411, 33, 57...  \n",
       "10     [20, 36, 192, 6055, 81, 280, 2019, 424, 0, 0, ...  \n",
       "11     [102, 0, 2333, 118, 5, 48, 3, 158, 301, 2084, ...  \n",
       "12     [81, 32, 4739, 6826, 18897, 3291, 1025, 4, 227...  \n",
       "13     [20, 189, 8190, 359, 140, 67, 14, 697, 2354, 1...  \n",
       "14     [117, 192, 12714, 117, 117, 192, 41944, 17, 53...  \n",
       "15     [81, 32, 52, 0, 691, 3, 4374, 0, 0, 0, 0, 0, 0...  \n",
       "16     [5622, 117, 84, 48, 14, 6146, 835, 117, 81, 37...  \n",
       "17     [0, 79, 14, 248, 10, 37, 166, 4, 3360, 4, 0, 1...  \n",
       "18     [3606, 58535, 6075, 5, 1881, 176328, 18, 14, 1...  \n",
       "19     [2019, 424, 12, 14, 64, 158, 1813, 32, 2619, 1...  \n",
       "20     [73048, 4558, 0, 87375, 2808, 13, 125, 12585, ...  \n",
       "21     [81, 32, 3952, 0, 0, 0, 0, 0, 0, 0, 0, 0, 0, 0...  \n",
       "22     [921, 3, 117, 61, 4189, 21128, 3891, 1402, 4, ...  \n",
       "23     [4622, 35690, 14, 222, 13, 69, 63, 0, 301, 927...  \n",
       "24     [51, 8207, 3267, 108, 106, 96, 3, 81, 35, 379,...  \n",
       "25     [399999, 158, 249, 120, 88, 36, 117, 69, 6, 21...  \n",
       "26     [139, 1091, 239, 381, 43, 1471, 1902, 399999, ...  \n",
       "27     [81, 86, 1361, 18, 14, 17758, 317, 0, 0, 0, 0,...  \n",
       "28     [998, 117, 18, 14, 439, 8524, 0, 698, 0, 0, 0,...  \n",
       "29     [67, 4, 1231, 32, 81, 2558, 4, 4539, 81, 346, ...  \n",
       "...                                                  ...  \n",
       "13209  [18, 14, 18, 14, 100, 7569, 0, 0, 0, 0, 0, 0, ...  \n",
       "13210  [399999, 0, 0, 0, 0, 0, 0, 0, 0, 0, 0, 0, 0, 0...  \n",
       "13211  [1174, 1726, 15, 1705, 82, 363, 81, 32, 18939,...  \n",
       "13212  [248, 35548, 67, 14, 0, 0, 0, 0, 0, 0, 0, 0, 0...  \n",
       "13213  [305043, 3356, 6, 6078, 12813, 18, 332, 1809, ...  \n",
       "13214  [3202, 300, 81, 32, 222, 4, 6624, 0, 147897, 3...  \n",
       "13215  [34849, 3856, 20, 332, 2441, 81, 32, 19, 690, ...  \n",
       "13216  [192, 362, 14, 134264, 6593, 0, 0, 0, 0, 0, 0,...  \n",
       "13217  [26952, 248, 8457, 399999, 32, 10, 45632, 0, 0...  \n",
       "13218  [119, 81, 1367, 81, 571, 22, 2389, 3, 0, 3401,...  \n",
       "13219  [14, 248, 4, 203, 12, 1457, 7051, 189, 30, 582...  \n",
       "13220  [14, 120, 595, 4, 159, 219, 17, 26, 399999, 31...  \n",
       "13221  [18112, 92, 3267, 100, 86, 1361, 81, 55, 654, ...  \n",
       "13222  [14, 13518, 10, 2627, 425, 13910, 3, 473, 417,...  \n",
       "13223  [100, 33, 0, 4189, 2117, 0, 38118, 4743, 553, ...  \n",
       "13224  [86, 53, 64, 2137, 12, 311689, 1633, 14, 6011,...  \n",
       "13225  [61, 81, 781, 4, 1992, 0, 0, 0, 0, 0, 0, 0, 0,...  \n",
       "13226  [34520, 117, 0, 399999, 6261, 81, 11281, 3228,...  \n",
       "13227  [18, 14, 791, 113, 18, 15, 63, 114, 18, 1075, ...  \n",
       "13228  [197, 181, 10678, 67, 14, 5, 197, 181, 67, 133...  \n",
       "13229  [4785, 81, 33, 636, 2711, 765, 977, 4, 169, 6,...  \n",
       "13230  [34, 2019, 424, 0, 0, 0, 0, 0, 0, 0, 0, 0, 0, ...  \n",
       "13231  [67, 14, 36, 0, 19285, 897, 13, 0, 2654, 0, 0,...  \n",
       "13232  [83, 203, 81, 32, 5121, 114, 81, 43, 203, 5259...  \n",
       "13233  [399999, 1336, 8457, 928, 64, 5216, 0, 0, 0, 0...  \n",
       "13234  [1071, 169, 562, 45487, 25, 69, 5, 37, 300, 22...  \n",
       "13235  [95993, 231217, 56066, 36, 317, 30416, 3, 740,...  \n",
       "13236  [5, 738, 255, 37, 8308, 53, 88, 36, 455, 35404...  \n",
       "13237  [55918, 0, 0, 0, 0, 0, 0, 0, 0, 0, 0, 0, 0, 0,...  \n",
       "13238  [7091, 5, 14, 0, 0, 0, 0, 0, 0, 0, 0, 0, 0, 0,...  \n",
       "\n",
       "[13239 rows x 4 columns]"
      ]
     },
     "execution_count": 45,
     "metadata": {
      "tags": []
     },
     "output_type": "execute_result"
    }
   ],
   "source": [
    "my_df"
   ]
  },
  {
   "cell_type": "code",
   "execution_count": 0,
   "metadata": {
    "colab": {},
    "colab_type": "code",
    "id": "jBvjOEA9lAgP"
   },
   "outputs": [],
   "source": [
    "x = my_df.text\n",
    "y = my_df.target\n",
    "z = my_df.seq"
   ]
  },
  {
   "cell_type": "code",
   "execution_count": 0,
   "metadata": {
    "colab": {},
    "colab_type": "code",
    "id": "fOkvQUI1lfg8"
   },
   "outputs": [],
   "source": [
    "from sklearn.model_selection import train_test_split\n",
    "SEED = 50\n",
    "x_train, x_validation_and_test, y_train, y_validation_and_test = train_test_split(x, y, test_size=.15, random_state=SEED)\n",
    "x_validation, x_test, y_validation, y_test = train_test_split(x_validation_and_test, y_validation_and_test, test_size=.15, random_state=SEED)"
   ]
  },
  {
   "cell_type": "code",
   "execution_count": 0,
   "metadata": {
    "colab": {},
    "colab_type": "code",
    "id": "BnTCIjQqmSPl"
   },
   "outputs": [],
   "source": [
    "train_arr = np.array(x_train)"
   ]
  },
  {
   "cell_type": "code",
   "execution_count": 0,
   "metadata": {
    "colab": {},
    "colab_type": "code",
    "id": "uSXEYDgkm54q"
   },
   "outputs": [],
   "source": [
    "ids_train = np.zeros((len(train_arr), maxSeqLength), dtype='int32')\n",
    "fileCounter = 0\n",
    "\n",
    "for i in range(len(train_arr)) :\n",
    "  indexCounter = 0\n",
    "  line = str(train_arr[i])\n",
    "  cleanedLine = cleanSentences(line)\n",
    "  split = cleanedLine.split()\n",
    "  for word in split:\n",
    "    try :\n",
    "      ids_train[fileCounter][indexCounter] = wordsList.index(word)\n",
    "    except ValueError:\n",
    "      ids_train[fileCounter][indexCounter] = 399999\n",
    "      \n",
    "    indexCounter = indexCounter + 1  \n",
    "    if indexCounter >= maxSeqLength:\n",
    "      break\n",
    "  fileCounter = fileCounter + 1"
   ]
  },
  {
   "cell_type": "code",
   "execution_count": 0,
   "metadata": {
    "colab": {
     "base_uri": "https://localhost:8080/",
     "height": 34
    },
    "colab_type": "code",
    "executionInfo": {
     "elapsed": 993,
     "status": "ok",
     "timestamp": 1547692999618,
     "user": {
      "displayName": "Preeti Mainak",
      "photoUrl": "",
      "userId": "02089753100743727556"
     },
     "user_tz": -330
    },
    "id": "S1ei3kHErYLt",
    "outputId": "46250b27-f146-4d5c-c91f-11e59348946c"
   },
   "outputs": [
    {
     "data": {
      "text/plain": [
       "11253"
      ]
     },
     "execution_count": 82,
     "metadata": {
      "tags": []
     },
     "output_type": "execute_result"
    }
   ],
   "source": [
    "len(ids_train)"
   ]
  },
  {
   "cell_type": "code",
   "execution_count": 0,
   "metadata": {
    "colab": {},
    "colab_type": "code",
    "id": "ojLYXBBBoCOL"
   },
   "outputs": [],
   "source": [
    "np.save('idsMatrix_train1', ids_train)"
   ]
  },
  {
   "cell_type": "code",
   "execution_count": 0,
   "metadata": {
    "colab": {},
    "colab_type": "code",
    "id": "XbA9Wj0mnRaT"
   },
   "outputs": [],
   "source": [
    "val_arr = np.array(x_validation)"
   ]
  },
  {
   "cell_type": "code",
   "execution_count": 0,
   "metadata": {
    "colab": {},
    "colab_type": "code",
    "id": "ElGgRSdioPf_"
   },
   "outputs": [],
   "source": [
    "ids_val = np.zeros((len(val_arr), maxSeqLength), dtype='int32')\n",
    "fileCounter = 0\n",
    "\n",
    "for i in range(len(val_arr)) :\n",
    "  indexCounter = 0\n",
    "  line = str(val_arr[i])\n",
    "  cleanedLine = cleanSentences(line)\n",
    "  split = cleanedLine.split()\n",
    "  for word in split:\n",
    "    try :\n",
    "      ids_val[fileCounter][indexCounter] = wordsList.index(word)\n",
    "    except ValueError:\n",
    "      ids_val[fileCounter][indexCounter] = 399999\n",
    "      \n",
    "    indexCounter = indexCounter + 1  \n",
    "    if indexCounter >= maxSeqLength:\n",
    "      break\n",
    "  fileCounter = fileCounter + 1"
   ]
  },
  {
   "cell_type": "code",
   "execution_count": 0,
   "metadata": {
    "colab": {},
    "colab_type": "code",
    "id": "ZBZNaqXOobZT"
   },
   "outputs": [],
   "source": [
    "np.save('idsMatrix_validation1', ids_val)"
   ]
  },
  {
   "cell_type": "code",
   "execution_count": 0,
   "metadata": {
    "colab": {},
    "colab_type": "code",
    "id": "cXbSXPZwohX4"
   },
   "outputs": [],
   "source": [
    "test_arr = np.array(x_test)"
   ]
  },
  {
   "cell_type": "code",
   "execution_count": 0,
   "metadata": {
    "colab": {},
    "colab_type": "code",
    "id": "bIHybeSDosoa"
   },
   "outputs": [],
   "source": [
    "ids_test = np.zeros((len(test_arr), maxSeqLength), dtype='int32')\n",
    "fileCounter = 0\n",
    "\n",
    "for i in range(len(test_arr)) :\n",
    "  indexCounter = 0\n",
    "  line = str(test_arr[i])\n",
    "  cleanedLine = cleanSentences(line)\n",
    "  split = cleanedLine.split()\n",
    "  for word in split:\n",
    "    try :\n",
    "      ids_test[fileCounter][indexCounter] = wordsList.index(word)\n",
    "    except ValueError:\n",
    "      ids_test[fileCounter][indexCounter] = 399999\n",
    "      \n",
    "    indexCounter = indexCounter + 1  \n",
    "    if indexCounter >= maxSeqLength:\n",
    "      break\n",
    "  fileCounter = fileCounter + 1"
   ]
  },
  {
   "cell_type": "code",
   "execution_count": 0,
   "metadata": {
    "colab": {},
    "colab_type": "code",
    "id": "JlQXEU4-o4qn"
   },
   "outputs": [],
   "source": [
    "np.save('idsMatrix_test1', ids_test)"
   ]
  },
  {
   "cell_type": "code",
   "execution_count": 0,
   "metadata": {
    "colab": {},
    "colab_type": "code",
    "id": "i7nXS0AupAXB"
   },
   "outputs": [],
   "source": [
    "x_train_seq = ids_train"
   ]
  },
  {
   "cell_type": "code",
   "execution_count": 0,
   "metadata": {
    "colab": {
     "base_uri": "https://localhost:8080/",
     "height": 782
    },
    "colab_type": "code",
    "executionInfo": {
     "elapsed": 917,
     "status": "ok",
     "timestamp": 1547693077222,
     "user": {
      "displayName": "Preeti Mainak",
      "photoUrl": "",
      "userId": "02089753100743727556"
     },
     "user_tz": -330
    },
    "id": "vpgoMyMhpVgT",
    "outputId": "f145f038-f103-4ef7-b979-faa8bd95c733"
   },
   "outputs": [
    {
     "data": {
      "text/plain": [
       "array([[ 56066,   5216,     53,    408,     81,      0,      0,      0,\n",
       "             0,      0,      0,      0,      0,      0,      0,      0,\n",
       "             0,      0,      0,      0,      0,      0,      0,      0,\n",
       "             0,      0,      0,      0,      0,      0,      0,      0,\n",
       "             0,      0,      0,      0,      0,      0,      0,      0,\n",
       "             0,      0,      0,      0,      0,      0,      0,      0,\n",
       "             0,      0,      0,      0,      0,      0,      0,      0,\n",
       "             0,      0,      0,      0,      0,      0,      0,      0,\n",
       "             0],\n",
       "       [ 27052,     19,   3518,  16015,     91,   8193,     17,   2563,\n",
       "          3689,      0,      0,      0,      0,      0,      0,      0,\n",
       "             0,      0,      0,      0,      0,      0,      0,      0,\n",
       "             0,      0,      0,      0,      0,      0,      0,      0,\n",
       "             0,      0,      0,      0,      0,      0,      0,      0,\n",
       "             0,      0,      0,      0,      0,      0,      0,      0,\n",
       "             0,      0,      0,      0,      0,      0,      0,      0,\n",
       "             0,      0,      0,      0,      0,      0,      0,      0,\n",
       "             0],\n",
       "       [299639,  34855,      0,      0,      0,      0,      0,      0,\n",
       "             0,      0,      0,      0,      0,      0,      0,      0,\n",
       "             0,      0,      0,      0,      0,      0,      0,      0,\n",
       "             0,      0,      0,      0,      0,      0,      0,      0,\n",
       "             0,      0,      0,      0,      0,      0,      0,      0,\n",
       "             0,      0,      0,      0,      0,      0,      0,      0,\n",
       "             0,      0,      0,      0,      0,      0,      0,      0,\n",
       "             0,      0,      0,      0,      0,      0,      0,      0,\n",
       "             0],\n",
       "       [    61,  33560,   4252, 399999,      0,     85,   5126,     10,\n",
       "          1600,      4,   7380,     20,      0,      0,      0,      0,\n",
       "             0,      0,      0,      0,      0,      0,      0,      0,\n",
       "             0,      0,      0,      0,      0,      0,      0,      0,\n",
       "             0,      0,      0,      0,      0,      0,      0,      0,\n",
       "             0,      0,      0,      0,      0,      0,      0,      0,\n",
       "             0,      0,      0,      0,      0,      0,      0,      0,\n",
       "             0,      0,      0,      0,      0,      0,      0,      0,\n",
       "             0],\n",
       "       [  5323,    974,     25,      0,      0,      0,      0,      0,\n",
       "             0,      0,      0,      0,      0,      0,      0,      0,\n",
       "             0,      0,      0,      0,      0,      0,      0,      0,\n",
       "             0,      0,      0,      0,      0,      0,      0,      0,\n",
       "             0,      0,      0,      0,      0,      0,      0,      0,\n",
       "             0,      0,      0,      0,      0,      0,      0,      0,\n",
       "             0,      0,      0,      0,      0,      0,      0,      0,\n",
       "             0,      0,      0,      0,      0,      0,      0,      0,\n",
       "             0]], dtype=int32)"
      ]
     },
     "execution_count": 92,
     "metadata": {
      "tags": []
     },
     "output_type": "execute_result"
    }
   ],
   "source": [
    "x_train_seq[:5]"
   ]
  },
  {
   "cell_type": "code",
   "execution_count": 0,
   "metadata": {
    "colab": {
     "base_uri": "https://localhost:8080/",
     "height": 119
    },
    "colab_type": "code",
    "executionInfo": {
     "elapsed": 1023,
     "status": "ok",
     "timestamp": 1547693082756,
     "user": {
      "displayName": "Preeti Mainak",
      "photoUrl": "",
      "userId": "02089753100743727556"
     },
     "user_tz": -330
    },
    "id": "WM2MZwSfpY_X",
    "outputId": "8659e05b-b32d-42f5-b40c-ecd43c42b1a0"
   },
   "outputs": [
    {
     "data": {
      "text/plain": [
       "8351                            maga patriots we need you\n",
       "5351    cp as usual interviewing only liberals with ne...\n",
       "7175                                             ohh shit\n",
       "565     when robyn posts selfie the world stops for mo...\n",
       "6849                                 expecting video from\n",
       "Name: text, dtype: object"
      ]
     },
     "execution_count": 93,
     "metadata": {
      "tags": []
     },
     "output_type": "execute_result"
    }
   ],
   "source": [
    "x_train[:5]"
   ]
  },
  {
   "cell_type": "code",
   "execution_count": 0,
   "metadata": {
    "colab": {},
    "colab_type": "code",
    "id": "QSV5S6l_pd4L"
   },
   "outputs": [],
   "source": [
    "x_val_seq = ids_val"
   ]
  },
  {
   "cell_type": "code",
   "execution_count": 0,
   "metadata": {
    "colab": {},
    "colab_type": "code",
    "id": "W5HllpWwprXR"
   },
   "outputs": [],
   "source": [
    "x_test_seq = np.load('idsMatrix_test1.npy')"
   ]
  },
  {
   "cell_type": "code",
   "execution_count": 0,
   "metadata": {
    "colab": {},
    "colab_type": "code",
    "id": "OzZvyQujp2tF"
   },
   "outputs": [],
   "source": [
    "embedding_matrix = wordVectors"
   ]
  },
  {
   "cell_type": "code",
   "execution_count": 0,
   "metadata": {
    "colab": {},
    "colab_type": "code",
    "id": "WpiRJoZnqc3H"
   },
   "outputs": [],
   "source": [
    "\n",
    "\n",
    "seed = 7\n",
    "\n",
    "from keras.models import Sequential\n",
    "from keras.layers import Dense, Dropout\n",
    "from keras.layers import Flatten\n",
    "from keras.layers.embeddings import Embedding\n",
    "\n",
    "from keras.layers import Conv1D, GlobalMaxPooling1D"
   ]
  },
  {
   "cell_type": "code",
   "execution_count": 0,
   "metadata": {
    "colab": {
     "base_uri": "https://localhost:8080/",
     "height": 612
    },
    "colab_type": "code",
    "executionInfo": {
     "elapsed": 1364,
     "status": "ok",
     "timestamp": 1547695392704,
     "user": {
      "displayName": "Preeti Mainak",
      "photoUrl": "",
      "userId": "02089753100743727556"
     },
     "user_tz": -330
    },
    "id": "VUtdnp7Ypu2H",
    "outputId": "cbb46b0e-67de-4aaa-e4e5-324738fea833"
   },
   "outputs": [
    {
     "name": "stdout",
     "output_type": "stream",
     "text": [
      "__________________________________________________________________________________________________\n",
      "Layer (type)                    Output Shape         Param #     Connected to                     \n",
      "==================================================================================================\n",
      "input_6 (InputLayer)            (None, 65)           0                                            \n",
      "__________________________________________________________________________________________________\n",
      "embedding_5 (Embedding)         (None, 65, 100)      40000000    input_6[0][0]                    \n",
      "__________________________________________________________________________________________________\n",
      "conv1d_13 (Conv1D)              (None, 64, 100)      20100       embedding_5[0][0]                \n",
      "__________________________________________________________________________________________________\n",
      "conv1d_14 (Conv1D)              (None, 63, 100)      30100       embedding_5[0][0]                \n",
      "__________________________________________________________________________________________________\n",
      "conv1d_15 (Conv1D)              (None, 62, 100)      40100       embedding_5[0][0]                \n",
      "__________________________________________________________________________________________________\n",
      "global_max_pooling1d_13 (Global (None, 100)          0           conv1d_13[0][0]                  \n",
      "__________________________________________________________________________________________________\n",
      "global_max_pooling1d_14 (Global (None, 100)          0           conv1d_14[0][0]                  \n",
      "__________________________________________________________________________________________________\n",
      "global_max_pooling1d_15 (Global (None, 100)          0           conv1d_15[0][0]                  \n",
      "__________________________________________________________________________________________________\n",
      "concatenate_5 (Concatenate)     (None, 300)          0           global_max_pooling1d_13[0][0]    \n",
      "                                                                 global_max_pooling1d_14[0][0]    \n",
      "                                                                 global_max_pooling1d_15[0][0]    \n",
      "__________________________________________________________________________________________________\n",
      "dense_9 (Dense)                 (None, 256)          77056       concatenate_5[0][0]              \n",
      "__________________________________________________________________________________________________\n",
      "dropout_5 (Dropout)             (None, 256)          0           dense_9[0][0]                    \n",
      "__________________________________________________________________________________________________\n",
      "dense_10 (Dense)                (None, 1)            257         dropout_5[0][0]                  \n",
      "__________________________________________________________________________________________________\n",
      "activation_5 (Activation)       (None, 1)            0           dense_10[0][0]                   \n",
      "==================================================================================================\n",
      "Total params: 40,167,613\n",
      "Trainable params: 40,167,613\n",
      "Non-trainable params: 0\n",
      "__________________________________________________________________________________________________\n"
     ]
    }
   ],
   "source": [
    "\n",
    "\n",
    "from keras.layers import Input, Dense, concatenate, Activation\n",
    "from keras.models import Model\n",
    "\n",
    "tweet_input = Input(shape=(65,), dtype='int32')\n",
    "\n",
    "tweet_encoder = Embedding(400000, 100, weights=[embedding_matrix], input_length=65, trainable=True)(tweet_input)\n",
    "bigram_branch = Conv1D(filters=100, kernel_size=2, padding='valid', activation='relu', strides=1)(tweet_encoder)\n",
    "bigram_branch = GlobalMaxPooling1D()(bigram_branch)\n",
    "trigram_branch = Conv1D(filters=100, kernel_size=3, padding='valid', activation='relu', strides=1)(tweet_encoder)\n",
    "trigram_branch = GlobalMaxPooling1D()(trigram_branch)\n",
    "fourgram_branch = Conv1D(filters=100, kernel_size=4, padding='valid', activation='relu', strides=1)(tweet_encoder)\n",
    "fourgram_branch = GlobalMaxPooling1D()(fourgram_branch)\n",
    "merged = concatenate([bigram_branch, trigram_branch, fourgram_branch], axis=1)\n",
    "\n",
    "merged = Dense(256, activation='relu')(merged)\n",
    "merged = Dropout(0.2)(merged)\n",
    "merged = Dense(1)(merged)\n",
    "output = Activation('sigmoid')(merged)\n",
    "model = Model(inputs=[tweet_input], outputs=[output])\n",
    "model.compile(loss='binary_crossentropy',\n",
    "                  optimizer='adam',\n",
    "                  metrics=['accuracy'])\n",
    "model.summary()"
   ]
  },
  {
   "cell_type": "code",
   "execution_count": 0,
   "metadata": {
    "colab": {
     "base_uri": "https://localhost:8080/",
     "height": 1411
    },
    "colab_type": "code",
    "executionInfo": {
     "elapsed": 391103,
     "status": "ok",
     "timestamp": 1547695809118,
     "user": {
      "displayName": "Preeti Mainak",
      "photoUrl": "",
      "userId": "02089753100743727556"
     },
     "user_tz": -330
    },
    "id": "CnayNvnqqbzj",
    "outputId": "37a77a96-1957-47c1-fc44-d812b8c81f92"
   },
   "outputs": [
    {
     "name": "stdout",
     "output_type": "stream",
     "text": [
      "Train on 11253 samples, validate on 1688 samples\n",
      "Epoch 1/20\n",
      "11253/11253 [==============================] - 21s 2ms/step - loss: 0.5273 - acc: 0.7408 - val_loss: 0.4817 - val_acc: 0.7660\n",
      "\n",
      "Epoch 00001: val_acc improved from -inf to 0.76600, saving model to CNN_best_weights.01-0.7660.hdf5\n",
      "Epoch 2/20\n",
      "11253/11253 [==============================] - 19s 2ms/step - loss: 0.4048 - acc: 0.8201 - val_loss: 0.4830 - val_acc: 0.7583\n",
      "\n",
      "Epoch 00002: val_acc did not improve from 0.76600\n",
      "Epoch 3/20\n",
      "11253/11253 [==============================] - 19s 2ms/step - loss: 0.2739 - acc: 0.8876 - val_loss: 0.5490 - val_acc: 0.7559\n",
      "\n",
      "Epoch 00003: val_acc did not improve from 0.76600\n",
      "Epoch 4/20\n",
      "11253/11253 [==============================] - 19s 2ms/step - loss: 0.1487 - acc: 0.9453 - val_loss: 0.8021 - val_acc: 0.7565\n",
      "\n",
      "Epoch 00004: val_acc did not improve from 0.76600\n",
      "Epoch 5/20\n",
      "11253/11253 [==============================] - 19s 2ms/step - loss: 0.0764 - acc: 0.9755 - val_loss: 0.8868 - val_acc: 0.7476\n",
      "\n",
      "Epoch 00005: val_acc did not improve from 0.76600\n",
      "Epoch 6/20\n",
      "11253/11253 [==============================] - 19s 2ms/step - loss: 0.0544 - acc: 0.9839 - val_loss: 1.0580 - val_acc: 0.7618\n",
      "\n",
      "Epoch 00006: val_acc did not improve from 0.76600\n",
      "Epoch 7/20\n",
      "11253/11253 [==============================] - 19s 2ms/step - loss: 0.0416 - acc: 0.9892 - val_loss: 1.0441 - val_acc: 0.7524\n",
      "\n",
      "Epoch 00007: val_acc did not improve from 0.76600\n",
      "Epoch 8/20\n",
      "11253/11253 [==============================] - 19s 2ms/step - loss: 0.0268 - acc: 0.9936 - val_loss: 1.2682 - val_acc: 0.7500\n",
      "\n",
      "Epoch 00008: val_acc did not improve from 0.76600\n",
      "Epoch 9/20\n",
      "11253/11253 [==============================] - 19s 2ms/step - loss: 0.0259 - acc: 0.9935 - val_loss: 1.2972 - val_acc: 0.7524\n",
      "\n",
      "Epoch 00009: val_acc did not improve from 0.76600\n",
      "Epoch 10/20\n",
      "11253/11253 [==============================] - 19s 2ms/step - loss: 0.0258 - acc: 0.9924 - val_loss: 1.2480 - val_acc: 0.7559\n",
      "\n",
      "Epoch 00010: val_acc did not improve from 0.76600\n",
      "Epoch 11/20\n",
      "11253/11253 [==============================] - 19s 2ms/step - loss: 0.0240 - acc: 0.9924 - val_loss: 1.4152 - val_acc: 0.7310\n",
      "\n",
      "Epoch 00011: val_acc did not improve from 0.76600\n",
      "Epoch 12/20\n",
      "11253/11253 [==============================] - 19s 2ms/step - loss: 0.0174 - acc: 0.9944 - val_loss: 1.6065 - val_acc: 0.7530\n",
      "\n",
      "Epoch 00012: val_acc did not improve from 0.76600\n",
      "Epoch 13/20\n",
      "11253/11253 [==============================] - 19s 2ms/step - loss: 0.0182 - acc: 0.9942 - val_loss: 1.6005 - val_acc: 0.7133\n",
      "\n",
      "Epoch 00013: val_acc did not improve from 0.76600\n",
      "Epoch 14/20\n",
      "11253/11253 [==============================] - 19s 2ms/step - loss: 0.0318 - acc: 0.9897 - val_loss: 1.8864 - val_acc: 0.7002\n",
      "\n",
      "Epoch 00014: val_acc did not improve from 0.76600\n",
      "Epoch 15/20\n",
      "11253/11253 [==============================] - 19s 2ms/step - loss: 0.0152 - acc: 0.9956 - val_loss: 1.8662 - val_acc: 0.7210\n",
      "\n",
      "Epoch 00015: val_acc did not improve from 0.76600\n",
      "Epoch 16/20\n",
      "11253/11253 [==============================] - 19s 2ms/step - loss: 0.0212 - acc: 0.9921 - val_loss: 1.8274 - val_acc: 0.7174\n",
      "\n",
      "Epoch 00016: val_acc did not improve from 0.76600\n",
      "Epoch 17/20\n",
      "11253/11253 [==============================] - 19s 2ms/step - loss: 0.0115 - acc: 0.9956 - val_loss: 1.8991 - val_acc: 0.7299\n",
      "\n",
      "Epoch 00017: val_acc did not improve from 0.76600\n",
      "Epoch 18/20\n",
      "11253/11253 [==============================] - 19s 2ms/step - loss: 0.0075 - acc: 0.9969 - val_loss: 2.0974 - val_acc: 0.7180\n",
      "\n",
      "Epoch 00018: val_acc did not improve from 0.76600\n",
      "Epoch 19/20\n",
      "11253/11253 [==============================] - 19s 2ms/step - loss: 0.0150 - acc: 0.9940 - val_loss: 2.0443 - val_acc: 0.7257\n",
      "\n",
      "Epoch 00019: val_acc did not improve from 0.76600\n",
      "Epoch 20/20\n",
      "11253/11253 [==============================] - 19s 2ms/step - loss: 0.0141 - acc: 0.9945 - val_loss: 1.9857 - val_acc: 0.7305\n",
      "\n",
      "Epoch 00020: val_acc did not improve from 0.76600\n"
     ]
    },
    {
     "data": {
      "text/plain": [
       "<keras.callbacks.History at 0x7ffa00b287f0>"
      ]
     },
     "execution_count": 105,
     "metadata": {
      "tags": []
     },
     "output_type": "execute_result"
    }
   ],
   "source": [
    "from keras.callbacks import ModelCheckpoint\n",
    "\n",
    "filepath=\"CNN_best_weights.{epoch:02d}-{val_acc:.4f}.hdf5\"\n",
    "checkpoint = ModelCheckpoint(filepath, monitor='val_acc', verbose=1, save_best_only=True, mode='max')\n",
    "\n",
    "model.fit(x_train_seq, y_train, batch_size=32, epochs=20,\n",
    "                     validation_data=(x_val_seq, y_validation), callbacks = [checkpoint])"
   ]
  },
  {
   "cell_type": "code",
   "execution_count": 0,
   "metadata": {
    "colab": {
     "base_uri": "https://localhost:8080/",
     "height": 34
    },
    "colab_type": "code",
    "executionInfo": {
     "elapsed": 1166,
     "status": "ok",
     "timestamp": 1547692845663,
     "user": {
      "displayName": "Preeti Mainak",
      "photoUrl": "",
      "userId": "02089753100743727556"
     },
     "user_tz": -330
    },
    "id": "rEKomA7RqS9y",
    "outputId": "4dff857d-ec56-462c-e4df-03511fafced2"
   },
   "outputs": [
    {
     "data": {
      "text/plain": [
       "13239"
      ]
     },
     "execution_count": 79,
     "metadata": {
      "tags": []
     },
     "output_type": "execute_result"
    }
   ],
   "source": [
    "len(x_val_seq)"
   ]
  },
  {
   "cell_type": "code",
   "execution_count": 0,
   "metadata": {
    "colab": {},
    "colab_type": "code",
    "id": "iaMskXvFq-dW"
   },
   "outputs": [],
   "source": [
    "from keras.models import load_model\n",
    "from keras.models import load_model\n",
    "from keras.models import load_model\n",
    "loaded_CNN_model = load_model('CNN_best_weights.19-0.7642.hdf5')\n"
   ]
  },
  {
   "cell_type": "code",
   "execution_count": 109,
   "metadata": {
    "colab": {
     "base_uri": "https://localhost:8080/",
     "height": 238
    },
    "colab_type": "code",
    "executionInfo": {
     "elapsed": 3317,
     "status": "ok",
     "timestamp": 1547701017851,
     "user": {
      "displayName": "Preeti Mainak",
      "photoUrl": "",
      "userId": "02089753100743727556"
     },
     "user_tz": -330
    },
    "id": "kjF2dE-cKxoT",
    "outputId": "046dccc8-2f6c-46cf-cac8-76bff21718d4"
   },
   "outputs": [
    {
     "name": "stdout",
     "output_type": "stream",
     "text": [
      "CNN_best_weights.01-0.6872.hdf5  CNN_best_weights.19-0.7642.hdf5\n",
      "CNN_best_weights.01-0.6979.hdf5  idsMatrix.npy\n",
      "CNN_best_weights.01-0.7660.hdf5  idsMatrix_test1.npy\n",
      "CNN_best_weights.02-0.7032.hdf5  idsMatrix_test.npy\n",
      "CNN_best_weights.02-0.7305.hdf5  idsMatrix_train1.npy\n",
      "CNN_best_weights.03-0.7281.hdf5  idsMatrix_train.npy\n",
      "CNN_best_weights.03-0.7376.hdf5  idsMatrix_validation1.npy\n",
      "CNN_best_weights.04-0.7417.hdf5  idsMatrix_validation.npy\n",
      "CNN_best_weights.04-0.7459.hdf5  train_clean.csv\n",
      "CNN_best_weights.05-0.7482.hdf5  Untitled0.ipynb\n",
      "CNN_best_weights.05-0.7559.hdf5  wordList.npy\n",
      "CNN_best_weights.09-0.7565.hdf5  wordVectors.npy\n",
      "CNN_best_weights.12-0.7618.hdf5\n"
     ]
    }
   ],
   "source": [
    "!ls\n"
   ]
  },
  {
   "cell_type": "code",
   "execution_count": 0,
   "metadata": {
    "colab": {},
    "colab_type": "code",
    "id": "OFopUzPeK05L"
   },
   "outputs": [],
   "source": [
    "yhat_cnn = loaded_CNN_model.predict(x_test_seq )"
   ]
  },
  {
   "cell_type": "code",
   "execution_count": 113,
   "metadata": {
    "colab": {
     "base_uri": "https://localhost:8080/",
     "height": 5083
    },
    "colab_type": "code",
    "executionInfo": {
     "elapsed": 950,
     "status": "ok",
     "timestamp": 1547701293366,
     "user": {
      "displayName": "Preeti Mainak",
      "photoUrl": "",
      "userId": "02089753100743727556"
     },
     "user_tz": -330
    },
    "id": "y_ulg7k4Lyii",
    "outputId": "2c37c027-3c8d-448b-ac0f-71dfe31c3292"
   },
   "outputs": [
    {
     "data": {
      "text/plain": [
       "array([[0.02505966],\n",
       "       [0.28901345],\n",
       "       [0.29026887],\n",
       "       [0.54645056],\n",
       "       [0.41912085],\n",
       "       [0.19649893],\n",
       "       [0.60861015],\n",
       "       [0.02722988],\n",
       "       [0.06473632],\n",
       "       [0.5251474 ],\n",
       "       [0.9330227 ],\n",
       "       [0.9950623 ],\n",
       "       [0.0386844 ],\n",
       "       [0.9227979 ],\n",
       "       [0.10442431],\n",
       "       [0.803514  ],\n",
       "       [0.96463513],\n",
       "       [0.0128625 ],\n",
       "       [0.44190946],\n",
       "       [0.05975529],\n",
       "       [0.05672633],\n",
       "       [0.5058945 ],\n",
       "       [0.03230937],\n",
       "       [0.6430169 ],\n",
       "       [0.9624778 ],\n",
       "       [0.7255331 ],\n",
       "       [0.95672065],\n",
       "       [0.9796412 ],\n",
       "       [0.8231285 ],\n",
       "       [0.10729326],\n",
       "       [0.9770965 ],\n",
       "       [0.02225383],\n",
       "       [0.0759197 ],\n",
       "       [0.26835012],\n",
       "       [0.03606497],\n",
       "       [0.0798044 ],\n",
       "       [0.13206866],\n",
       "       [0.15202218],\n",
       "       [0.16557284],\n",
       "       [0.29166955],\n",
       "       [0.35725167],\n",
       "       [0.1311119 ],\n",
       "       [0.07097738],\n",
       "       [0.50178635],\n",
       "       [0.21114756],\n",
       "       [0.23302963],\n",
       "       [0.055852  ],\n",
       "       [0.81970143],\n",
       "       [0.18365803],\n",
       "       [0.17777361],\n",
       "       [0.0614115 ],\n",
       "       [0.4423092 ],\n",
       "       [0.36689448],\n",
       "       [0.01328708],\n",
       "       [0.96760577],\n",
       "       [0.07506845],\n",
       "       [0.34603626],\n",
       "       [0.05650947],\n",
       "       [0.14750801],\n",
       "       [0.12539361],\n",
       "       [0.12729514],\n",
       "       [0.05684315],\n",
       "       [0.00582608],\n",
       "       [0.01194728],\n",
       "       [0.87455314],\n",
       "       [0.96957785],\n",
       "       [0.17651717],\n",
       "       [0.7860987 ],\n",
       "       [0.04068804],\n",
       "       [0.20866603],\n",
       "       [0.86583376],\n",
       "       [0.11793341],\n",
       "       [0.15391034],\n",
       "       [0.45676976],\n",
       "       [0.9884598 ],\n",
       "       [0.10797962],\n",
       "       [0.6461302 ],\n",
       "       [0.84085065],\n",
       "       [0.36436534],\n",
       "       [0.9254953 ],\n",
       "       [0.08304344],\n",
       "       [0.03146761],\n",
       "       [0.04526531],\n",
       "       [0.02769988],\n",
       "       [0.07578475],\n",
       "       [0.34394726],\n",
       "       [0.00591496],\n",
       "       [0.41002235],\n",
       "       [0.05293712],\n",
       "       [0.88099074],\n",
       "       [0.2410713 ],\n",
       "       [0.17829956],\n",
       "       [0.00941132],\n",
       "       [0.48769036],\n",
       "       [0.04202103],\n",
       "       [0.04886993],\n",
       "       [0.7894169 ],\n",
       "       [0.93261105],\n",
       "       [0.31587866],\n",
       "       [0.3639073 ],\n",
       "       [0.17622602],\n",
       "       [0.5520528 ],\n",
       "       [0.10849778],\n",
       "       [0.9683707 ],\n",
       "       [0.03655569],\n",
       "       [0.72246057],\n",
       "       [0.02164104],\n",
       "       [0.5392673 ],\n",
       "       [0.4667786 ],\n",
       "       [0.22074915],\n",
       "       [0.09893181],\n",
       "       [0.04105111],\n",
       "       [0.07146535],\n",
       "       [0.5456218 ],\n",
       "       [0.46914944],\n",
       "       [0.0231114 ],\n",
       "       [0.24810252],\n",
       "       [0.00206201],\n",
       "       [0.44239092],\n",
       "       [0.14717585],\n",
       "       [0.7018804 ],\n",
       "       [0.00836365],\n",
       "       [0.29225668],\n",
       "       [0.05077269],\n",
       "       [0.7021446 ],\n",
       "       [0.00259932],\n",
       "       [0.09835944],\n",
       "       [0.9072624 ],\n",
       "       [0.18382268],\n",
       "       [0.03662461],\n",
       "       [0.01985304],\n",
       "       [0.1266537 ],\n",
       "       [0.9515129 ],\n",
       "       [0.27609798],\n",
       "       [0.0076471 ],\n",
       "       [0.88368577],\n",
       "       [0.6501902 ],\n",
       "       [0.9395352 ],\n",
       "       [0.49782783],\n",
       "       [0.06165972],\n",
       "       [0.2593467 ],\n",
       "       [0.2328497 ],\n",
       "       [0.00406264],\n",
       "       [0.5052986 ],\n",
       "       [0.2533761 ],\n",
       "       [0.08413703],\n",
       "       [0.27357885],\n",
       "       [0.10729581],\n",
       "       [0.46665236],\n",
       "       [0.00926212],\n",
       "       [0.3949253 ],\n",
       "       [0.540896  ],\n",
       "       [0.01849104],\n",
       "       [0.56470025],\n",
       "       [0.1169605 ],\n",
       "       [0.01556471],\n",
       "       [0.45832765],\n",
       "       [0.2260682 ],\n",
       "       [0.04701857],\n",
       "       [0.9557396 ],\n",
       "       [0.06078126],\n",
       "       [0.1032785 ],\n",
       "       [0.0239915 ],\n",
       "       [0.38631842],\n",
       "       [0.01430646],\n",
       "       [0.9273498 ],\n",
       "       [0.12839538],\n",
       "       [0.07394638],\n",
       "       [0.10395361],\n",
       "       [0.47561607],\n",
       "       [0.07355351],\n",
       "       [0.34125018],\n",
       "       [0.25925747],\n",
       "       [0.3970707 ],\n",
       "       [0.02554291],\n",
       "       [0.04437274],\n",
       "       [0.02861303],\n",
       "       [0.9595744 ],\n",
       "       [0.05462978],\n",
       "       [0.07691325],\n",
       "       [0.01856055],\n",
       "       [0.28504902],\n",
       "       [0.69742846],\n",
       "       [0.80435634],\n",
       "       [0.00387056],\n",
       "       [0.12493207],\n",
       "       [0.8986385 ],\n",
       "       [0.95408475],\n",
       "       [0.19543526],\n",
       "       [0.10930513],\n",
       "       [0.03852898],\n",
       "       [0.15499249],\n",
       "       [0.0908789 ],\n",
       "       [0.9686828 ],\n",
       "       [0.1849343 ],\n",
       "       [0.04318217],\n",
       "       [0.09428421],\n",
       "       [0.33265802],\n",
       "       [0.06361946],\n",
       "       [0.8486057 ],\n",
       "       [0.6912538 ],\n",
       "       [0.29878962],\n",
       "       [0.01151616],\n",
       "       [0.7824196 ],\n",
       "       [0.31827244],\n",
       "       [0.95669174],\n",
       "       [0.09301963],\n",
       "       [0.00924452],\n",
       "       [0.01420334],\n",
       "       [0.12753901],\n",
       "       [0.69669145],\n",
       "       [0.6491789 ],\n",
       "       [0.93729424],\n",
       "       [0.09760612],\n",
       "       [0.0116528 ],\n",
       "       [0.46213382],\n",
       "       [0.792387  ],\n",
       "       [0.04698683],\n",
       "       [0.03569276],\n",
       "       [0.30599764],\n",
       "       [0.0763671 ],\n",
       "       [0.34675568],\n",
       "       [0.8431171 ],\n",
       "       [0.34998688],\n",
       "       [0.5135447 ],\n",
       "       [0.12270324],\n",
       "       [0.91724247],\n",
       "       [0.35632175],\n",
       "       [0.6654108 ],\n",
       "       [0.21031366],\n",
       "       [0.17806208],\n",
       "       [0.03937311],\n",
       "       [0.3472908 ],\n",
       "       [0.8615419 ],\n",
       "       [0.7304528 ],\n",
       "       [0.09830847],\n",
       "       [0.10661293],\n",
       "       [0.2685298 ],\n",
       "       [0.03746157],\n",
       "       [0.00667466],\n",
       "       [0.21408735],\n",
       "       [0.22201195],\n",
       "       [0.12185643],\n",
       "       [0.00882337],\n",
       "       [0.97400993],\n",
       "       [0.2221419 ],\n",
       "       [0.63644534],\n",
       "       [0.8890774 ],\n",
       "       [0.25041595],\n",
       "       [0.01702182],\n",
       "       [0.11725986],\n",
       "       [0.04256149],\n",
       "       [0.01963932],\n",
       "       [0.57634085],\n",
       "       [0.60291964],\n",
       "       [0.01061569],\n",
       "       [0.9234247 ],\n",
       "       [0.14828405],\n",
       "       [0.9146839 ],\n",
       "       [0.00899306],\n",
       "       [0.1080654 ],\n",
       "       [0.39765933],\n",
       "       [0.5605502 ],\n",
       "       [0.04488559],\n",
       "       [0.31484833],\n",
       "       [0.06225666],\n",
       "       [0.46443987],\n",
       "       [0.82134664],\n",
       "       [0.07607116],\n",
       "       [0.03550935],\n",
       "       [0.68706536],\n",
       "       [0.08413055],\n",
       "       [0.406168  ],\n",
       "       [0.01290672],\n",
       "       [0.1856048 ],\n",
       "       [0.7396222 ],\n",
       "       [0.01380352],\n",
       "       [0.3005158 ],\n",
       "       [0.04988207],\n",
       "       [0.3862853 ],\n",
       "       [0.6316454 ],\n",
       "       [0.21546409],\n",
       "       [0.12969072],\n",
       "       [0.73550564],\n",
       "       [0.0507958 ],\n",
       "       [0.8504869 ],\n",
       "       [0.776233  ],\n",
       "       [0.5329941 ],\n",
       "       [0.45399317],\n",
       "       [0.37102774],\n",
       "       [0.24102896],\n",
       "       [0.51129353],\n",
       "       [0.16725782],\n",
       "       [0.07661015],\n",
       "       [0.12672965],\n",
       "       [0.03870296],\n",
       "       [0.9810963 ],\n",
       "       [0.6063663 ]], dtype=float32)"
      ]
     },
     "execution_count": 113,
     "metadata": {
      "tags": []
     },
     "output_type": "execute_result"
    }
   ],
   "source": [
    "yhat_cnn"
   ]
  },
  {
   "cell_type": "code",
   "execution_count": 0,
   "metadata": {
    "colab": {},
    "colab_type": "code",
    "id": "yM3HCNdfL4vS"
   },
   "outputs": [],
   "source": [
    "for i in range(len(yhat_cnn)):\n",
    "    if yhat_cnn[i] < 0.5 :\n",
    "        yhat_cnn[i] = 0\n",
    "        yhat_cnn[i] = int(yhat_cnn[i])\n",
    "    else :\n",
    "        yhat_cnn[i] = 1\n",
    "        yhat_cnn[i] = int(yhat_cnn[i])"
   ]
  },
  {
   "cell_type": "code",
   "execution_count": 115,
   "metadata": {
    "colab": {
     "base_uri": "https://localhost:8080/",
     "height": 5083
    },
    "colab_type": "code",
    "executionInfo": {
     "elapsed": 1084,
     "status": "ok",
     "timestamp": 1547701392225,
     "user": {
      "displayName": "Preeti Mainak",
      "photoUrl": "",
      "userId": "02089753100743727556"
     },
     "user_tz": -330
    },
    "id": "eR9Tiv6EMLII",
    "outputId": "388140b2-0e49-4c42-bf4c-2dadaa18c3c5"
   },
   "outputs": [
    {
     "data": {
      "text/plain": [
       "array([[0.],\n",
       "       [0.],\n",
       "       [0.],\n",
       "       [1.],\n",
       "       [0.],\n",
       "       [0.],\n",
       "       [1.],\n",
       "       [0.],\n",
       "       [0.],\n",
       "       [1.],\n",
       "       [1.],\n",
       "       [1.],\n",
       "       [0.],\n",
       "       [1.],\n",
       "       [0.],\n",
       "       [1.],\n",
       "       [1.],\n",
       "       [0.],\n",
       "       [0.],\n",
       "       [0.],\n",
       "       [0.],\n",
       "       [1.],\n",
       "       [0.],\n",
       "       [1.],\n",
       "       [1.],\n",
       "       [1.],\n",
       "       [1.],\n",
       "       [1.],\n",
       "       [1.],\n",
       "       [0.],\n",
       "       [1.],\n",
       "       [0.],\n",
       "       [0.],\n",
       "       [0.],\n",
       "       [0.],\n",
       "       [0.],\n",
       "       [0.],\n",
       "       [0.],\n",
       "       [0.],\n",
       "       [0.],\n",
       "       [0.],\n",
       "       [0.],\n",
       "       [0.],\n",
       "       [1.],\n",
       "       [0.],\n",
       "       [0.],\n",
       "       [0.],\n",
       "       [1.],\n",
       "       [0.],\n",
       "       [0.],\n",
       "       [0.],\n",
       "       [0.],\n",
       "       [0.],\n",
       "       [0.],\n",
       "       [1.],\n",
       "       [0.],\n",
       "       [0.],\n",
       "       [0.],\n",
       "       [0.],\n",
       "       [0.],\n",
       "       [0.],\n",
       "       [0.],\n",
       "       [0.],\n",
       "       [0.],\n",
       "       [1.],\n",
       "       [1.],\n",
       "       [0.],\n",
       "       [1.],\n",
       "       [0.],\n",
       "       [0.],\n",
       "       [1.],\n",
       "       [0.],\n",
       "       [0.],\n",
       "       [0.],\n",
       "       [1.],\n",
       "       [0.],\n",
       "       [1.],\n",
       "       [1.],\n",
       "       [0.],\n",
       "       [1.],\n",
       "       [0.],\n",
       "       [0.],\n",
       "       [0.],\n",
       "       [0.],\n",
       "       [0.],\n",
       "       [0.],\n",
       "       [0.],\n",
       "       [0.],\n",
       "       [0.],\n",
       "       [1.],\n",
       "       [0.],\n",
       "       [0.],\n",
       "       [0.],\n",
       "       [0.],\n",
       "       [0.],\n",
       "       [0.],\n",
       "       [1.],\n",
       "       [1.],\n",
       "       [0.],\n",
       "       [0.],\n",
       "       [0.],\n",
       "       [1.],\n",
       "       [0.],\n",
       "       [1.],\n",
       "       [0.],\n",
       "       [1.],\n",
       "       [0.],\n",
       "       [1.],\n",
       "       [0.],\n",
       "       [0.],\n",
       "       [0.],\n",
       "       [0.],\n",
       "       [0.],\n",
       "       [1.],\n",
       "       [0.],\n",
       "       [0.],\n",
       "       [0.],\n",
       "       [0.],\n",
       "       [0.],\n",
       "       [0.],\n",
       "       [1.],\n",
       "       [0.],\n",
       "       [0.],\n",
       "       [0.],\n",
       "       [1.],\n",
       "       [0.],\n",
       "       [0.],\n",
       "       [1.],\n",
       "       [0.],\n",
       "       [0.],\n",
       "       [0.],\n",
       "       [0.],\n",
       "       [1.],\n",
       "       [0.],\n",
       "       [0.],\n",
       "       [1.],\n",
       "       [1.],\n",
       "       [1.],\n",
       "       [0.],\n",
       "       [0.],\n",
       "       [0.],\n",
       "       [0.],\n",
       "       [0.],\n",
       "       [1.],\n",
       "       [0.],\n",
       "       [0.],\n",
       "       [0.],\n",
       "       [0.],\n",
       "       [0.],\n",
       "       [0.],\n",
       "       [0.],\n",
       "       [1.],\n",
       "       [0.],\n",
       "       [1.],\n",
       "       [0.],\n",
       "       [0.],\n",
       "       [0.],\n",
       "       [0.],\n",
       "       [0.],\n",
       "       [1.],\n",
       "       [0.],\n",
       "       [0.],\n",
       "       [0.],\n",
       "       [0.],\n",
       "       [0.],\n",
       "       [1.],\n",
       "       [0.],\n",
       "       [0.],\n",
       "       [0.],\n",
       "       [0.],\n",
       "       [0.],\n",
       "       [0.],\n",
       "       [0.],\n",
       "       [0.],\n",
       "       [0.],\n",
       "       [0.],\n",
       "       [0.],\n",
       "       [1.],\n",
       "       [0.],\n",
       "       [0.],\n",
       "       [0.],\n",
       "       [0.],\n",
       "       [1.],\n",
       "       [1.],\n",
       "       [0.],\n",
       "       [0.],\n",
       "       [1.],\n",
       "       [1.],\n",
       "       [0.],\n",
       "       [0.],\n",
       "       [0.],\n",
       "       [0.],\n",
       "       [0.],\n",
       "       [1.],\n",
       "       [0.],\n",
       "       [0.],\n",
       "       [0.],\n",
       "       [0.],\n",
       "       [0.],\n",
       "       [1.],\n",
       "       [1.],\n",
       "       [0.],\n",
       "       [0.],\n",
       "       [1.],\n",
       "       [0.],\n",
       "       [1.],\n",
       "       [0.],\n",
       "       [0.],\n",
       "       [0.],\n",
       "       [0.],\n",
       "       [1.],\n",
       "       [1.],\n",
       "       [1.],\n",
       "       [0.],\n",
       "       [0.],\n",
       "       [0.],\n",
       "       [1.],\n",
       "       [0.],\n",
       "       [0.],\n",
       "       [0.],\n",
       "       [0.],\n",
       "       [0.],\n",
       "       [1.],\n",
       "       [0.],\n",
       "       [1.],\n",
       "       [0.],\n",
       "       [1.],\n",
       "       [0.],\n",
       "       [1.],\n",
       "       [0.],\n",
       "       [0.],\n",
       "       [0.],\n",
       "       [0.],\n",
       "       [1.],\n",
       "       [1.],\n",
       "       [0.],\n",
       "       [0.],\n",
       "       [0.],\n",
       "       [0.],\n",
       "       [0.],\n",
       "       [0.],\n",
       "       [0.],\n",
       "       [0.],\n",
       "       [0.],\n",
       "       [1.],\n",
       "       [0.],\n",
       "       [1.],\n",
       "       [1.],\n",
       "       [0.],\n",
       "       [0.],\n",
       "       [0.],\n",
       "       [0.],\n",
       "       [0.],\n",
       "       [1.],\n",
       "       [1.],\n",
       "       [0.],\n",
       "       [1.],\n",
       "       [0.],\n",
       "       [1.],\n",
       "       [0.],\n",
       "       [0.],\n",
       "       [0.],\n",
       "       [1.],\n",
       "       [0.],\n",
       "       [0.],\n",
       "       [0.],\n",
       "       [0.],\n",
       "       [1.],\n",
       "       [0.],\n",
       "       [0.],\n",
       "       [1.],\n",
       "       [0.],\n",
       "       [0.],\n",
       "       [0.],\n",
       "       [0.],\n",
       "       [1.],\n",
       "       [0.],\n",
       "       [0.],\n",
       "       [0.],\n",
       "       [0.],\n",
       "       [1.],\n",
       "       [0.],\n",
       "       [0.],\n",
       "       [1.],\n",
       "       [0.],\n",
       "       [1.],\n",
       "       [1.],\n",
       "       [1.],\n",
       "       [0.],\n",
       "       [0.],\n",
       "       [0.],\n",
       "       [1.],\n",
       "       [0.],\n",
       "       [0.],\n",
       "       [0.],\n",
       "       [0.],\n",
       "       [1.],\n",
       "       [1.]], dtype=float32)"
      ]
     },
     "execution_count": 115,
     "metadata": {
      "tags": []
     },
     "output_type": "execute_result"
    }
   ],
   "source": [
    "yhat_cnn"
   ]
  },
  {
   "cell_type": "code",
   "execution_count": 0,
   "metadata": {
    "colab": {},
    "colab_type": "code",
    "id": "nQzh1V85MQ2v"
   },
   "outputs": [],
   "source": []
  }
 ],
 "metadata": {
  "accelerator": "GPU",
  "colab": {
   "name": "Untitled0.ipynb",
   "provenance": [],
   "version": "0.3.2"
  },
  "kernelspec": {
   "display_name": "Python 3",
   "language": "python",
   "name": "python3"
  },
  "language_info": {
   "codemirror_mode": {
    "name": "ipython",
    "version": 3
   },
   "file_extension": ".py",
   "mimetype": "text/x-python",
   "name": "python",
   "nbconvert_exporter": "python",
   "pygments_lexer": "ipython3",
   "version": "3.6.5"
  }
 },
 "nbformat": 4,
 "nbformat_minor": 1
}
