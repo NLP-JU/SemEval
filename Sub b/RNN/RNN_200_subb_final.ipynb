{
 "cells": [
  {
   "cell_type": "code",
   "execution_count": 1,
   "metadata": {
    "colab": {
     "base_uri": "https://localhost:8080/",
     "height": 52
    },
    "colab_type": "code",
    "executionInfo": {
     "elapsed": 5620,
     "status": "ok",
     "timestamp": 1548289863421,
     "user": {
      "displayName": "Mainak Pal",
      "photoUrl": "https://lh4.googleusercontent.com/-3bT3OpSIJQc/AAAAAAAAAAI/AAAAAAAAGzA/IREGSKRbDUA/s64/photo.jpg",
      "userId": "02259537652251181957"
     },
     "user_tz": -330
    },
    "id": "jFmhFBPIQNnB",
    "outputId": "95c9be00-4d09-4e08-ce9e-b7abd6a1e5b3"
   },
   "outputs": [
    {
     "name": "stdout",
     "output_type": "stream",
     "text": [
      "RNN_100_subb.ipynb\t\t      wordList-200.npy\r\n",
      "train_clean_subb_withuser_sorted.csv  wordVectors-200.npy\r\n"
     ]
    }
   ],
   "source": [
    "! ls"
   ]
  },
  {
   "cell_type": "code",
   "execution_count": 2,
   "metadata": {
    "colab": {
     "base_uri": "https://localhost:8080/",
     "height": 206
    },
    "colab_type": "code",
    "executionInfo": {
     "elapsed": 2538,
     "status": "ok",
     "timestamp": 1548289889800,
     "user": {
      "displayName": "Mainak Pal",
      "photoUrl": "https://lh4.googleusercontent.com/-3bT3OpSIJQc/AAAAAAAAAAI/AAAAAAAAGzA/IREGSKRbDUA/s64/photo.jpg",
      "userId": "02259537652251181957"
     },
     "user_tz": -330
    },
    "id": "SjdJi3egQNnc",
    "outputId": "9ec5c9bf-78c5-4980-fd26-f8395f502575"
   },
   "outputs": [
    {
     "data": {
      "text/html": [
       "<div>\n",
       "<style scoped>\n",
       "    .dataframe tbody tr th:only-of-type {\n",
       "        vertical-align: middle;\n",
       "    }\n",
       "\n",
       "    .dataframe tbody tr th {\n",
       "        vertical-align: top;\n",
       "    }\n",
       "\n",
       "    .dataframe thead th {\n",
       "        text-align: right;\n",
       "    }\n",
       "</style>\n",
       "<table border=\"1\" class=\"dataframe\">\n",
       "  <thead>\n",
       "    <tr style=\"text-align: right;\">\n",
       "      <th></th>\n",
       "      <th>id</th>\n",
       "      <th>text</th>\n",
       "      <th>target</th>\n",
       "    </tr>\n",
       "  </thead>\n",
       "  <tbody>\n",
       "    <tr>\n",
       "      <th>0</th>\n",
       "      <td>91976</td>\n",
       "      <td>user user user think it is safe bet that donal...</td>\n",
       "      <td>1.0</td>\n",
       "    </tr>\n",
       "    <tr>\n",
       "      <th>1</th>\n",
       "      <td>15435</td>\n",
       "      <td>user got your ass lmao</td>\n",
       "      <td>1.0</td>\n",
       "    </tr>\n",
       "    <tr>\n",
       "      <th>2</th>\n",
       "      <td>63384</td>\n",
       "      <td>user dick durbin figures if he lies often enou...</td>\n",
       "      <td>1.0</td>\n",
       "    </tr>\n",
       "    <tr>\n",
       "      <th>3</th>\n",
       "      <td>88928</td>\n",
       "      <td>user sexy</td>\n",
       "      <td>1.0</td>\n",
       "    </tr>\n",
       "    <tr>\n",
       "      <th>4</th>\n",
       "      <td>21615</td>\n",
       "      <td>user user think he is racist out of touch with...</td>\n",
       "      <td>1.0</td>\n",
       "    </tr>\n",
       "  </tbody>\n",
       "</table>\n",
       "</div>"
      ],
      "text/plain": [
       "      id                                               text  target\n",
       "0  91976  user user user think it is safe bet that donal...     1.0\n",
       "1  15435                             user got your ass lmao     1.0\n",
       "2  63384  user dick durbin figures if he lies often enou...     1.0\n",
       "3  88928                                          user sexy     1.0\n",
       "4  21615  user user think he is racist out of touch with...     1.0"
      ]
     },
     "execution_count": 2,
     "metadata": {},
     "output_type": "execute_result"
    }
   ],
   "source": [
    "import numpy as np\n",
    "import pandas as pd\n",
    "\n",
    "csv = 'train_clean_subb_withuser_sorted.csv'\n",
    "df = pd.read_csv(csv)\n",
    "df.head()"
   ]
  },
  {
   "cell_type": "code",
   "execution_count": 3,
   "metadata": {
    "colab": {
     "base_uri": "https://localhost:8080/",
     "height": 52
    },
    "colab_type": "code",
    "executionInfo": {
     "elapsed": 4974,
     "status": "ok",
     "timestamp": 1548289928058,
     "user": {
      "displayName": "Mainak Pal",
      "photoUrl": "https://lh4.googleusercontent.com/-3bT3OpSIJQc/AAAAAAAAAAI/AAAAAAAAGzA/IREGSKRbDUA/s64/photo.jpg",
      "userId": "02259537652251181957"
     },
     "user_tz": -330
    },
    "id": "yPseEdlERUak",
    "outputId": "4dd7f28f-a105-4b23-b4dd-f3c678b0f18a"
   },
   "outputs": [
    {
     "name": "stdout",
     "output_type": "stream",
     "text": [
      "RNN_100_subb.ipynb\t\t      wordList-200.npy\r\n",
      "train_clean_subb_withuser_sorted.csv  wordVectors-200.npy\r\n"
     ]
    }
   ],
   "source": [
    "!ls"
   ]
  },
  {
   "cell_type": "code",
   "execution_count": 4,
   "metadata": {
    "colab": {
     "base_uri": "https://localhost:8080/",
     "height": 52
    },
    "colab_type": "code",
    "executionInfo": {
     "elapsed": 5760,
     "status": "ok",
     "timestamp": 1548289961085,
     "user": {
      "displayName": "Mainak Pal",
      "photoUrl": "https://lh4.googleusercontent.com/-3bT3OpSIJQc/AAAAAAAAAAI/AAAAAAAAGzA/IREGSKRbDUA/s64/photo.jpg",
      "userId": "02259537652251181957"
     },
     "user_tz": -330
    },
    "id": "8W_WnfIRQNoK",
    "outputId": "9a0748cf-d26e-46ac-d7d2-0f4e2ceb2872"
   },
   "outputs": [
    {
     "name": "stdout",
     "output_type": "stream",
     "text": [
      "Loaded the word list!\n",
      "Loaded the word vectors!\n"
     ]
    }
   ],
   "source": [
    "wordsList = np.load('wordList-200.npy')\n",
    "print('Loaded the word list!')\n",
    "wordsList = wordsList.tolist() #Originally loaded as numpy array\n",
    "wordsList = [word.decode('UTF-8') for word in wordsList] #Encode words as UTF-8\n",
    "wordVectors = np.load('wordVectors-200.npy')\n",
    "print ('Loaded the word vectors!')"
   ]
  },
  {
   "cell_type": "code",
   "execution_count": 10,
   "metadata": {
    "colab": {
     "base_uri": "https://localhost:8080/",
     "height": 52
    },
    "colab_type": "code",
    "executionInfo": {
     "elapsed": 2242,
     "status": "ok",
     "timestamp": 1548289965498,
     "user": {
      "displayName": "Mainak Pal",
      "photoUrl": "https://lh4.googleusercontent.com/-3bT3OpSIJQc/AAAAAAAAAAI/AAAAAAAAGzA/IREGSKRbDUA/s64/photo.jpg",
      "userId": "02259537652251181957"
     },
     "user_tz": -330
    },
    "id": "7MFUkFHTQNoW",
    "outputId": "5efea379-d310-4561-a2c9-e2ad90fc4a85"
   },
   "outputs": [
    {
     "name": "stdout",
     "output_type": "stream",
     "text": [
      "(10,)\n",
      "[   41   804     0  1005    15  7446     5 13767     0     0]\n"
     ]
    }
   ],
   "source": [
    "import tensorflow as tf\n",
    "maxSeqLength = 10 #Maximum length of sentence\n",
    "numDimensions = 200 #Dimensions for each word vector\n",
    "firstSentence = np.zeros((maxSeqLength), dtype='int32')\n",
    "firstSentence[0] = wordsList.index(\"i\")\n",
    "firstSentence[1] = wordsList.index(\"thought\")\n",
    "firstSentence[2] = wordsList.index(\"the\")\n",
    "firstSentence[3] = wordsList.index(\"movie\")\n",
    "firstSentence[4] = wordsList.index(\"was\")\n",
    "firstSentence[5] = wordsList.index(\"incredible\")\n",
    "firstSentence[6] = wordsList.index(\"and\")\n",
    "firstSentence[7] = wordsList.index(\"inspiring\")\n",
    "#firstSentence[8] and firstSentence[9] are going to be 0\n",
    "print(firstSentence.shape)\n",
    "print(firstSentence) #Shows the row index for each word"
   ]
  },
  {
   "cell_type": "code",
   "execution_count": null,
   "metadata": {},
   "outputs": [],
   "source": []
  },
  {
   "cell_type": "code",
   "execution_count": 11,
   "metadata": {
    "colab": {
     "base_uri": "https://localhost:8080/",
     "height": 69
    },
    "colab_type": "code",
    "executionInfo": {
     "elapsed": 1827,
     "status": "ok",
     "timestamp": 1548290067332,
     "user": {
      "displayName": "Mainak Pal",
      "photoUrl": "https://lh4.googleusercontent.com/-3bT3OpSIJQc/AAAAAAAAAAI/AAAAAAAAGzA/IREGSKRbDUA/s64/photo.jpg",
      "userId": "02259537652251181957"
     },
     "user_tz": -330
    },
    "id": "izqmkJO5QNop",
    "outputId": "6caa37ce-8800-47ab-a9b4-c3bd6c17696d"
   },
   "outputs": [
    {
     "name": "stdout",
     "output_type": "stream",
     "text": [
      "The total number of files is 4400\n",
      "The total number of words in the files is 98451\n",
      "The average number of words in the files is 22.375227272727273\n"
     ]
    }
   ],
   "source": [
    "#from os import listdir\n",
    "#from os.path import isfile, join\n",
    "#positiveFiles = ['positiveReviews/' + f for f in listdir('positiveReviews/') if isfile(join('positiveReviews/', f))]\n",
    "#negativeFiles = ['negativeReviews/' + f for f in listdir('negativeReviews/') if isfile(join('negativeReviews/', f))]\n",
    "numWords = []\n",
    "k = df.text\n",
    "#k = np.array(k)\n",
    "\n",
    "for i in range(len(k)) :\n",
    "  line = str(k[i])\n",
    "  counter = len(line.split())\n",
    "  numWords.append(counter)\n",
    "  \n",
    "  \n",
    "\n",
    "#for pf in positiveFiles:\n",
    "#    with open(pf, \"r\", encoding='utf-8') as f:\n",
    "#        line=f.readline()\n",
    "#        counter = len(line.split())\n",
    "#        numWords.append(counter)       \n",
    "#print('Positive files finished')\n",
    "\n",
    "#for nf in negativeFiles:\n",
    "#    with open(nf, \"r\", encoding='utf-8') as f:\n",
    "#        line=f.readline()\n",
    "#        counter = len(line.split())\n",
    "#        numWords.append(counter)  \n",
    "#print('Negative files finished')\n",
    "\n",
    "numFiles = len(numWords)\n",
    "print('The total number of files is', numFiles)\n",
    "print('The total number of words in the files is', sum(numWords))\n",
    "print('The average number of words in the files is', sum(numWords)/len(numWords))\n",
    "\n"
   ]
  },
  {
   "cell_type": "code",
   "execution_count": 12,
   "metadata": {},
   "outputs": [
    {
     "name": "stdout",
     "output_type": "stream",
     "text": [
      "(10, 200)\n"
     ]
    }
   ],
   "source": [
    "with tf.Session() as sess:\n",
    "    print(tf.nn.embedding_lookup(wordVectors,firstSentence).eval().shape)"
   ]
  },
  {
   "cell_type": "code",
   "execution_count": null,
   "metadata": {},
   "outputs": [],
   "source": []
  },
  {
   "cell_type": "code",
   "execution_count": null,
   "metadata": {},
   "outputs": [],
   "source": []
  },
  {
   "cell_type": "code",
   "execution_count": 13,
   "metadata": {
    "colab": {},
    "colab_type": "code",
    "id": "m6Ynkmi3QNo0"
   },
   "outputs": [],
   "source": [
    "k = df.text"
   ]
  },
  {
   "cell_type": "code",
   "execution_count": null,
   "metadata": {},
   "outputs": [],
   "source": []
  },
  {
   "cell_type": "code",
   "execution_count": null,
   "metadata": {},
   "outputs": [],
   "source": []
  },
  {
   "cell_type": "code",
   "execution_count": null,
   "metadata": {},
   "outputs": [],
   "source": []
  },
  {
   "cell_type": "code",
   "execution_count": 14,
   "metadata": {
    "colab": {},
    "colab_type": "code",
    "id": "TJRlm8b-QNo8"
   },
   "outputs": [],
   "source": [
    "maxSeqLength = 65"
   ]
  },
  {
   "cell_type": "code",
   "execution_count": 15,
   "metadata": {
    "colab": {},
    "colab_type": "code",
    "id": "Gz0KxsKfQNpE"
   },
   "outputs": [],
   "source": [
    "# Removes punctuation, parentheses, question marks, etc., and leaves only alphanumeric characters\n",
    "import re\n",
    "strip_special_chars = re.compile(\"[^A-Za-z0-9 ]+\")\n",
    "\n",
    "def cleanSentences(string):\n",
    "    string = string.lower().replace(\"<br />\", \" \")\n",
    "    return re.sub(strip_special_chars, \"\", string.lower())"
   ]
  },
  {
   "cell_type": "code",
   "execution_count": 16,
   "metadata": {
    "colab": {},
    "colab_type": "code",
    "id": "Gi2dNhOTQNpI"
   },
   "outputs": [],
   "source": [
    "ids = np.zeros((numFiles, maxSeqLength), dtype='int32')\n",
    "fileCounter = 0\n",
    "\n",
    "for i in range(len(k)) :\n",
    "  indexCounter = 0\n",
    "  line = str(k[i])\n",
    "  cleanedLine = cleanSentences(line)\n",
    "  split = cleanedLine.split()\n",
    "  for word in split:\n",
    "    try :\n",
    "      ids[fileCounter][indexCounter] = wordsList.index(word)\n",
    "    except ValueError:\n",
    "      ids[fileCounter][indexCounter] = 399999\n",
    "      \n",
    "    indexCounter = indexCounter + 1  \n",
    "    if indexCounter >= maxSeqLength:\n",
    "      break\n",
    "  fileCounter = fileCounter + 1   \n",
    "      \n",
    "      \n",
    "      \n",
    "\n",
    "# for pf in positiveFiles:\n",
    "#    with open(pf, \"r\") as f:\n",
    "#        indexCounter = 0\n",
    "#        line=f.readline()\n",
    "#        cleanedLine = cleanSentences(line)\n",
    "#        split = cleanedLine.split()\n",
    "#        for word in split:\n",
    "#            try:\n",
    "#                ids[fileCounter][indexCounter] = wordsList.index(word)\n",
    "#            except ValueError:\n",
    "#                ids[fileCounter][indexCounter] = 399999 #Vector for unkown words\n",
    "#            indexCounter = indexCounter + 1\n",
    "#            if indexCounter >= maxSeqLength:\n",
    "#                break\n",
    "#        fileCounter = fileCounter + 1 \n",
    "\n",
    "# for nf in negativeFiles:\n",
    "#    with open(nf, \"r\") as f:\n",
    "#        indexCounter = 0\n",
    "#        line=f.readline()\n",
    "#        cleanedLine = cleanSentences(line)\n",
    "#        split = cleanedLine.split()\n",
    "#        for word in split:\n",
    "#            try:\n",
    "#                ids[fileCounter][indexCounter] = wordsList.index(word)\n",
    "#            except ValueError:\n",
    "#                ids[fileCounter][indexCounter] = 399999 #Vector for unkown words\n",
    "#            indexCounter = indexCounter + 1\n",
    "#            if indexCounter >= maxSeqLength:\n",
    "#                break\n",
    "#        fileCounter = fileCounter + 1 \n",
    "# #Pass into embedding function and see if it evaluates. \n",
    "\n",
    "# np.save('idsMatrix', ids)"
   ]
  },
  {
   "cell_type": "code",
   "execution_count": 17,
   "metadata": {
    "colab": {
     "base_uri": "https://localhost:8080/",
     "height": 34
    },
    "colab_type": "code",
    "executionInfo": {
     "elapsed": 1543,
     "status": "ok",
     "timestamp": 1548290148584,
     "user": {
      "displayName": "Mainak Pal",
      "photoUrl": "https://lh4.googleusercontent.com/-3bT3OpSIJQc/AAAAAAAAAAI/AAAAAAAAGzA/IREGSKRbDUA/s64/photo.jpg",
      "userId": "02259537652251181957"
     },
     "user_tz": -330
    },
    "id": "ryFv7YvPQNpN",
    "outputId": "e4295181-a994-45d9-a3c7-af7b464c7155"
   },
   "outputs": [
    {
     "data": {
      "text/plain": [
       "'user user no real american would watch this crap'"
      ]
     },
     "execution_count": 17,
     "metadata": {},
     "output_type": "execute_result"
    }
   ],
   "source": [
    "df.text[3400]"
   ]
  },
  {
   "cell_type": "code",
   "execution_count": 18,
   "metadata": {
    "colab": {
     "base_uri": "https://localhost:8080/",
     "height": 156
    },
    "colab_type": "code",
    "executionInfo": {
     "elapsed": 1339,
     "status": "ok",
     "timestamp": 1548290160831,
     "user": {
      "displayName": "Mainak Pal",
      "photoUrl": "https://lh4.googleusercontent.com/-3bT3OpSIJQc/AAAAAAAAAAI/AAAAAAAAGzA/IREGSKRbDUA/s64/photo.jpg",
      "userId": "02259537652251181957"
     },
     "user_tz": -330
    },
    "id": "VJYcR_rJQNpX",
    "outputId": "2610dc24-4017-40bd-8b46-0889a183bfcf"
   },
   "outputs": [
    {
     "data": {
      "text/plain": [
       "array([ 4832,  4832,    84,   567,   140,    54,  1716,    37, 35404,\n",
       "           0,     0,     0,     0,     0,     0,     0,     0,     0,\n",
       "           0,     0,     0,     0,     0,     0,     0,     0,     0,\n",
       "           0,     0,     0,     0,     0,     0,     0,     0,     0,\n",
       "           0,     0,     0,     0,     0,     0,     0,     0,     0,\n",
       "           0,     0,     0,     0,     0,     0,     0,     0,     0,\n",
       "           0,     0,     0,     0,     0,     0,     0,     0,     0,\n",
       "           0,     0], dtype=int32)"
      ]
     },
     "execution_count": 18,
     "metadata": {},
     "output_type": "execute_result"
    }
   ],
   "source": [
    "ids[3400]"
   ]
  },
  {
   "cell_type": "code",
   "execution_count": 19,
   "metadata": {
    "colab": {},
    "colab_type": "code",
    "id": "3Nna3PVOQNpz"
   },
   "outputs": [],
   "source": [
    "np.save('idsMatrix', ids)"
   ]
  },
  {
   "cell_type": "code",
   "execution_count": 0,
   "metadata": {
    "colab": {},
    "colab_type": "code",
    "id": "WAVjt7FlQNp-"
   },
   "outputs": [],
   "source": [
    "ids = np.load('idsMatrix.npy')"
   ]
  },
  {
   "cell_type": "code",
   "execution_count": 20,
   "metadata": {
    "colab": {
     "base_uri": "https://localhost:8080/",
     "height": 206
    },
    "colab_type": "code",
    "executionInfo": {
     "elapsed": 1383,
     "status": "ok",
     "timestamp": 1548290212824,
     "user": {
      "displayName": "Mainak Pal",
      "photoUrl": "https://lh4.googleusercontent.com/-3bT3OpSIJQc/AAAAAAAAAAI/AAAAAAAAGzA/IREGSKRbDUA/s64/photo.jpg",
      "userId": "02259537652251181957"
     },
     "user_tz": -330
    },
    "id": "CdwshjCBQNqE",
    "outputId": "0b27f2f8-ba7f-48ca-e8f2-209de9ea5bbe"
   },
   "outputs": [
    {
     "data": {
      "text/html": [
       "<div>\n",
       "<style scoped>\n",
       "    .dataframe tbody tr th:only-of-type {\n",
       "        vertical-align: middle;\n",
       "    }\n",
       "\n",
       "    .dataframe tbody tr th {\n",
       "        vertical-align: top;\n",
       "    }\n",
       "\n",
       "    .dataframe thead th {\n",
       "        text-align: right;\n",
       "    }\n",
       "</style>\n",
       "<table border=\"1\" class=\"dataframe\">\n",
       "  <thead>\n",
       "    <tr style=\"text-align: right;\">\n",
       "      <th></th>\n",
       "      <th>id</th>\n",
       "      <th>text</th>\n",
       "      <th>target</th>\n",
       "    </tr>\n",
       "  </thead>\n",
       "  <tbody>\n",
       "    <tr>\n",
       "      <th>0</th>\n",
       "      <td>91976</td>\n",
       "      <td>user user user think it is safe bet that donal...</td>\n",
       "      <td>1.0</td>\n",
       "    </tr>\n",
       "    <tr>\n",
       "      <th>1</th>\n",
       "      <td>15435</td>\n",
       "      <td>user got your ass lmao</td>\n",
       "      <td>1.0</td>\n",
       "    </tr>\n",
       "    <tr>\n",
       "      <th>2</th>\n",
       "      <td>63384</td>\n",
       "      <td>user dick durbin figures if he lies often enou...</td>\n",
       "      <td>1.0</td>\n",
       "    </tr>\n",
       "    <tr>\n",
       "      <th>3</th>\n",
       "      <td>88928</td>\n",
       "      <td>user sexy</td>\n",
       "      <td>1.0</td>\n",
       "    </tr>\n",
       "    <tr>\n",
       "      <th>4</th>\n",
       "      <td>21615</td>\n",
       "      <td>user user think he is racist out of touch with...</td>\n",
       "      <td>1.0</td>\n",
       "    </tr>\n",
       "  </tbody>\n",
       "</table>\n",
       "</div>"
      ],
      "text/plain": [
       "      id                                               text  target\n",
       "0  91976  user user user think it is safe bet that donal...     1.0\n",
       "1  15435                             user got your ass lmao     1.0\n",
       "2  63384  user dick durbin figures if he lies often enou...     1.0\n",
       "3  88928                                          user sexy     1.0\n",
       "4  21615  user user think he is racist out of touch with...     1.0"
      ]
     },
     "execution_count": 20,
     "metadata": {},
     "output_type": "execute_result"
    }
   ],
   "source": [
    "df.head()"
   ]
  },
  {
   "cell_type": "code",
   "execution_count": 21,
   "metadata": {
    "colab": {},
    "colab_type": "code",
    "id": "h5jsGXFRQNqU"
   },
   "outputs": [],
   "source": [
    "labels1 = []\n",
    "p = df.target\n",
    "for i in range(len(p)):\n",
    "    o = int(p[i])\n",
    "    if o == 0 :\n",
    "        labels1.append([0,1])\n",
    "    else :\n",
    "        labels1.append([1,0])"
   ]
  },
  {
   "cell_type": "code",
   "execution_count": 22,
   "metadata": {
    "colab": {},
    "colab_type": "code",
    "id": "6B9jx1d_QNqY"
   },
   "outputs": [],
   "source": [
    "df['rnn'] = labels1"
   ]
  },
  {
   "cell_type": "code",
   "execution_count": 23,
   "metadata": {
    "colab": {
     "base_uri": "https://localhost:8080/",
     "height": 206
    },
    "colab_type": "code",
    "executionInfo": {
     "elapsed": 1784,
     "status": "ok",
     "timestamp": 1548290319137,
     "user": {
      "displayName": "Mainak Pal",
      "photoUrl": "https://lh4.googleusercontent.com/-3bT3OpSIJQc/AAAAAAAAAAI/AAAAAAAAGzA/IREGSKRbDUA/s64/photo.jpg",
      "userId": "02259537652251181957"
     },
     "user_tz": -330
    },
    "id": "NxYxJ89AQNqf",
    "outputId": "0e1e0cda-7671-42cf-e734-08c41b729c57"
   },
   "outputs": [
    {
     "data": {
      "text/html": [
       "<div>\n",
       "<style scoped>\n",
       "    .dataframe tbody tr th:only-of-type {\n",
       "        vertical-align: middle;\n",
       "    }\n",
       "\n",
       "    .dataframe tbody tr th {\n",
       "        vertical-align: top;\n",
       "    }\n",
       "\n",
       "    .dataframe thead th {\n",
       "        text-align: right;\n",
       "    }\n",
       "</style>\n",
       "<table border=\"1\" class=\"dataframe\">\n",
       "  <thead>\n",
       "    <tr style=\"text-align: right;\">\n",
       "      <th></th>\n",
       "      <th>id</th>\n",
       "      <th>text</th>\n",
       "      <th>target</th>\n",
       "      <th>rnn</th>\n",
       "    </tr>\n",
       "  </thead>\n",
       "  <tbody>\n",
       "    <tr>\n",
       "      <th>4395</th>\n",
       "      <td>16985</td>\n",
       "      <td>user user it takes sec google search to see wh...</td>\n",
       "      <td>0.0</td>\n",
       "      <td>[0, 1]</td>\n",
       "    </tr>\n",
       "    <tr>\n",
       "      <th>4396</th>\n",
       "      <td>44884</td>\n",
       "      <td>people are dead after shooting spree in califo...</td>\n",
       "      <td>0.0</td>\n",
       "      <td>[0, 1]</td>\n",
       "    </tr>\n",
       "    <tr>\n",
       "      <th>4397</th>\n",
       "      <td>84630</td>\n",
       "      <td>user user cupcakes suck it up she lost get ove...</td>\n",
       "      <td>0.0</td>\n",
       "      <td>[0, 1]</td>\n",
       "    </tr>\n",
       "    <tr>\n",
       "      <th>4398</th>\n",
       "      <td>67248</td>\n",
       "      <td>user user yes he is</td>\n",
       "      <td>0.0</td>\n",
       "      <td>[0, 1]</td>\n",
       "    </tr>\n",
       "    <tr>\n",
       "      <th>4399</th>\n",
       "      <td>27429</td>\n",
       "      <td>user pussy</td>\n",
       "      <td>0.0</td>\n",
       "      <td>[0, 1]</td>\n",
       "    </tr>\n",
       "  </tbody>\n",
       "</table>\n",
       "</div>"
      ],
      "text/plain": [
       "         id                                               text  target     rnn\n",
       "4395  16985  user user it takes sec google search to see wh...     0.0  [0, 1]\n",
       "4396  44884  people are dead after shooting spree in califo...     0.0  [0, 1]\n",
       "4397  84630  user user cupcakes suck it up she lost get ove...     0.0  [0, 1]\n",
       "4398  67248                                user user yes he is     0.0  [0, 1]\n",
       "4399  27429                                         user pussy     0.0  [0, 1]"
      ]
     },
     "execution_count": 23,
     "metadata": {},
     "output_type": "execute_result"
    }
   ],
   "source": [
    "df.tail()"
   ]
  },
  {
   "cell_type": "code",
   "execution_count": 24,
   "metadata": {
    "colab": {
     "base_uri": "https://localhost:8080/",
     "height": 206
    },
    "colab_type": "code",
    "executionInfo": {
     "elapsed": 1582,
     "status": "ok",
     "timestamp": 1548290348886,
     "user": {
      "displayName": "Mainak Pal",
      "photoUrl": "https://lh4.googleusercontent.com/-3bT3OpSIJQc/AAAAAAAAAAI/AAAAAAAAGzA/IREGSKRbDUA/s64/photo.jpg",
      "userId": "02259537652251181957"
     },
     "user_tz": -330
    },
    "id": "Wzasd5GVQNqw",
    "outputId": "e6624890-0bcd-4d0a-cb4a-a0f745a212ad"
   },
   "outputs": [
    {
     "data": {
      "text/html": [
       "<div>\n",
       "<style scoped>\n",
       "    .dataframe tbody tr th:only-of-type {\n",
       "        vertical-align: middle;\n",
       "    }\n",
       "\n",
       "    .dataframe tbody tr th {\n",
       "        vertical-align: top;\n",
       "    }\n",
       "\n",
       "    .dataframe thead th {\n",
       "        text-align: right;\n",
       "    }\n",
       "</style>\n",
       "<table border=\"1\" class=\"dataframe\">\n",
       "  <thead>\n",
       "    <tr style=\"text-align: right;\">\n",
       "      <th></th>\n",
       "      <th>id</th>\n",
       "      <th>text</th>\n",
       "      <th>target</th>\n",
       "      <th>rnn</th>\n",
       "    </tr>\n",
       "  </thead>\n",
       "  <tbody>\n",
       "    <tr>\n",
       "      <th>0</th>\n",
       "      <td>91976</td>\n",
       "      <td>user user user think it is safe bet that donal...</td>\n",
       "      <td>1.0</td>\n",
       "      <td>[1, 0]</td>\n",
       "    </tr>\n",
       "    <tr>\n",
       "      <th>1</th>\n",
       "      <td>15435</td>\n",
       "      <td>user got your ass lmao</td>\n",
       "      <td>1.0</td>\n",
       "      <td>[1, 0]</td>\n",
       "    </tr>\n",
       "    <tr>\n",
       "      <th>2</th>\n",
       "      <td>63384</td>\n",
       "      <td>user dick durbin figures if he lies often enou...</td>\n",
       "      <td>1.0</td>\n",
       "      <td>[1, 0]</td>\n",
       "    </tr>\n",
       "    <tr>\n",
       "      <th>3</th>\n",
       "      <td>88928</td>\n",
       "      <td>user sexy</td>\n",
       "      <td>1.0</td>\n",
       "      <td>[1, 0]</td>\n",
       "    </tr>\n",
       "    <tr>\n",
       "      <th>4</th>\n",
       "      <td>21615</td>\n",
       "      <td>user user think he is racist out of touch with...</td>\n",
       "      <td>1.0</td>\n",
       "      <td>[1, 0]</td>\n",
       "    </tr>\n",
       "  </tbody>\n",
       "</table>\n",
       "</div>"
      ],
      "text/plain": [
       "      id                                               text  target     rnn\n",
       "0  91976  user user user think it is safe bet that donal...     1.0  [1, 0]\n",
       "1  15435                             user got your ass lmao     1.0  [1, 0]\n",
       "2  63384  user dick durbin figures if he lies often enou...     1.0  [1, 0]\n",
       "3  88928                                          user sexy     1.0  [1, 0]\n",
       "4  21615  user user think he is racist out of touch with...     1.0  [1, 0]"
      ]
     },
     "execution_count": 24,
     "metadata": {},
     "output_type": "execute_result"
    }
   ],
   "source": [
    "df.head()"
   ]
  },
  {
   "cell_type": "code",
   "execution_count": 25,
   "metadata": {
    "colab": {
     "base_uri": "https://localhost:8080/",
     "height": 34
    },
    "colab_type": "code",
    "executionInfo": {
     "elapsed": 2549,
     "status": "ok",
     "timestamp": 1548290408066,
     "user": {
      "displayName": "Mainak Pal",
      "photoUrl": "https://lh4.googleusercontent.com/-3bT3OpSIJQc/AAAAAAAAAAI/AAAAAAAAGzA/IREGSKRbDUA/s64/photo.jpg",
      "userId": "02259537652251181957"
     },
     "user_tz": -330
    },
    "id": "0zCnKNyfQNrX",
    "outputId": "46342dda-a97f-4e9b-d632-62c036583d87"
   },
   "outputs": [
    {
     "data": {
      "text/plain": [
       "1.0"
      ]
     },
     "execution_count": 25,
     "metadata": {},
     "output_type": "execute_result"
    }
   ],
   "source": [
    "df.target[3875]"
   ]
  },
  {
   "cell_type": "code",
   "execution_count": 26,
   "metadata": {
    "colab": {
     "base_uri": "https://localhost:8080/",
     "height": 34
    },
    "colab_type": "code",
    "executionInfo": {
     "elapsed": 1723,
     "status": "ok",
     "timestamp": 1548290426004,
     "user": {
      "displayName": "Mainak Pal",
      "photoUrl": "https://lh4.googleusercontent.com/-3bT3OpSIJQc/AAAAAAAAAAI/AAAAAAAAGzA/IREGSKRbDUA/s64/photo.jpg",
      "userId": "02259537652251181957"
     },
     "user_tz": -330
    },
    "id": "gpkZeV-qQNrc",
    "outputId": "56d3b8a2-5f08-4ba8-cc75-6bde977e69a4"
   },
   "outputs": [
    {
     "data": {
      "text/plain": [
       "0.0"
      ]
     },
     "execution_count": 26,
     "metadata": {},
     "output_type": "execute_result"
    }
   ],
   "source": [
    "df.target[3876]"
   ]
  },
  {
   "cell_type": "code",
   "execution_count": 27,
   "metadata": {
    "colab": {
     "base_uri": "https://localhost:8080/",
     "height": 34
    },
    "colab_type": "code",
    "executionInfo": {
     "elapsed": 2130,
     "status": "ok",
     "timestamp": 1548290444384,
     "user": {
      "displayName": "Mainak Pal",
      "photoUrl": "https://lh4.googleusercontent.com/-3bT3OpSIJQc/AAAAAAAAAAI/AAAAAAAAGzA/IREGSKRbDUA/s64/photo.jpg",
      "userId": "02259537652251181957"
     },
     "user_tz": -330
    },
    "id": "S4eIiyaUQNrh",
    "outputId": "0e856d28-0e74-40e7-c765-05a137ab2c79"
   },
   "outputs": [
    {
     "data": {
      "text/plain": [
       "[1, 0]"
      ]
     },
     "execution_count": 27,
     "metadata": {},
     "output_type": "execute_result"
    }
   ],
   "source": [
    "df.rnn[3875]"
   ]
  },
  {
   "cell_type": "code",
   "execution_count": 28,
   "metadata": {
    "colab": {
     "base_uri": "https://localhost:8080/",
     "height": 34
    },
    "colab_type": "code",
    "executionInfo": {
     "elapsed": 1577,
     "status": "ok",
     "timestamp": 1548290469528,
     "user": {
      "displayName": "Mainak Pal",
      "photoUrl": "https://lh4.googleusercontent.com/-3bT3OpSIJQc/AAAAAAAAAAI/AAAAAAAAGzA/IREGSKRbDUA/s64/photo.jpg",
      "userId": "02259537652251181957"
     },
     "user_tz": -330
    },
    "id": "POyJxHHQTVm2",
    "outputId": "54cbbf27-39dd-4257-e948-8c75a94b7535"
   },
   "outputs": [
    {
     "data": {
      "text/plain": [
       "[0, 1]"
      ]
     },
     "execution_count": 28,
     "metadata": {},
     "output_type": "execute_result"
    }
   ],
   "source": [
    "df.rnn[3876]"
   ]
  },
  {
   "cell_type": "code",
   "execution_count": 29,
   "metadata": {
    "colab": {
     "base_uri": "https://localhost:8080/",
     "height": 34
    },
    "colab_type": "code",
    "executionInfo": {
     "elapsed": 1953,
     "status": "ok",
     "timestamp": 1548290505364,
     "user": {
      "displayName": "Mainak Pal",
      "photoUrl": "https://lh4.googleusercontent.com/-3bT3OpSIJQc/AAAAAAAAAAI/AAAAAAAAGzA/IREGSKRbDUA/s64/photo.jpg",
      "userId": "02259537652251181957"
     },
     "user_tz": -330
    },
    "id": "OEp-31k7QNr_",
    "outputId": "39fa82f9-d7da-4dad-b560-09dd1847207a"
   },
   "outputs": [
    {
     "data": {
      "text/plain": [
       "'user gutierrez you re such liar that all you guys are good for'"
      ]
     },
     "execution_count": 29,
     "metadata": {},
     "output_type": "execute_result"
    }
   ],
   "source": [
    "df.text[785]"
   ]
  },
  {
   "cell_type": "code",
   "execution_count": 30,
   "metadata": {
    "colab": {
     "base_uri": "https://localhost:8080/",
     "height": 156
    },
    "colab_type": "code",
    "executionInfo": {
     "elapsed": 1745,
     "status": "ok",
     "timestamp": 1548290516131,
     "user": {
      "displayName": "Mainak Pal",
      "photoUrl": "https://lh4.googleusercontent.com/-3bT3OpSIJQc/AAAAAAAAAAI/AAAAAAAAGzA/IREGSKRbDUA/s64/photo.jpg",
      "userId": "02259537652251181957"
     },
     "user_tz": -330
    },
    "id": "BKQ8cgXZQNsE",
    "outputId": "b9ccbcc9-f3c1-43b8-fe64-a4883f6cf517"
   },
   "outputs": [
    {
     "data": {
      "text/plain": [
       "array([ 4832, 12466,    81,  1765,   125, 18939,    12,    64,    81,\n",
       "        2284,    32,   219,    10,     0,     0,     0,     0,     0,\n",
       "           0,     0,     0,     0,     0,     0,     0,     0,     0,\n",
       "           0,     0,     0,     0,     0,     0,     0,     0,     0,\n",
       "           0,     0,     0,     0,     0,     0,     0,     0,     0,\n",
       "           0,     0,     0,     0,     0,     0,     0,     0,     0,\n",
       "           0,     0,     0,     0,     0,     0,     0,     0,     0,\n",
       "           0,     0], dtype=int32)"
      ]
     },
     "execution_count": 30,
     "metadata": {},
     "output_type": "execute_result"
    }
   ],
   "source": [
    "ids[785]"
   ]
  },
  {
   "cell_type": "code",
   "execution_count": 31,
   "metadata": {
    "colab": {},
    "colab_type": "code",
    "id": "7IL2NVk4Tl0F"
   },
   "outputs": [],
   "source": [
    "from random import randint\n",
    "\n",
    "def getTrainBatch():\n",
    "    labels = []\n",
    "    arr = np.zeros([batchSize, maxSeqLength])\n",
    "    for i in range(batchSize):\n",
    "        if (i % 2 == 0): \n",
    "            num = randint(0,3200)\n",
    "            labels.append(labels1[num])\n",
    "        else:\n",
    "            num = randint(4000,4398)\n",
    "            labels.append(labels1[num])\n",
    "        arr[i] = ids[num]\n",
    "    return arr, labels\n",
    "\n",
    "def getTestBatch():\n",
    "    labels = []\n",
    "    arr = np.zeros([batchSize, maxSeqLength])\n",
    "    for i in range(batchSize):\n",
    "        num = randint(3200,4000)\n",
    "        if (num <= 3876):\n",
    "            labels.append(labels1[num])\n",
    "        else:\n",
    "            labels.append(labels1[num])\n",
    "        arr[i] = ids[num]\n",
    "    return arr, labels"
   ]
  },
  {
   "cell_type": "code",
   "execution_count": 32,
   "metadata": {
    "colab": {},
    "colab_type": "code",
    "id": "RM6K20oZUMz0"
   },
   "outputs": [],
   "source": [
    "batchSize = 24\n",
    "pr,lr =  getTrainBatch()"
   ]
  },
  {
   "cell_type": "code",
   "execution_count": 33,
   "metadata": {
    "colab": {
     "base_uri": "https://localhost:8080/",
     "height": 34
    },
    "colab_type": "code",
    "executionInfo": {
     "elapsed": 1773,
     "status": "ok",
     "timestamp": 1548290837280,
     "user": {
      "displayName": "Mainak Pal",
      "photoUrl": "https://lh4.googleusercontent.com/-3bT3OpSIJQc/AAAAAAAAAAI/AAAAAAAAGzA/IREGSKRbDUA/s64/photo.jpg",
      "userId": "02259537652251181957"
     },
     "user_tz": -330
    },
    "id": "9TSHI4XgUW-7",
    "outputId": "808c50f7-a70e-47d9-f508-66ad95ea4b98"
   },
   "outputs": [
    {
     "data": {
      "text/plain": [
       "24"
      ]
     },
     "execution_count": 33,
     "metadata": {},
     "output_type": "execute_result"
    }
   ],
   "source": [
    "len(pr)"
   ]
  },
  {
   "cell_type": "code",
   "execution_count": 34,
   "metadata": {
    "colab": {},
    "colab_type": "code",
    "id": "OjySyoqnUnbo"
   },
   "outputs": [],
   "source": [
    "batchSize = 24\n",
    "lstmUnits = 64\n",
    "numClasses = 2\n",
    "iterations = 100000"
   ]
  },
  {
   "cell_type": "code",
   "execution_count": 35,
   "metadata": {
    "colab": {},
    "colab_type": "code",
    "id": "LR8W40zLU5h_"
   },
   "outputs": [],
   "source": [
    "import tensorflow as tf\n",
    "tf.reset_default_graph()\n",
    "\n",
    "labels = tf.placeholder(tf.float32, [batchSize, numClasses])\n",
    "input_data = tf.placeholder(tf.int32, [batchSize, maxSeqLength])"
   ]
  },
  {
   "cell_type": "code",
   "execution_count": 36,
   "metadata": {
    "colab": {},
    "colab_type": "code",
    "id": "XQ7QAMhyU8qa"
   },
   "outputs": [],
   "source": [
    "data = tf.Variable(tf.zeros([batchSize, maxSeqLength, numDimensions]),dtype=tf.float32)\n",
    "data = tf.nn.embedding_lookup(wordVectors,input_data)"
   ]
  },
  {
   "cell_type": "code",
   "execution_count": 37,
   "metadata": {
    "colab": {
     "base_uri": "https://localhost:8080/",
     "height": 89
    },
    "colab_type": "code",
    "executionInfo": {
     "elapsed": 8374,
     "status": "ok",
     "timestamp": 1548290908638,
     "user": {
      "displayName": "Mainak Pal",
      "photoUrl": "https://lh4.googleusercontent.com/-3bT3OpSIJQc/AAAAAAAAAAI/AAAAAAAAGzA/IREGSKRbDUA/s64/photo.jpg",
      "userId": "02259537652251181957"
     },
     "user_tz": -330
    },
    "id": "57vKvefSVAan",
    "outputId": "5215eff1-02d2-4583-a738-696ab87fea75"
   },
   "outputs": [
    {
     "name": "stdout",
     "output_type": "stream",
     "text": [
      "WARNING:tensorflow:From <ipython-input-37-db6a6fc2c55e>:1: BasicLSTMCell.__init__ (from tensorflow.python.ops.rnn_cell_impl) is deprecated and will be removed in a future version.\n",
      "Instructions for updating:\n",
      "This class is deprecated, please use tf.nn.rnn_cell.LSTMCell, which supports all the feature this cell currently has. Please replace the existing code with tf.nn.rnn_cell.LSTMCell(name='basic_lstm_cell').\n"
     ]
    }
   ],
   "source": [
    "lstmCell = tf.contrib.rnn.BasicLSTMCell(lstmUnits)\n",
    "lstmCell = tf.contrib.rnn.DropoutWrapper(cell=lstmCell, output_keep_prob=0.75)\n",
    "value, _ = tf.nn.dynamic_rnn(lstmCell, data, dtype=tf.float32)"
   ]
  },
  {
   "cell_type": "code",
   "execution_count": 38,
   "metadata": {
    "colab": {},
    "colab_type": "code",
    "id": "oVhd8U4fVEBG"
   },
   "outputs": [],
   "source": [
    "weight = tf.Variable(tf.truncated_normal([lstmUnits, numClasses]))\n",
    "bias = tf.Variable(tf.constant(0.1, shape=[numClasses]))\n",
    "value = tf.transpose(value, [1, 0, 2])\n",
    "last = tf.gather(value, int(value.get_shape()[0]) - 1)\n",
    "prediction = (tf.matmul(last, weight) + bias)"
   ]
  },
  {
   "cell_type": "code",
   "execution_count": 39,
   "metadata": {
    "colab": {},
    "colab_type": "code",
    "id": "gH7md3YwVJTf"
   },
   "outputs": [],
   "source": [
    "correctPred = tf.equal(tf.argmax(prediction,1), tf.argmax(labels,1))\n",
    "accuracy = tf.reduce_mean(tf.cast(correctPred, tf.float32))"
   ]
  },
  {
   "cell_type": "code",
   "execution_count": 40,
   "metadata": {
    "colab": {
     "base_uri": "https://localhost:8080/",
     "height": 176
    },
    "colab_type": "code",
    "executionInfo": {
     "elapsed": 1587,
     "status": "ok",
     "timestamp": 1548290957015,
     "user": {
      "displayName": "Mainak Pal",
      "photoUrl": "https://lh4.googleusercontent.com/-3bT3OpSIJQc/AAAAAAAAAAI/AAAAAAAAGzA/IREGSKRbDUA/s64/photo.jpg",
      "userId": "02259537652251181957"
     },
     "user_tz": -330
    },
    "id": "43zlHkY-VNBF",
    "outputId": "a687682f-bb85-421f-e6fc-3524ea6d8521"
   },
   "outputs": [
    {
     "name": "stdout",
     "output_type": "stream",
     "text": [
      "WARNING:tensorflow:From <ipython-input-40-773132a4e1b5>:1: softmax_cross_entropy_with_logits (from tensorflow.python.ops.nn_ops) is deprecated and will be removed in a future version.\n",
      "Instructions for updating:\n",
      "\n",
      "Future major versions of TensorFlow will allow gradients to flow\n",
      "into the labels input on backprop by default.\n",
      "\n",
      "See `tf.nn.softmax_cross_entropy_with_logits_v2`.\n",
      "\n"
     ]
    }
   ],
   "source": [
    "loss = tf.reduce_mean(tf.nn.softmax_cross_entropy_with_logits(logits=prediction, labels=labels))\n",
    "optimizer = tf.train.AdamOptimizer().minimize(loss)"
   ]
  },
  {
   "cell_type": "code",
   "execution_count": 41,
   "metadata": {
    "colab": {},
    "colab_type": "code",
    "id": "GtU2N7VhVRe3"
   },
   "outputs": [],
   "source": [
    "import datetime\n",
    "\n",
    "sess = tf.InteractiveSession()\n",
    "tf.summary.scalar('Loss', loss)\n",
    "tf.summary.scalar('Accuracy', accuracy)\n",
    "merged = tf.summary.merge_all()\n",
    "logdir = \"tensorboard/\" + datetime.datetime.now().strftime(\"%Y%m%d-%H%M%S\") + \"/\"\n",
    "writer = tf.summary.FileWriter(logdir, sess.graph)"
   ]
  },
  {
   "cell_type": "code",
   "execution_count": 42,
   "metadata": {
    "colab": {
     "base_uri": "https://localhost:8080/",
     "height": 1090
    },
    "colab_type": "code",
    "executionInfo": {
     "elapsed": 57553,
     "status": "error",
     "timestamp": 1548294831856,
     "user": {
      "displayName": "Mainak Pal",
      "photoUrl": "https://lh4.googleusercontent.com/-3bT3OpSIJQc/AAAAAAAAAAI/AAAAAAAAGzA/IREGSKRbDUA/s64/photo.jpg",
      "userId": "02259537652251181957"
     },
     "user_tz": -330
    },
    "id": "RyL4jhpHVU7N",
    "outputId": "22258aba-815b-4cad-e671-6bd1356e29a9"
   },
   "outputs": [
    {
     "name": "stderr",
     "output_type": "stream",
     "text": [
      "/home/preeti/.local/lib/python3.6/site-packages/tensorflow/python/client/session.py:1702: UserWarning: An interactive session is already active. This can cause out-of-memory errors in some cases. You must explicitly call `InteractiveSession.close()` to release resources held by the other session(s).\n",
      "  warnings.warn('An interactive session is already active. This can '\n"
     ]
    },
    {
     "name": "stdout",
     "output_type": "stream",
     "text": [
      "saved to models/pretrained_lstm.ckpt-10000\n",
      "saved to models/pretrained_lstm.ckpt-20000\n",
      "saved to models/pretrained_lstm.ckpt-30000\n",
      "saved to models/pretrained_lstm.ckpt-40000\n",
      "saved to models/pretrained_lstm.ckpt-50000\n",
      "saved to models/pretrained_lstm.ckpt-60000\n",
      "saved to models/pretrained_lstm.ckpt-70000\n",
      "saved to models/pretrained_lstm.ckpt-80000\n",
      "saved to models/pretrained_lstm.ckpt-90000\n"
     ]
    }
   ],
   "source": [
    "sess = tf.InteractiveSession()\n",
    "saver = tf.train.Saver()\n",
    "sess.run(tf.global_variables_initializer())\n",
    "\n",
    "for i in range(iterations):\n",
    "  nextBatch, nextBatchLabels = getTrainBatch();\n",
    "  sess.run(optimizer, {input_data: nextBatch, labels: nextBatchLabels})\n",
    "  if (i % 50 == 0):\n",
    "    summary = sess.run(merged, {input_data: nextBatch, labels: nextBatchLabels})\n",
    "    writer.add_summary(summary, i)\n",
    "  if (i % 10000 == 0 and i != 0):\n",
    "    save_path = saver.save(sess, \"models/pretrained_lstm.ckpt\", global_step=i)\n",
    "    print(\"saved to %s\" % save_path)\n",
    "writer.close()"
   ]
  },
  {
   "cell_type": "code",
   "execution_count": 0,
   "metadata": {
    "colab": {},
    "colab_type": "code",
    "id": "LTmd5I3lVxhA"
   },
   "outputs": [],
   "source": []
  }
 ],
 "metadata": {
  "accelerator": "GPU",
  "colab": {
   "name": "RNN_100_subb.ipynb",
   "provenance": [],
   "version": "0.3.2"
  },
  "kernelspec": {
   "display_name": "Python 3",
   "language": "python",
   "name": "python3"
  },
  "language_info": {
   "codemirror_mode": {
    "name": "ipython",
    "version": 3
   },
   "file_extension": ".py",
   "mimetype": "text/x-python",
   "name": "python",
   "nbconvert_exporter": "python",
   "pygments_lexer": "ipython3",
   "version": "3.6.5"
  }
 },
 "nbformat": 4,
 "nbformat_minor": 1
}
