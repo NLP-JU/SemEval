{
 "cells": [
  {
   "cell_type": "code",
   "execution_count": 1,
   "metadata": {},
   "outputs": [],
   "source": [
    "import logging\n",
    "import pandas as pd\n",
    "import numpy as np\n",
    "from numpy import random\n",
    "import gensim\n",
    "import nltk\n",
    "from sklearn.model_selection import train_test_split\n",
    "from sklearn.feature_extraction.text import CountVectorizer, TfidfVectorizer\n",
    "from sklearn.metrics import accuracy_score, confusion_matrix\n",
    "import matplotlib.pyplot as plt\n",
    "from nltk.corpus import stopwords\n",
    "import re\n",
    "from bs4 import BeautifulSoup\n",
    "%matplotlib inline"
   ]
  },
  {
   "cell_type": "code",
   "execution_count": 2,
   "metadata": {},
   "outputs": [
    {
     "name": "stdout",
     "output_type": "stream",
     "text": [
      "clean_tweet_subc_withuser.csv\t       output_CNN.csv\r\n",
      "description_old.txt\t\t       output_ml_lr.csv\r\n",
      "description.txt\t\t\t       output_rnn_subc_NI.ipynb\r\n",
      "GoogleNews-vectors-negative300.bin.gz  test_clean_c.csv\r\n",
      "ml_cnn_subc.ipynb\r\n"
     ]
    }
   ],
   "source": [
    "!ls"
   ]
  },
  {
   "cell_type": "code",
   "execution_count": 3,
   "metadata": {},
   "outputs": [],
   "source": [
    "df = pd.read_csv('clean_tweet_subc_withuser.csv')"
   ]
  },
  {
   "cell_type": "code",
   "execution_count": 4,
   "metadata": {},
   "outputs": [
    {
     "data": {
      "text/html": [
       "<div>\n",
       "<style scoped>\n",
       "    .dataframe tbody tr th:only-of-type {\n",
       "        vertical-align: middle;\n",
       "    }\n",
       "\n",
       "    .dataframe tbody tr th {\n",
       "        vertical-align: top;\n",
       "    }\n",
       "\n",
       "    .dataframe thead th {\n",
       "        text-align: right;\n",
       "    }\n",
       "</style>\n",
       "<table border=\"1\" class=\"dataframe\">\n",
       "  <thead>\n",
       "    <tr style=\"text-align: right;\">\n",
       "      <th></th>\n",
       "      <th>id</th>\n",
       "      <th>text</th>\n",
       "      <th>subc</th>\n",
       "    </tr>\n",
       "  </thead>\n",
       "  <tbody>\n",
       "    <tr>\n",
       "      <th>0</th>\n",
       "      <td>90194</td>\n",
       "      <td>user user go home you re drunk user</td>\n",
       "      <td>0</td>\n",
       "    </tr>\n",
       "    <tr>\n",
       "      <th>1</th>\n",
       "      <td>97670</td>\n",
       "      <td>user liberals are all kookoo</td>\n",
       "      <td>1</td>\n",
       "    </tr>\n",
       "    <tr>\n",
       "      <th>2</th>\n",
       "      <td>52415</td>\n",
       "      <td>user was literally just talking about this lol...</td>\n",
       "      <td>2</td>\n",
       "    </tr>\n",
       "    <tr>\n",
       "      <th>3</th>\n",
       "      <td>13384</td>\n",
       "      <td>user canada doesn need another cuck we already...</td>\n",
       "      <td>0</td>\n",
       "    </tr>\n",
       "    <tr>\n",
       "      <th>4</th>\n",
       "      <td>28414</td>\n",
       "      <td>user you are lying corrupt traitor nobody want...</td>\n",
       "      <td>0</td>\n",
       "    </tr>\n",
       "  </tbody>\n",
       "</table>\n",
       "</div>"
      ],
      "text/plain": [
       "      id                                               text  subc\n",
       "0  90194                user user go home you re drunk user     0\n",
       "1  97670                       user liberals are all kookoo     1\n",
       "2  52415  user was literally just talking about this lol...     2\n",
       "3  13384  user canada doesn need another cuck we already...     0\n",
       "4  28414  user you are lying corrupt traitor nobody want...     0"
      ]
     },
     "execution_count": 4,
     "metadata": {},
     "output_type": "execute_result"
    }
   ],
   "source": [
    "df.head()"
   ]
  },
  {
   "cell_type": "code",
   "execution_count": 5,
   "metadata": {},
   "outputs": [
    {
     "data": {
      "text/html": [
       "<div>\n",
       "<style scoped>\n",
       "    .dataframe tbody tr th:only-of-type {\n",
       "        vertical-align: middle;\n",
       "    }\n",
       "\n",
       "    .dataframe tbody tr th {\n",
       "        vertical-align: top;\n",
       "    }\n",
       "\n",
       "    .dataframe thead th {\n",
       "        text-align: right;\n",
       "    }\n",
       "</style>\n",
       "<table border=\"1\" class=\"dataframe\">\n",
       "  <thead>\n",
       "    <tr style=\"text-align: right;\">\n",
       "      <th></th>\n",
       "      <th>id</th>\n",
       "      <th>text</th>\n",
       "      <th>subc</th>\n",
       "    </tr>\n",
       "  </thead>\n",
       "  <tbody>\n",
       "    <tr>\n",
       "      <th>0</th>\n",
       "      <td>90194</td>\n",
       "      <td>user user go home you re drunk user</td>\n",
       "      <td>0</td>\n",
       "    </tr>\n",
       "    <tr>\n",
       "      <th>1</th>\n",
       "      <td>97670</td>\n",
       "      <td>user liberals are all kookoo</td>\n",
       "      <td>1</td>\n",
       "    </tr>\n",
       "    <tr>\n",
       "      <th>2</th>\n",
       "      <td>52415</td>\n",
       "      <td>user was literally just talking about this lol...</td>\n",
       "      <td>2</td>\n",
       "    </tr>\n",
       "    <tr>\n",
       "      <th>3</th>\n",
       "      <td>13384</td>\n",
       "      <td>user canada doesn need another cuck we already...</td>\n",
       "      <td>0</td>\n",
       "    </tr>\n",
       "    <tr>\n",
       "      <th>4</th>\n",
       "      <td>28414</td>\n",
       "      <td>user you are lying corrupt traitor nobody want...</td>\n",
       "      <td>0</td>\n",
       "    </tr>\n",
       "    <tr>\n",
       "      <th>5</th>\n",
       "      <td>28195</td>\n",
       "      <td>user user user gun control that is all these k...</td>\n",
       "      <td>1</td>\n",
       "    </tr>\n",
       "    <tr>\n",
       "      <th>6</th>\n",
       "      <td>56117</td>\n",
       "      <td>user user user user lol throwing the bullshit ...</td>\n",
       "      <td>0</td>\n",
       "    </tr>\n",
       "    <tr>\n",
       "      <th>7</th>\n",
       "      <td>12681</td>\n",
       "      <td>user user kind of like when conservatives wann...</td>\n",
       "      <td>2</td>\n",
       "    </tr>\n",
       "    <tr>\n",
       "      <th>8</th>\n",
       "      <td>82904</td>\n",
       "      <td>user user da fuck is going on people there the...</td>\n",
       "      <td>2</td>\n",
       "    </tr>\n",
       "    <tr>\n",
       "      <th>9</th>\n",
       "      <td>77665</td>\n",
       "      <td>user tbh these days just do not like people in...</td>\n",
       "      <td>0</td>\n",
       "    </tr>\n",
       "  </tbody>\n",
       "</table>\n",
       "</div>"
      ],
      "text/plain": [
       "      id                                               text  subc\n",
       "0  90194                user user go home you re drunk user     0\n",
       "1  97670                       user liberals are all kookoo     1\n",
       "2  52415  user was literally just talking about this lol...     2\n",
       "3  13384  user canada doesn need another cuck we already...     0\n",
       "4  28414  user you are lying corrupt traitor nobody want...     0\n",
       "5  28195  user user user gun control that is all these k...     1\n",
       "6  56117  user user user user lol throwing the bullshit ...     0\n",
       "7  12681  user user kind of like when conservatives wann...     2\n",
       "8  82904  user user da fuck is going on people there the...     2\n",
       "9  77665  user tbh these days just do not like people in...     0"
      ]
     },
     "execution_count": 5,
     "metadata": {},
     "output_type": "execute_result"
    }
   ],
   "source": [
    "df.head(10)"
   ]
  },
  {
   "cell_type": "code",
   "execution_count": 6,
   "metadata": {},
   "outputs": [],
   "source": [
    "z = { 0 : 'IND' ,1 : 'OTH' , 2 : 'GRP'}\n",
    "df['subc'] = df.subc.map(z)\n"
   ]
  },
  {
   "cell_type": "code",
   "execution_count": 7,
   "metadata": {},
   "outputs": [
    {
     "data": {
      "text/html": [
       "<div>\n",
       "<style scoped>\n",
       "    .dataframe tbody tr th:only-of-type {\n",
       "        vertical-align: middle;\n",
       "    }\n",
       "\n",
       "    .dataframe tbody tr th {\n",
       "        vertical-align: top;\n",
       "    }\n",
       "\n",
       "    .dataframe thead th {\n",
       "        text-align: right;\n",
       "    }\n",
       "</style>\n",
       "<table border=\"1\" class=\"dataframe\">\n",
       "  <thead>\n",
       "    <tr style=\"text-align: right;\">\n",
       "      <th></th>\n",
       "      <th>id</th>\n",
       "      <th>text</th>\n",
       "      <th>subc</th>\n",
       "    </tr>\n",
       "  </thead>\n",
       "  <tbody>\n",
       "    <tr>\n",
       "      <th>0</th>\n",
       "      <td>90194</td>\n",
       "      <td>user user go home you re drunk user</td>\n",
       "      <td>IND</td>\n",
       "    </tr>\n",
       "    <tr>\n",
       "      <th>1</th>\n",
       "      <td>97670</td>\n",
       "      <td>user liberals are all kookoo</td>\n",
       "      <td>OTH</td>\n",
       "    </tr>\n",
       "    <tr>\n",
       "      <th>2</th>\n",
       "      <td>52415</td>\n",
       "      <td>user was literally just talking about this lol...</td>\n",
       "      <td>GRP</td>\n",
       "    </tr>\n",
       "    <tr>\n",
       "      <th>3</th>\n",
       "      <td>13384</td>\n",
       "      <td>user canada doesn need another cuck we already...</td>\n",
       "      <td>IND</td>\n",
       "    </tr>\n",
       "    <tr>\n",
       "      <th>4</th>\n",
       "      <td>28414</td>\n",
       "      <td>user you are lying corrupt traitor nobody want...</td>\n",
       "      <td>IND</td>\n",
       "    </tr>\n",
       "  </tbody>\n",
       "</table>\n",
       "</div>"
      ],
      "text/plain": [
       "      id                                               text subc\n",
       "0  90194                user user go home you re drunk user  IND\n",
       "1  97670                       user liberals are all kookoo  OTH\n",
       "2  52415  user was literally just talking about this lol...  GRP\n",
       "3  13384  user canada doesn need another cuck we already...  IND\n",
       "4  28414  user you are lying corrupt traitor nobody want...  IND"
      ]
     },
     "execution_count": 7,
     "metadata": {},
     "output_type": "execute_result"
    }
   ],
   "source": [
    "df.head()"
   ]
  },
  {
   "cell_type": "code",
   "execution_count": 8,
   "metadata": {},
   "outputs": [],
   "source": [
    "df = df[pd.notnull(df['subc'])]"
   ]
  },
  {
   "cell_type": "code",
   "execution_count": 9,
   "metadata": {},
   "outputs": [
    {
     "name": "stdout",
     "output_type": "stream",
     "text": [
      "89070\n"
     ]
    }
   ],
   "source": [
    "print(df['text'].apply(lambda x: len(x.split(' '))).sum())"
   ]
  },
  {
   "cell_type": "code",
   "execution_count": 10,
   "metadata": {},
   "outputs": [
    {
     "data": {
      "image/png": "[encoded data removed]",
      "text/plain": [
       "<Figure size 720x288 with 1 Axes>"
      ]
     },
     "metadata": {},
     "output_type": "display_data"
    }
   ],
   "source": [
    "my_tags = ['IND','OTH','GRP']\n",
    "plt.figure(figsize=(10,4))\n",
    "df.subc.value_counts().plot(kind='bar');"
   ]
  },
  {
   "cell_type": "code",
   "execution_count": 11,
   "metadata": {},
   "outputs": [
    {
     "name": "stdout",
     "output_type": "stream",
     "text": [
      "the only thing the democrats have is lying and stalling to stop trump from being what have they done for you lately\n",
      "Tag: GRP\n"
     ]
    }
   ],
   "source": [
    "def print_plot(index):\n",
    "    example = df[df.index == index][['text', 'subc']].values[0]\n",
    "    if len(example) > 0:\n",
    "        print(example[0])\n",
    "        print('Tag:', example[1])\n",
    "\n",
    "print_plot(10)"
   ]
  },
  {
   "cell_type": "code",
   "execution_count": 12,
   "metadata": {},
   "outputs": [],
   "source": [
    "X = df.text\n",
    "y = df.subc\n",
    "X_train, X_test, y_train, y_test = train_test_split(X, y, test_size=0.1, random_state = 42)"
   ]
  },
  {
   "cell_type": "code",
   "execution_count": 14,
   "metadata": {},
   "outputs": [
    {
     "name": "stdout",
     "output_type": "stream",
     "text": [
      "accuracy 0.6829896907216495\n",
      "             precision    recall  f1-score   support\n",
      "\n",
      "        IND       0.75      0.03      0.06        89\n",
      "        OTH       0.68      1.00      0.81       262\n",
      "        GRP       0.00      0.00      0.00        37\n",
      "\n",
      "avg / total       0.63      0.68      0.56       388\n",
      "\n"
     ]
    },
    {
     "name": "stderr",
     "output_type": "stream",
     "text": [
      "/home/preeti/anaconda3/lib/python3.6/site-packages/sklearn/metrics/classification.py:1135: UndefinedMetricWarning: Precision and F-score are ill-defined and being set to 0.0 in labels with no predicted samples.\n",
      "  'precision', 'predicted', average, warn_for)\n"
     ]
    }
   ],
   "source": [
    "from sklearn.naive_bayes import MultinomialNB\n",
    "from sklearn.pipeline import Pipeline\n",
    "from sklearn.feature_extraction.text import TfidfTransformer\n",
    "\n",
    "nb = Pipeline([('vect', CountVectorizer()),\n",
    "               ('tfidf', TfidfTransformer()),\n",
    "               ('clf', MultinomialNB()),\n",
    "              ])\n",
    "nb.fit(X_train, y_train)\n",
    "\n",
    "\n",
    "from sklearn.metrics import classification_report\n",
    "y_pred = nb.predict(X_test)\n",
    "\n",
    "print('accuracy %s' % accuracy_score(y_pred, y_test))\n",
    "print(classification_report(y_test, y_pred,target_names=my_tags))"
   ]
  },
  {
   "cell_type": "code",
   "execution_count": 160,
   "metadata": {},
   "outputs": [
    {
     "name": "stdout",
     "output_type": "stream",
     "text": [
      "accuracy 0.7242268041237113\n",
      "             precision    recall  f1-score   support\n",
      "\n",
      "        IND       0.58      0.44      0.50        89\n",
      "        OTH       0.75      0.92      0.83       262\n",
      "        GRP       0.00      0.00      0.00        37\n",
      "\n",
      "avg / total       0.64      0.72      0.68       388\n",
      "\n"
     ]
    },
    {
     "name": "stderr",
     "output_type": "stream",
     "text": [
      "/home/preeti/anaconda3/lib/python3.6/site-packages/sklearn/metrics/classification.py:1135: UndefinedMetricWarning: Precision and F-score are ill-defined and being set to 0.0 in labels with no predicted samples.\n",
      "  'precision', 'predicted', average, warn_for)\n"
     ]
    }
   ],
   "source": [
    "from sklearn.linear_model import SGDClassifier\n",
    "\n",
    "sgd = Pipeline([('vect', CountVectorizer()),\n",
    "                ('tfidf', TfidfTransformer()),\n",
    "                ('clf', SGDClassifier(loss='hinge', penalty='l2',alpha=1e-3, random_state=42, max_iter=5, tol=None)),\n",
    "               ])\n",
    "sgd.fit(X_train, y_train)\n",
    "\n",
    "\n",
    "\n",
    "y_pred = sgd.predict(X_test)\n",
    "\n",
    "print('accuracy %s' % accuracy_score(y_pred, y_test))\n",
    "print(classification_report(y_test, y_pred,target_names=my_tags))"
   ]
  },
  {
   "cell_type": "code",
   "execution_count": 161,
   "metadata": {},
   "outputs": [],
   "source": [
    "df_test = pd.read_csv('test_clean_c.csv')"
   ]
  },
  {
   "cell_type": "code",
   "execution_count": 137,
   "metadata": {},
   "outputs": [
    {
     "data": {
      "text/plain": [
       "912     IND\n",
       "594     IND\n",
       "564     GRP\n",
       "1822    IND\n",
       "2020    IND\n",
       "2649    IND\n",
       "2991    IND\n",
       "3396    OTH\n",
       "3311    IND\n",
       "3427    IND\n",
       "1993    GRP\n",
       "1940    IND\n",
       "3623    IND\n",
       "1537    IND\n",
       "1025    IND\n",
       "1272    OTH\n",
       "3098    OTH\n",
       "2920    IND\n",
       "676     GRP\n",
       "2721    IND\n",
       "3011    IND\n",
       "871     IND\n",
       "2037    IND\n",
       "2698    IND\n",
       "58      GRP\n",
       "76      IND\n",
       "3264    IND\n",
       "1662    IND\n",
       "655     GRP\n",
       "2091    GRP\n",
       "       ... \n",
       "955     IND\n",
       "1215    GRP\n",
       "2433    IND\n",
       "2853    OTH\n",
       "3485    GRP\n",
       "1515    GRP\n",
       "2391    IND\n",
       "769     IND\n",
       "3380    IND\n",
       "1685    IND\n",
       "130     IND\n",
       "3735    GRP\n",
       "2919    IND\n",
       "3171    IND\n",
       "3444    IND\n",
       "2135    IND\n",
       "1482    GRP\n",
       "330     IND\n",
       "1238    IND\n",
       "466     IND\n",
       "2169    IND\n",
       "1638    IND\n",
       "3092    GRP\n",
       "3772    IND\n",
       "1095    IND\n",
       "1130    GRP\n",
       "1294    IND\n",
       "860     GRP\n",
       "3507    GRP\n",
       "3174    GRP\n",
       "Name: subc, Length: 3488, dtype: object"
      ]
     },
     "execution_count": 137,
     "metadata": {},
     "output_type": "execute_result"
    }
   ],
   "source": [
    "y_train"
   ]
  },
  {
   "cell_type": "code",
   "execution_count": 138,
   "metadata": {},
   "outputs": [
    {
     "data": {
      "text/html": [
       "<div>\n",
       "<style scoped>\n",
       "    .dataframe tbody tr th:only-of-type {\n",
       "        vertical-align: middle;\n",
       "    }\n",
       "\n",
       "    .dataframe tbody tr th {\n",
       "        vertical-align: top;\n",
       "    }\n",
       "\n",
       "    .dataframe thead th {\n",
       "        text-align: right;\n",
       "    }\n",
       "</style>\n",
       "<table border=\"1\" class=\"dataframe\">\n",
       "  <thead>\n",
       "    <tr style=\"text-align: right;\">\n",
       "      <th></th>\n",
       "      <th>id</th>\n",
       "      <th>text</th>\n",
       "    </tr>\n",
       "  </thead>\n",
       "  <tbody>\n",
       "    <tr>\n",
       "      <th>0</th>\n",
       "      <td>15923</td>\n",
       "      <td>democrats support antifa muslim brotherhood ms...</td>\n",
       "    </tr>\n",
       "    <tr>\n",
       "      <th>1</th>\n",
       "      <td>60133</td>\n",
       "      <td>unity demo to oppose the far right in enough i...</td>\n",
       "    </tr>\n",
       "    <tr>\n",
       "      <th>2</th>\n",
       "      <td>83681</td>\n",
       "      <td>what the fuck did he do this time</td>\n",
       "    </tr>\n",
       "    <tr>\n",
       "      <th>3</th>\n",
       "      <td>65507</td>\n",
       "      <td>user do you get the feeling he is kissing user...</td>\n",
       "    </tr>\n",
       "    <tr>\n",
       "      <th>4</th>\n",
       "      <td>34263</td>\n",
       "      <td>he is liar like the rest of the</td>\n",
       "    </tr>\n",
       "  </tbody>\n",
       "</table>\n",
       "</div>"
      ],
      "text/plain": [
       "      id                                               text\n",
       "0  15923  democrats support antifa muslim brotherhood ms...\n",
       "1  60133  unity demo to oppose the far right in enough i...\n",
       "2  83681                  what the fuck did he do this time\n",
       "3  65507  user do you get the feeling he is kissing user...\n",
       "4  34263                    he is liar like the rest of the"
      ]
     },
     "execution_count": 138,
     "metadata": {},
     "output_type": "execute_result"
    }
   ],
   "source": [
    "df_test.head()"
   ]
  },
  {
   "cell_type": "code",
   "execution_count": 139,
   "metadata": {},
   "outputs": [],
   "source": [
    "X_test = df_test.text"
   ]
  },
  {
   "cell_type": "code",
   "execution_count": 140,
   "metadata": {},
   "outputs": [],
   "source": [
    "y_pred = logreg.predict(X_test)"
   ]
  },
  {
   "cell_type": "code",
   "execution_count": 141,
   "metadata": {},
   "outputs": [
    {
     "data": {
      "text/plain": [
       "array(['IND', 'GRP', 'IND', 'IND', 'IND', 'GRP', 'IND', 'IND', 'IND',\n",
       "       'IND', 'IND', 'IND', 'IND', 'GRP', 'IND', 'IND', 'GRP', 'GRP',\n",
       "       'OTH', 'GRP', 'OTH', 'GRP', 'IND', 'GRP', 'IND', 'IND', 'GRP',\n",
       "       'GRP', 'IND', 'IND', 'IND', 'GRP', 'IND', 'IND', 'GRP', 'GRP',\n",
       "       'IND', 'IND', 'IND', 'GRP', 'IND', 'GRP', 'GRP', 'GRP', 'GRP',\n",
       "       'IND', 'GRP', 'GRP', 'GRP', 'GRP', 'IND', 'IND', 'IND', 'GRP',\n",
       "       'IND', 'IND', 'GRP', 'IND', 'IND', 'OTH', 'GRP', 'IND', 'GRP',\n",
       "       'OTH', 'IND', 'IND', 'IND', 'IND', 'GRP', 'IND', 'IND', 'OTH',\n",
       "       'IND', 'IND', 'OTH', 'OTH', 'IND', 'IND', 'IND', 'IND', 'IND',\n",
       "       'GRP', 'IND', 'IND', 'GRP', 'IND', 'IND', 'IND', 'IND', 'IND',\n",
       "       'IND', 'GRP', 'IND', 'GRP', 'IND', 'GRP', 'GRP', 'IND', 'IND',\n",
       "       'IND', 'IND', 'IND', 'GRP', 'IND', 'GRP', 'IND', 'IND', 'IND',\n",
       "       'OTH', 'OTH', 'IND', 'OTH', 'IND', 'IND', 'IND', 'OTH', 'IND',\n",
       "       'IND', 'IND', 'GRP', 'IND', 'IND', 'GRP', 'GRP', 'IND', 'IND',\n",
       "       'GRP', 'IND', 'OTH', 'GRP', 'IND', 'IND', 'IND', 'IND', 'GRP',\n",
       "       'IND', 'IND', 'OTH', 'IND', 'GRP', 'IND', 'OTH', 'IND', 'GRP',\n",
       "       'IND', 'IND', 'GRP', 'GRP', 'IND', 'IND', 'GRP', 'IND', 'IND',\n",
       "       'IND', 'IND', 'IND', 'OTH', 'GRP', 'IND', 'GRP', 'GRP', 'IND',\n",
       "       'GRP', 'IND', 'IND', 'GRP', 'IND', 'OTH', 'IND', 'IND', 'IND',\n",
       "       'IND', 'IND', 'IND', 'IND', 'IND', 'IND', 'OTH', 'IND', 'GRP',\n",
       "       'IND', 'IND', 'OTH', 'IND', 'GRP', 'OTH', 'IND', 'GRP', 'GRP',\n",
       "       'GRP', 'IND', 'OTH', 'IND', 'IND', 'GRP', 'GRP', 'IND', 'GRP',\n",
       "       'IND', 'IND', 'IND', 'IND', 'IND', 'IND', 'IND', 'IND', 'GRP',\n",
       "       'IND', 'IND', 'IND', 'IND', 'IND', 'OTH'], dtype=object)"
      ]
     },
     "execution_count": 141,
     "metadata": {},
     "output_type": "execute_result"
    }
   ],
   "source": [
    "y_pred"
   ]
  },
  {
   "cell_type": "code",
   "execution_count": 142,
   "metadata": {},
   "outputs": [
    {
     "data": {
      "text/plain": [
       "213"
      ]
     },
     "execution_count": 142,
     "metadata": {},
     "output_type": "execute_result"
    }
   ],
   "source": [
    "len(y_pred)"
   ]
  },
  {
   "cell_type": "code",
   "execution_count": 143,
   "metadata": {},
   "outputs": [],
   "source": [
    "cdf = pd.DataFrame({'id':df_test.id,'sentiment': y_pred})"
   ]
  },
  {
   "cell_type": "code",
   "execution_count": 144,
   "metadata": {},
   "outputs": [
    {
     "data": {
      "text/html": [
       "<div>\n",
       "<style scoped>\n",
       "    .dataframe tbody tr th:only-of-type {\n",
       "        vertical-align: middle;\n",
       "    }\n",
       "\n",
       "    .dataframe tbody tr th {\n",
       "        vertical-align: top;\n",
       "    }\n",
       "\n",
       "    .dataframe thead th {\n",
       "        text-align: right;\n",
       "    }\n",
       "</style>\n",
       "<table border=\"1\" class=\"dataframe\">\n",
       "  <thead>\n",
       "    <tr style=\"text-align: right;\">\n",
       "      <th></th>\n",
       "      <th>id</th>\n",
       "      <th>sentiment</th>\n",
       "    </tr>\n",
       "  </thead>\n",
       "  <tbody>\n",
       "    <tr>\n",
       "      <th>0</th>\n",
       "      <td>15923</td>\n",
       "      <td>IND</td>\n",
       "    </tr>\n",
       "    <tr>\n",
       "      <th>1</th>\n",
       "      <td>60133</td>\n",
       "      <td>GRP</td>\n",
       "    </tr>\n",
       "    <tr>\n",
       "      <th>2</th>\n",
       "      <td>83681</td>\n",
       "      <td>IND</td>\n",
       "    </tr>\n",
       "    <tr>\n",
       "      <th>3</th>\n",
       "      <td>65507</td>\n",
       "      <td>IND</td>\n",
       "    </tr>\n",
       "    <tr>\n",
       "      <th>4</th>\n",
       "      <td>34263</td>\n",
       "      <td>IND</td>\n",
       "    </tr>\n",
       "  </tbody>\n",
       "</table>\n",
       "</div>"
      ],
      "text/plain": [
       "      id sentiment\n",
       "0  15923       IND\n",
       "1  60133       GRP\n",
       "2  83681       IND\n",
       "3  65507       IND\n",
       "4  34263       IND"
      ]
     },
     "execution_count": 144,
     "metadata": {},
     "output_type": "execute_result"
    }
   ],
   "source": [
    "cdf.head()"
   ]
  },
  {
   "cell_type": "code",
   "execution_count": 145,
   "metadata": {},
   "outputs": [
    {
     "data": {
      "text/plain": [
       "IND    132\n",
       "GRP     60\n",
       "OTH     21\n",
       "Name: sentiment, dtype: int64"
      ]
     },
     "execution_count": 145,
     "metadata": {},
     "output_type": "execute_result"
    }
   ],
   "source": [
    "cdf.sentiment.value_counts()"
   ]
  },
  {
   "cell_type": "code",
   "execution_count": 146,
   "metadata": {},
   "outputs": [],
   "source": [
    "cdf.to_csv('output_ml_lr.csv',header=None , index=False, encoding='utf-8')"
   ]
  },
  {
   "cell_type": "code",
   "execution_count": null,
   "metadata": {},
   "outputs": [],
   "source": []
  },
  {
   "cell_type": "code",
   "execution_count": 15,
   "metadata": {},
   "outputs": [
    {
     "name": "stdout",
     "output_type": "stream",
     "text": [
      "accuracy 0.7036082474226805\n",
      "             precision    recall  f1-score   support\n",
      "\n",
      "        IND       0.54      0.58      0.56        89\n",
      "        OTH       0.82      0.82      0.82       262\n",
      "        GRP       0.23      0.19      0.21        37\n",
      "\n",
      "avg / total       0.70      0.70      0.70       388\n",
      "\n"
     ]
    }
   ],
   "source": [
    "from sklearn.linear_model import LogisticRegression\n",
    "\n",
    "logreg = Pipeline([('vect', CountVectorizer()),\n",
    "                ('tfidf', TfidfTransformer()),\n",
    "                ('clf', LogisticRegression(n_jobs=1, C=1e5)),\n",
    "               ])\n",
    "logreg.fit(X_train, y_train)\n",
    "\n",
    "\n",
    "\n",
    "y_pred = logreg.predict(X_test)\n",
    "\n",
    "print('accuracy %s' % accuracy_score(y_pred, y_test))\n",
    "print(classification_report(y_test, y_pred,target_names=my_tags))"
   ]
  },
  {
   "cell_type": "code",
   "execution_count": 16,
   "metadata": {},
   "outputs": [],
   "source": [
    "from gensim.models import Word2Vec\n",
    "\n",
    "wv = gensim.models.KeyedVectors.load_word2vec_format(\"GoogleNews-vectors-negative300.bin.gz\", binary=True)\n",
    "wv.init_sims(replace=True)"
   ]
  },
  {
   "cell_type": "code",
   "execution_count": 17,
   "metadata": {},
   "outputs": [
    {
     "data": {
      "text/plain": [
       "['Memorial_Hospital',\n",
       " 'Seniors',\n",
       " 'memorandum',\n",
       " 'elephant',\n",
       " 'Trump',\n",
       " 'Census',\n",
       " 'pilgrims',\n",
       " 'De',\n",
       " 'Dogs',\n",
       " '###-####_ext',\n",
       " 'chaotic',\n",
       " 'forgive',\n",
       " 'scholar',\n",
       " 'Lottery',\n",
       " 'decreasing',\n",
       " 'Supervisor',\n",
       " 'fundamentally',\n",
       " 'Fitness',\n",
       " 'abundance',\n",
       " 'Hold']"
      ]
     },
     "execution_count": 17,
     "metadata": {},
     "output_type": "execute_result"
    }
   ],
   "source": [
    "from itertools import islice\n",
    "list(islice(wv.vocab, 13030, 13050))"
   ]
  },
  {
   "cell_type": "code",
   "execution_count": 18,
   "metadata": {},
   "outputs": [],
   "source": [
    "def word_averaging(wv, words):\n",
    "    all_words, mean = set(), []\n",
    "    \n",
    "    for word in words:\n",
    "        if isinstance(word, np.ndarray):\n",
    "            mean.append(word)\n",
    "        elif word in wv.vocab:\n",
    "            mean.append(wv.syn0norm[wv.vocab[word].index])\n",
    "            all_words.add(wv.vocab[word].index)\n",
    "\n",
    "    if not mean:\n",
    "        logging.warning(\"cannot compute similarity with no input %s\", words)\n",
    "        # FIXME: remove these examples in pre-processing\n",
    "        return np.zeros(wv.vector_size,)\n",
    "\n",
    "    mean = gensim.matutils.unitvec(np.array(mean).mean(axis=0)).astype(np.float32)\n",
    "    return mean\n",
    "\n",
    "def  word_averaging_list(wv, text_list):\n",
    "    return np.vstack([word_averaging(wv, post) for post in text_list ])"
   ]
  },
  {
   "cell_type": "code",
   "execution_count": 19,
   "metadata": {},
   "outputs": [
    {
     "name": "stderr",
     "output_type": "stream",
     "text": [
      "/home/preeti/anaconda3/lib/python3.6/site-packages/ipykernel_launcher.py:8: DeprecationWarning: Call to deprecated `syn0norm` (Attribute will be removed in 4.0.0, use self.wv.vectors_norm instead).\n",
      "  \n",
      "/home/preeti/.local/lib/python3.6/site-packages/gensim/matutils.py:737: FutureWarning: Conversion of the second argument of issubdtype from `int` to `np.signedinteger` is deprecated. In future, it will be treated as `np.int64 == np.dtype(int).type`.\n",
      "  if np.issubdtype(vec.dtype, np.int):\n"
     ]
    }
   ],
   "source": [
    "def w2v_tokenize_text(text):\n",
    "    tokens = []\n",
    "    for sent in nltk.sent_tokenize(text, language='english'):\n",
    "        for word in nltk.word_tokenize(sent, language='english'):\n",
    "            if len(word) < 2:\n",
    "                continue\n",
    "            tokens.append(word)\n",
    "    return tokens\n",
    "    \n",
    "train, test = train_test_split(df, test_size=0.3, random_state = 42)\n",
    "\n",
    "test_tokenized = test.apply(lambda r: w2v_tokenize_text(r['text']), axis=1).values\n",
    "train_tokenized = train.apply(lambda r: w2v_tokenize_text(r['text']), axis=1).values\n",
    "\n",
    "X_train_word_average = word_averaging_list(wv,train_tokenized)\n",
    "X_test_word_average = word_averaging_list(wv,test_tokenized)"
   ]
  },
  {
   "cell_type": "code",
   "execution_count": 20,
   "metadata": {},
   "outputs": [
    {
     "name": "stdout",
     "output_type": "stream",
     "text": [
      "accuracy 0.6930352536543423\n",
      "             precision    recall  f1-score   support\n",
      "\n",
      "        IND       0.57      0.55      0.56       302\n",
      "        OTH       0.77      0.85      0.81       743\n",
      "        GRP       0.20      0.10      0.14       118\n",
      "\n",
      "avg / total       0.66      0.69      0.67      1163\n",
      "\n"
     ]
    }
   ],
   "source": [
    "from sklearn.linear_model import LogisticRegression\n",
    "logreg = LogisticRegression(n_jobs=1, C=1e5)\n",
    "logreg = logreg.fit(X_train_word_average, train['subc'])\n",
    "y_pred = logreg.predict(X_test_word_average)\n",
    "print('accuracy %s' % accuracy_score(y_pred, test.subc))\n",
    "print(classification_report(test.subc, y_pred,target_names=my_tags))"
   ]
  },
  {
   "cell_type": "code",
   "execution_count": 21,
   "metadata": {},
   "outputs": [],
   "source": [
    "from tqdm import tqdm\n",
    "tqdm.pandas(desc=\"progress-bar\")\n",
    "from gensim.models import Doc2Vec\n",
    "from sklearn import utils\n",
    "import gensim\n",
    "from gensim.models.doc2vec import TaggedDocument\n",
    "import re\n",
    "\n",
    "def label_sentences(corpus, label_type):\n",
    "    \"\"\"\n",
    "    Gensim's Doc2Vec implementation requires each document/paragraph to have a label associated with it.\n",
    "    We do this by using the TaggedDocument method. The format will be \"TRAIN_i\" or \"TEST_i\" where \"i\" is\n",
    "    a dummy index of the post.\n",
    "    \"\"\"\n",
    "    labeled = []\n",
    "    for i, v in enumerate(corpus):\n",
    "        label = label_type + '_' + str(i)\n",
    "        labeled.append(TaggedDocument(v.split(), [label]))\n",
    "    return labeled\n",
    "X_train, X_test, y_train, y_test = train_test_split(df.text, df.subc, random_state=0, test_size=0.3)\n",
    "X_train = label_sentences(X_train, 'Train')\n",
    "X_test = label_sentences(X_test, 'Test')\n",
    "all_data = X_train + X_test"
   ]
  },
  {
   "cell_type": "code",
   "execution_count": 22,
   "metadata": {},
   "outputs": [
    {
     "data": {
      "text/plain": [
       "[TaggedDocument(words=['user', 'user', 'but', 'you', 'are', 'still', 'going', 'to', 'jail', 'tho'], tags=['Train_0']),\n",
       " TaggedDocument(words=['user', 'user', 'has', 'the', 'same', 'lack', 'of', 'morals', 'as', 'her', 'mother', 'abortion', 'is', 'murder'], tags=['Train_1'])]"
      ]
     },
     "execution_count": 22,
     "metadata": {},
     "output_type": "execute_result"
    }
   ],
   "source": [
    "all_data[:2]"
   ]
  },
  {
   "cell_type": "code",
   "execution_count": 23,
   "metadata": {},
   "outputs": [
    {
     "name": "stderr",
     "output_type": "stream",
     "text": [
      "100%|██████████| 3876/3876 [00:00<00:00, 904933.05it/s]\n",
      "100%|██████████| 3876/3876 [00:00<00:00, 3615907.99it/s]\n",
      "100%|██████████| 3876/3876 [00:00<00:00, 1920283.76it/s]\n",
      "100%|██████████| 3876/3876 [00:00<00:00, 3439932.78it/s]\n",
      "100%|██████████| 3876/3876 [00:00<00:00, 2691576.54it/s]\n",
      "100%|██████████| 3876/3876 [00:00<00:00, 2801020.38it/s]\n",
      "100%|██████████| 3876/3876 [00:00<00:00, 3492400.07it/s]\n",
      "100%|██████████| 3876/3876 [00:00<00:00, 3433394.36it/s]\n",
      "100%|██████████| 3876/3876 [00:00<00:00, 3517334.99it/s]\n",
      "100%|██████████| 3876/3876 [00:00<00:00, 3116182.16it/s]\n",
      "100%|██████████| 3876/3876 [00:00<00:00, 2748456.86it/s]\n",
      "100%|██████████| 3876/3876 [00:00<00:00, 3591940.41it/s]\n",
      "100%|██████████| 3876/3876 [00:00<00:00, 3491649.98it/s]\n",
      "100%|██████████| 3876/3876 [00:00<00:00, 3394679.95it/s]\n",
      "100%|██████████| 3876/3876 [00:00<00:00, 3458226.40it/s]\n",
      "100%|██████████| 3876/3876 [00:00<00:00, 2576814.44it/s]\n",
      "100%|██████████| 3876/3876 [00:00<00:00, 3504445.42it/s]\n",
      "100%|██████████| 3876/3876 [00:00<00:00, 3555801.03it/s]\n",
      "100%|██████████| 3876/3876 [00:00<00:00, 3535694.28it/s]\n",
      "100%|██████████| 3876/3876 [00:00<00:00, 3467816.19it/s]\n",
      "100%|██████████| 3876/3876 [00:00<00:00, 3530319.72it/s]\n",
      "100%|██████████| 3876/3876 [00:00<00:00, 2909291.75it/s]\n",
      "100%|██████████| 3876/3876 [00:00<00:00, 3456755.75it/s]\n",
      "100%|██████████| 3876/3876 [00:00<00:00, 3540314.09it/s]\n",
      "100%|██████████| 3876/3876 [00:00<00:00, 3357522.16it/s]\n",
      "100%|██████████| 3876/3876 [00:00<00:00, 3086014.10it/s]\n",
      "100%|██████████| 3876/3876 [00:00<00:00, 3233317.88it/s]\n",
      "100%|██████████| 3876/3876 [00:00<00:00, 3494652.26it/s]\n",
      "100%|██████████| 3876/3876 [00:00<00:00, 3224340.00it/s]\n",
      "100%|██████████| 3876/3876 [00:00<00:00, 3509741.43it/s]\n",
      "100%|██████████| 3876/3876 [00:00<00:00, 3440660.81it/s]\n"
     ]
    }
   ],
   "source": [
    "model_dbow = Doc2Vec(dm=0, vector_size=300, negative=5, min_count=1, alpha=0.065, min_alpha=0.065)\n",
    "model_dbow.build_vocab([x for x in tqdm(all_data)])\n",
    "\n",
    "for epoch in range(30):\n",
    "    model_dbow.train(utils.shuffle([x for x in tqdm(all_data)]), total_examples=len(all_data), epochs=1)\n",
    "    model_dbow.alpha -= 0.002\n",
    "    model_dbow.min_alpha = model_dbow.alpha"
   ]
  },
  {
   "cell_type": "code",
   "execution_count": 24,
   "metadata": {},
   "outputs": [],
   "source": [
    "def get_vectors(model, corpus_size, vectors_size, vectors_type):\n",
    "    \"\"\"\n",
    "    Get vectors from trained doc2vec model\n",
    "    :param doc2vec_model: Trained Doc2Vec model\n",
    "    :param corpus_size: Size of the data\n",
    "    :param vectors_size: Size of the embedding vectors\n",
    "    :param vectors_type: Training or Testing vectors\n",
    "    :return: list of vectors\n",
    "    \"\"\"\n",
    "    vectors = np.zeros((corpus_size, vectors_size))\n",
    "    for i in range(0, corpus_size):\n",
    "        prefix = vectors_type + '_' + str(i)\n",
    "        vectors[i] = model.docvecs[prefix]\n",
    "    return vectors\n",
    "    \n",
    "train_vectors_dbow = get_vectors(model_dbow, len(X_train), 300, 'Train')\n",
    "test_vectors_dbow = get_vectors(model_dbow, len(X_test), 300, 'Test')"
   ]
  },
  {
   "cell_type": "code",
   "execution_count": 25,
   "metadata": {},
   "outputs": [
    {
     "name": "stdout",
     "output_type": "stream",
     "text": [
      "accuracy 0.6680997420464316\n",
      "             precision    recall  f1-score   support\n",
      "\n",
      "        IND       0.52      0.48      0.50       319\n",
      "        OTH       0.74      0.85      0.79       730\n",
      "        GRP       0.18      0.07      0.10       114\n",
      "\n",
      "avg / total       0.63      0.67      0.64      1163\n",
      "\n"
     ]
    }
   ],
   "source": [
    "logreg = LogisticRegression(n_jobs=1, C=1e5)\n",
    "logreg.fit(train_vectors_dbow, y_train)\n",
    "logreg = logreg.fit(train_vectors_dbow, y_train)\n",
    "y_pred = logreg.predict(test_vectors_dbow)\n",
    "print('accuracy %s' % accuracy_score(y_pred, y_test))\n",
    "print(classification_report(y_test, y_pred,target_names=my_tags))"
   ]
  },
  {
   "cell_type": "code",
   "execution_count": 26,
   "metadata": {},
   "outputs": [
    {
     "data": {
      "text/plain": [
       "array(['IND', 'GRP', 'GRP', ..., 'GRP', 'IND', 'IND'], dtype=object)"
      ]
     },
     "execution_count": 26,
     "metadata": {},
     "output_type": "execute_result"
    }
   ],
   "source": [
    "y_pred"
   ]
  },
  {
   "cell_type": "code",
   "execution_count": 27,
   "metadata": {},
   "outputs": [
    {
     "name": "stderr",
     "output_type": "stream",
     "text": [
      "Using TensorFlow backend.\n"
     ]
    },
    {
     "name": "stdout",
     "output_type": "stream",
     "text": [
      "Train on 2964 samples, validate on 330 samples\n",
      "Epoch 1/10\n",
      "2964/2964 [==============================] - 1s 173us/step - loss: 0.8423 - acc: 0.6535 - val_loss: 0.7418 - val_acc: 0.6939\n",
      "Epoch 2/10\n",
      "2964/2964 [==============================] - 0s 33us/step - loss: 0.7323 - acc: 0.7055 - val_loss: 0.7334 - val_acc: 0.6939\n",
      "Epoch 3/10\n",
      "2964/2964 [==============================] - 0s 34us/step - loss: 0.6983 - acc: 0.7206 - val_loss: 0.7278 - val_acc: 0.7030\n",
      "Epoch 4/10\n",
      "2964/2964 [==============================] - 0s 33us/step - loss: 0.6761 - acc: 0.7284 - val_loss: 0.7283 - val_acc: 0.7000\n",
      "Epoch 5/10\n",
      "2964/2964 [==============================] - 0s 33us/step - loss: 0.6536 - acc: 0.7335 - val_loss: 0.7364 - val_acc: 0.7121\n",
      "Epoch 6/10\n",
      "2964/2964 [==============================] - 0s 33us/step - loss: 0.6271 - acc: 0.7453 - val_loss: 0.7345 - val_acc: 0.7091\n",
      "Epoch 7/10\n",
      "2964/2964 [==============================] - 0s 33us/step - loss: 0.5982 - acc: 0.7601 - val_loss: 0.7429 - val_acc: 0.7000\n",
      "Epoch 8/10\n",
      "2964/2964 [==============================] - 0s 33us/step - loss: 0.5738 - acc: 0.7736 - val_loss: 0.7540 - val_acc: 0.6939\n",
      "Epoch 9/10\n",
      "2964/2964 [==============================] - 0s 32us/step - loss: 0.5497 - acc: 0.7878 - val_loss: 0.7542 - val_acc: 0.6939\n",
      "Epoch 10/10\n",
      "2964/2964 [==============================] - 0s 32us/step - loss: 0.5247 - acc: 0.7976 - val_loss: 0.7592 - val_acc: 0.6939\n"
     ]
    }
   ],
   "source": [
    "import itertools\n",
    "import os\n",
    "\n",
    "%matplotlib inline\n",
    "import matplotlib.pyplot as plt\n",
    "import numpy as np\n",
    "import pandas as pd\n",
    "import tensorflow as tf\n",
    "\n",
    "from sklearn.preprocessing import LabelBinarizer, LabelEncoder\n",
    "from sklearn.metrics import confusion_matrix\n",
    "\n",
    "from tensorflow import keras\n",
    "from keras.models import Sequential\n",
    "from keras.layers import Dense, Activation, Dropout\n",
    "from keras.preprocessing import text, sequence\n",
    "from keras import utils\n",
    "from keras.callbacks import TensorBoard\n",
    "\n",
    "\n",
    "train_size = int(len(df) * .85)\n",
    "train_posts = df['text'][:train_size]\n",
    "train_tags = df['subc'][:train_size]\n",
    "\n",
    "test_posts = df['text'][train_size:]\n",
    "test_tags = df['subc'][train_size:]\n",
    "\n",
    "max_words = 100\n",
    "tokenize = text.Tokenizer(num_words=max_words, char_level=False)\n",
    "tokenize.fit_on_texts(train_posts) # only fit on train\n",
    "\n",
    "x_train = tokenize.texts_to_matrix(train_posts)\n",
    "x_test = tokenize.texts_to_matrix(test_posts)\n",
    "\n",
    "encoder = LabelEncoder()\n",
    "encoder.fit(train_tags)\n",
    "y_train = encoder.transform(train_tags)\n",
    "y_test = encoder.transform(test_tags)\n",
    "\n",
    "num_classes = np.max(y_train) + 1\n",
    "y_train = utils.to_categorical(y_train, num_classes)\n",
    "y_test = utils.to_categorical(y_test, num_classes)\n",
    "\n",
    "batch_size = 32\n",
    "epochs = 10\n",
    "\n",
    "\n",
    "\n",
    "# Build the model\n",
    "model = Sequential()\n",
    "model.add(Dense(512, input_shape=(max_words,)))\n",
    "model.add(Activation('relu'))\n",
    "model.add(Dropout(0.5))\n",
    "model.add(Dense(num_classes))\n",
    "model.add(Activation('softmax'))\n",
    "\n",
    "\n",
    "model.compile(loss='categorical_crossentropy',\n",
    "              optimizer='adam',\n",
    "              metrics=['accuracy'])\n",
    "\n",
    "tbCallBack = TensorBoard(log_dir='./Graph', histogram_freq=0, write_graph=True, write_images=True)\n",
    "\n",
    "              \n",
    "history = model.fit(x_train, y_train,\n",
    "                    batch_size=batch_size,\n",
    "                    epochs=epochs,\n",
    "                    verbose=1,\n",
    "validation_split=0.1,callbacks=[tbCallBack])"
   ]
  },
  {
   "cell_type": "code",
   "execution_count": 28,
   "metadata": {},
   "outputs": [
    {
     "name": "stdout",
     "output_type": "stream",
     "text": [
      "582/582 [==============================] - 0s 14us/step\n",
      "Test accuracy: 0.6907216494845361\n"
     ]
    }
   ],
   "source": [
    "score = model.evaluate(x_test, y_test,\n",
    "                       batch_size=batch_size, verbose=1)\n",
    "print('Test accuracy:', score[1])"
   ]
  },
  {
   "cell_type": "code",
   "execution_count": 29,
   "metadata": {},
   "outputs": [
    {
     "data": {
      "text/plain": [
       "array([[0.02284376, 0.94821   , 0.02894619],\n",
       "       [0.26473713, 0.38177648, 0.35348642],\n",
       "       [0.3253674 , 0.5271307 , 0.14750181],\n",
       "       ...,\n",
       "       [0.23476756, 0.6208037 , 0.14442867],\n",
       "       [0.3450487 , 0.6204059 , 0.03454536],\n",
       "       [0.4642235 , 0.32930404, 0.20647246]], dtype=float32)"
      ]
     },
     "execution_count": 29,
     "metadata": {},
     "output_type": "execute_result"
    }
   ],
   "source": [
    "model.predict(x_test)"
   ]
  },
  {
   "cell_type": "code",
   "execution_count": 30,
   "metadata": {},
   "outputs": [
    {
     "data": {
      "text/plain": [
       "0       IND\n",
       "1       OTH\n",
       "2       GRP\n",
       "3       IND\n",
       "4       IND\n",
       "5       OTH\n",
       "6       IND\n",
       "7       GRP\n",
       "8       GRP\n",
       "9       IND\n",
       "10      GRP\n",
       "11      IND\n",
       "12      GRP\n",
       "13      GRP\n",
       "14      IND\n",
       "15      OTH\n",
       "16      IND\n",
       "17      IND\n",
       "18      IND\n",
       "19      IND\n",
       "20      IND\n",
       "21      IND\n",
       "22      OTH\n",
       "23      GRP\n",
       "24      IND\n",
       "25      IND\n",
       "26      IND\n",
       "27      IND\n",
       "28      GRP\n",
       "29      IND\n",
       "       ... \n",
       "3264    IND\n",
       "3265    IND\n",
       "3266    IND\n",
       "3267    IND\n",
       "3268    GRP\n",
       "3269    IND\n",
       "3270    IND\n",
       "3271    GRP\n",
       "3272    GRP\n",
       "3273    IND\n",
       "3274    IND\n",
       "3275    OTH\n",
       "3276    IND\n",
       "3277    GRP\n",
       "3278    IND\n",
       "3279    GRP\n",
       "3280    GRP\n",
       "3281    IND\n",
       "3282    GRP\n",
       "3283    IND\n",
       "3284    IND\n",
       "3285    OTH\n",
       "3286    IND\n",
       "3287    IND\n",
       "3288    IND\n",
       "3289    IND\n",
       "3290    GRP\n",
       "3291    IND\n",
       "3292    IND\n",
       "3293    IND\n",
       "Name: subc, Length: 3294, dtype: object"
      ]
     },
     "execution_count": 30,
     "metadata": {},
     "output_type": "execute_result"
    }
   ],
   "source": [
    "train_tags"
   ]
  },
  {
   "cell_type": "code",
   "execution_count": 31,
   "metadata": {},
   "outputs": [
    {
     "data": {
      "text/plain": [
       "array([[0., 1., 0.],\n",
       "       [0., 0., 1.],\n",
       "       [1., 0., 0.],\n",
       "       ...,\n",
       "       [0., 1., 0.],\n",
       "       [0., 1., 0.],\n",
       "       [0., 1., 0.]], dtype=float32)"
      ]
     },
     "execution_count": 31,
     "metadata": {},
     "output_type": "execute_result"
    }
   ],
   "source": [
    "y_train"
   ]
  },
  {
   "cell_type": "code",
   "execution_count": 177,
   "metadata": {},
   "outputs": [
    {
     "data": {
      "text/plain": [
       "'100 --> grp'"
      ]
     },
     "execution_count": 177,
     "metadata": {},
     "output_type": "execute_result"
    }
   ],
   "source": [
    "'''010 --> ind'''\n",
    "'''001 --> oth'''\n",
    "'''100 --> grp'''"
   ]
  },
  {
   "cell_type": "code",
   "execution_count": 178,
   "metadata": {},
   "outputs": [],
   "source": [
    "df_test = pd.read_csv('test_clean_c.csv')"
   ]
  },
  {
   "cell_type": "code",
   "execution_count": 179,
   "metadata": {},
   "outputs": [
    {
     "data": {
      "text/html": [
       "<div>\n",
       "<style scoped>\n",
       "    .dataframe tbody tr th:only-of-type {\n",
       "        vertical-align: middle;\n",
       "    }\n",
       "\n",
       "    .dataframe tbody tr th {\n",
       "        vertical-align: top;\n",
       "    }\n",
       "\n",
       "    .dataframe thead th {\n",
       "        text-align: right;\n",
       "    }\n",
       "</style>\n",
       "<table border=\"1\" class=\"dataframe\">\n",
       "  <thead>\n",
       "    <tr style=\"text-align: right;\">\n",
       "      <th></th>\n",
       "      <th>id</th>\n",
       "      <th>text</th>\n",
       "    </tr>\n",
       "  </thead>\n",
       "  <tbody>\n",
       "    <tr>\n",
       "      <th>0</th>\n",
       "      <td>15923</td>\n",
       "      <td>democrats support antifa muslim brotherhood ms...</td>\n",
       "    </tr>\n",
       "    <tr>\n",
       "      <th>1</th>\n",
       "      <td>60133</td>\n",
       "      <td>unity demo to oppose the far right in enough i...</td>\n",
       "    </tr>\n",
       "    <tr>\n",
       "      <th>2</th>\n",
       "      <td>83681</td>\n",
       "      <td>what the fuck did he do this time</td>\n",
       "    </tr>\n",
       "    <tr>\n",
       "      <th>3</th>\n",
       "      <td>65507</td>\n",
       "      <td>user do you get the feeling he is kissing user...</td>\n",
       "    </tr>\n",
       "    <tr>\n",
       "      <th>4</th>\n",
       "      <td>34263</td>\n",
       "      <td>he is liar like the rest of the</td>\n",
       "    </tr>\n",
       "  </tbody>\n",
       "</table>\n",
       "</div>"
      ],
      "text/plain": [
       "      id                                               text\n",
       "0  15923  democrats support antifa muslim brotherhood ms...\n",
       "1  60133  unity demo to oppose the far right in enough i...\n",
       "2  83681                  what the fuck did he do this time\n",
       "3  65507  user do you get the feeling he is kissing user...\n",
       "4  34263                    he is liar like the rest of the"
      ]
     },
     "execution_count": 179,
     "metadata": {},
     "output_type": "execute_result"
    }
   ],
   "source": [
    "df_test.head()"
   ]
  },
  {
   "cell_type": "code",
   "execution_count": 180,
   "metadata": {},
   "outputs": [],
   "source": [
    "test_posts = df_test['text'][:]"
   ]
  },
  {
   "cell_type": "code",
   "execution_count": 181,
   "metadata": {},
   "outputs": [],
   "source": [
    "x_test = tokenize.texts_to_matrix(test_posts)"
   ]
  },
  {
   "cell_type": "code",
   "execution_count": 185,
   "metadata": {},
   "outputs": [],
   "source": [
    " q  = model.predict(x_test)"
   ]
  },
  {
   "cell_type": "code",
   "execution_count": 183,
   "metadata": {},
   "outputs": [
    {
     "data": {
      "text/plain": [
       "213"
      ]
     },
     "execution_count": 183,
     "metadata": {},
     "output_type": "execute_result"
    }
   ],
   "source": [
    "len(x_test)"
   ]
  },
  {
   "cell_type": "code",
   "execution_count": 184,
   "metadata": {},
   "outputs": [],
   "source": [
    "def res_gen(predsent):\n",
    "  res = []\n",
    "  for item in predsent :\n",
    "    if (item[0] > item[1]) and  (item[0] > item[2]) :\n",
    "      res.append(2)\n",
    "    else :\n",
    "        if (item[1] > item[0]) and  (item[1] > item[2]) :\n",
    "            res.append(0)\n",
    "        else :\n",
    "            res.append(1)\n",
    "  return(res) "
   ]
  },
  {
   "cell_type": "code",
   "execution_count": 188,
   "metadata": {},
   "outputs": [],
   "source": [
    "p = res_gen(q)"
   ]
  },
  {
   "cell_type": "code",
   "execution_count": 187,
   "metadata": {},
   "outputs": [
    {
     "data": {
      "text/plain": [
       "array([[0.6866158 , 0.1036248 , 0.2097594 ],\n",
       "       [0.24940978, 0.48272344, 0.2678668 ],\n",
       "       [0.03518369, 0.94543475, 0.01938157],\n",
       "       [0.01973   , 0.9478105 , 0.03245944],\n",
       "       [0.04804545, 0.88348883, 0.06846579],\n",
       "       [0.22455381, 0.74412096, 0.03132525],\n",
       "       [0.04733057, 0.9036822 , 0.04898724],\n",
       "       [0.14672036, 0.59648144, 0.2567982 ],\n",
       "       [0.04568585, 0.910112  , 0.04420216],\n",
       "       [0.02132814, 0.96610826, 0.01256358],\n",
       "       [0.2489672 , 0.63317657, 0.1178562 ],\n",
       "       [0.01753242, 0.96121943, 0.02124825],\n",
       "       [0.44564942, 0.3561465 , 0.19820406],\n",
       "       [0.2729648 , 0.58882535, 0.13820991],\n",
       "       [0.17963886, 0.6384849 , 0.18187623],\n",
       "       [0.11164216, 0.84416956, 0.04418829],\n",
       "       [0.8481837 , 0.1123657 , 0.0394506 ],\n",
       "       [0.05708171, 0.834632  , 0.10828634],\n",
       "       [0.1880907 , 0.58884656, 0.22306274],\n",
       "       [0.31897163, 0.47379008, 0.20723826],\n",
       "       [0.4542991 , 0.50809103, 0.0376099 ],\n",
       "       [0.42239335, 0.21240401, 0.36520258],\n",
       "       [0.04957348, 0.9378707 , 0.01255575],\n",
       "       [0.01070819, 0.9679192 , 0.02137268],\n",
       "       [0.06654656, 0.90428644, 0.02916699],\n",
       "       [0.14868163, 0.7817359 , 0.06958252],\n",
       "       [0.5650285 , 0.23581423, 0.19915727],\n",
       "       [0.4733986 , 0.37779585, 0.14880557],\n",
       "       [0.2950605 , 0.5624399 , 0.14249958],\n",
       "       [0.02201524, 0.96810496, 0.00987979],\n",
       "       [0.45134422, 0.3903462 , 0.1583096 ],\n",
       "       [0.01070819, 0.9679192 , 0.02137268],\n",
       "       [0.06363824, 0.92889273, 0.00746906],\n",
       "       [0.01665582, 0.97738034, 0.00596382],\n",
       "       [0.21375205, 0.7770264 , 0.00922153],\n",
       "       [0.85874563, 0.10674392, 0.0345104 ],\n",
       "       [0.14409444, 0.7664193 , 0.08948617],\n",
       "       [0.03488495, 0.88416255, 0.08095247],\n",
       "       [0.15075034, 0.7926957 , 0.05655389],\n",
       "       [0.72372955, 0.1626213 , 0.11364915],\n",
       "       [0.04264141, 0.9238782 , 0.03348048],\n",
       "       [0.31277347, 0.5835801 , 0.10364638],\n",
       "       [0.79091865, 0.18726125, 0.02182011],\n",
       "       [0.8467233 , 0.06770044, 0.08557621],\n",
       "       [0.6038942 , 0.2572219 , 0.13888396],\n",
       "       [0.26315075, 0.64169455, 0.09515466],\n",
       "       [0.11586539, 0.7027395 , 0.1813952 ],\n",
       "       [0.276783  , 0.6607946 , 0.06242238],\n",
       "       [0.67323494, 0.2410652 , 0.08569994],\n",
       "       [0.80881983, 0.08437793, 0.1068022 ],\n",
       "       [0.12054807, 0.80039585, 0.07905603],\n",
       "       [0.21352169, 0.6340746 , 0.15240368],\n",
       "       [0.12560616, 0.76629883, 0.10809506],\n",
       "       [0.71557957, 0.16178969, 0.12263075],\n",
       "       [0.37635735, 0.55459034, 0.06905232],\n",
       "       [0.05309124, 0.9125045 , 0.03440434],\n",
       "       [0.8307176 , 0.04318463, 0.12609766],\n",
       "       [0.02727683, 0.95230263, 0.02042057],\n",
       "       [0.1241366 , 0.79730487, 0.07855848],\n",
       "       [0.34959027, 0.45389152, 0.19651818],\n",
       "       [0.80298406, 0.12516549, 0.07185043],\n",
       "       [0.13459753, 0.8310575 , 0.03434495],\n",
       "       [0.811358  , 0.14630438, 0.04233764],\n",
       "       [0.28565174, 0.59457886, 0.11976942],\n",
       "       [0.05899984, 0.9303613 , 0.01063896],\n",
       "       [0.27884838, 0.6096542 , 0.11149742],\n",
       "       [0.08023271, 0.8921144 , 0.02765292],\n",
       "       [0.4732345 , 0.32675278, 0.20001273],\n",
       "       [0.81289464, 0.13563012, 0.05147528],\n",
       "       [0.5718825 , 0.15879664, 0.2693209 ],\n",
       "       [0.29422283, 0.5280049 , 0.1777723 ],\n",
       "       [0.25606713, 0.5502126 , 0.19372024],\n",
       "       [0.27070102, 0.56664956, 0.1626494 ],\n",
       "       [0.2376451 , 0.6730818 , 0.08927308],\n",
       "       [0.19223644, 0.7017446 , 0.10601895],\n",
       "       [0.10114042, 0.87782675, 0.02103288],\n",
       "       [0.02252142, 0.9673012 , 0.01017732],\n",
       "       [0.07180154, 0.87116915, 0.05702926],\n",
       "       [0.32233006, 0.5463149 , 0.13135502],\n",
       "       [0.51359403, 0.28252774, 0.20387827],\n",
       "       [0.02421309, 0.9081084 , 0.06767853],\n",
       "       [0.07373888, 0.88355654, 0.04270452],\n",
       "       [0.10238198, 0.8546597 , 0.04295835],\n",
       "       [0.10238198, 0.8546597 , 0.04295835],\n",
       "       [0.96091825, 0.00716957, 0.03191214],\n",
       "       [0.01930601, 0.9607008 , 0.01999326],\n",
       "       [0.16458467, 0.7828899 , 0.05252538],\n",
       "       [0.07454081, 0.8800624 , 0.04539672],\n",
       "       [0.05144176, 0.8799667 , 0.06859149],\n",
       "       [0.0146964 , 0.94718087, 0.03812268],\n",
       "       [0.379756  , 0.4931609 , 0.1270831 ],\n",
       "       [0.30765358, 0.5204512 , 0.17189522],\n",
       "       [0.28925312, 0.65413547, 0.05661149],\n",
       "       [0.46867743, 0.2643703 , 0.26695228],\n",
       "       [0.62737805, 0.33320373, 0.03941821],\n",
       "       [0.61498946, 0.17685547, 0.20815513],\n",
       "       [0.29151252, 0.63592273, 0.07256473],\n",
       "       [0.11300999, 0.7450314 , 0.14195865],\n",
       "       [0.62551963, 0.27378473, 0.10069565],\n",
       "       [0.0967788 , 0.7020736 , 0.20114766],\n",
       "       [0.09164333, 0.830695  , 0.07766168],\n",
       "       [0.14974041, 0.79888725, 0.05137232],\n",
       "       [0.8864938 , 0.04707311, 0.06643312],\n",
       "       [0.6359443 , 0.28986022, 0.0741954 ],\n",
       "       [0.22955474, 0.6417576 , 0.12868765],\n",
       "       [0.17565517, 0.80143994, 0.02290487],\n",
       "       [0.18938601, 0.7836325 , 0.02698155],\n",
       "       [0.40202886, 0.43544692, 0.16252421],\n",
       "       [0.3338935 , 0.41898388, 0.24712259],\n",
       "       [0.732761  , 0.16131511, 0.1059238 ],\n",
       "       [0.11896932, 0.7777174 , 0.10331318],\n",
       "       [0.2831284 , 0.6767365 , 0.0401351 ],\n",
       "       [0.3513641 , 0.58411723, 0.06451871],\n",
       "       [0.48155168, 0.45728472, 0.06116368],\n",
       "       [0.26426286, 0.61174506, 0.12399202],\n",
       "       [0.00765555, 0.9498365 , 0.04250795],\n",
       "       [0.03372457, 0.9198842 , 0.0463912 ],\n",
       "       [0.0126471 , 0.96362257, 0.02373035],\n",
       "       [0.04729729, 0.9061485 , 0.04655422],\n",
       "       [0.8417956 , 0.09988027, 0.05832416],\n",
       "       [0.13685878, 0.7777697 , 0.08537144],\n",
       "       [0.16482982, 0.7880781 , 0.04709203],\n",
       "       [0.8072643 , 0.04459196, 0.14814378],\n",
       "       [0.24633615, 0.5674134 , 0.18625042],\n",
       "       [0.1136061 , 0.75919855, 0.12719534],\n",
       "       [0.14446154, 0.82876146, 0.02677697],\n",
       "       [0.65311235, 0.25426576, 0.09262187],\n",
       "       [0.06332763, 0.88951606, 0.04715627],\n",
       "       [0.02012973, 0.95158446, 0.02828578],\n",
       "       [0.77227485, 0.134022  , 0.09370319],\n",
       "       [0.02070749, 0.94461924, 0.0346733 ],\n",
       "       [0.04211616, 0.9443702 , 0.01351358],\n",
       "       [0.19369133, 0.70023364, 0.10607503],\n",
       "       [0.07650281, 0.9156687 , 0.00782852],\n",
       "       [0.16225372, 0.8208813 , 0.01686501],\n",
       "       [0.27522013, 0.50111127, 0.22366858],\n",
       "       [0.29422283, 0.5280049 , 0.1777723 ],\n",
       "       [0.20498095, 0.6589138 , 0.13610527],\n",
       "       [0.08520284, 0.8732439 , 0.04155322],\n",
       "       [0.4733986 , 0.37779585, 0.14880557],\n",
       "       [0.27445146, 0.53316814, 0.19238044],\n",
       "       [0.227919  , 0.58280677, 0.1892742 ],\n",
       "       [0.12508383, 0.864535  , 0.01038124],\n",
       "       [0.6302873 , 0.22385493, 0.14585772],\n",
       "       [0.16654505, 0.7941309 , 0.03932409],\n",
       "       [0.14098506, 0.822941  , 0.03607395],\n",
       "       [0.46753332, 0.1828122 , 0.34965447],\n",
       "       [0.04626421, 0.88809913, 0.06563661],\n",
       "       [0.18667258, 0.6957349 , 0.11759246],\n",
       "       [0.1361809 , 0.768231  , 0.09558821],\n",
       "       [0.4858102 , 0.44123858, 0.07295131],\n",
       "       [0.01948985, 0.96966875, 0.01084145],\n",
       "       [0.01753242, 0.96121943, 0.02124825],\n",
       "       [0.06182169, 0.8460546 , 0.09212375],\n",
       "       [0.48542815, 0.32637793, 0.18819399],\n",
       "       [0.03541791, 0.9112255 , 0.05335661],\n",
       "       [0.732761  , 0.16131511, 0.1059238 ],\n",
       "       [0.44655886, 0.2900507 , 0.2633905 ],\n",
       "       [0.12133861, 0.82909155, 0.0495698 ],\n",
       "       [0.3730251 , 0.47174218, 0.15523276],\n",
       "       [0.43676728, 0.44449794, 0.11873473],\n",
       "       [0.39195034, 0.5088271 , 0.0992226 ],\n",
       "       [0.6385854 , 0.3039762 , 0.05743846],\n",
       "       [0.13779005, 0.7828838 , 0.07932613],\n",
       "       [0.2967856 , 0.50391823, 0.19929622],\n",
       "       [0.7894844 , 0.09782825, 0.11268736],\n",
       "       [0.32707524, 0.5143356 , 0.15858926],\n",
       "       [0.70419264, 0.07848991, 0.21731752],\n",
       "       [0.04139184, 0.9181047 , 0.04050345],\n",
       "       [0.01010585, 0.98303163, 0.00686259],\n",
       "       [0.0377053 , 0.93228024, 0.03001452],\n",
       "       [0.16450445, 0.7900204 , 0.04547519],\n",
       "       [0.03176026, 0.9372666 , 0.03097309],\n",
       "       [0.08223204, 0.82815766, 0.08961024],\n",
       "       [0.01926271, 0.94164556, 0.03909174],\n",
       "       [0.00271308, 0.9904875 , 0.00679939],\n",
       "       [0.74002796, 0.15962629, 0.10034571],\n",
       "       [0.09788123, 0.8507995 , 0.05131929],\n",
       "       [0.22909012, 0.71976113, 0.05114875],\n",
       "       [0.40769824, 0.3380639 , 0.25423786],\n",
       "       [0.05696451, 0.8573494 , 0.08568614],\n",
       "       [0.15174663, 0.83790284, 0.01035056],\n",
       "       [0.12792048, 0.7743025 , 0.09777707],\n",
       "       [0.42651948, 0.46344918, 0.11003136],\n",
       "       [0.55613333, 0.31815502, 0.1257116 ],\n",
       "       [0.25587088, 0.57576436, 0.16836478],\n",
       "       [0.03024323, 0.9084709 , 0.06128583],\n",
       "       [0.8115794 , 0.08613   , 0.10229053],\n",
       "       [0.8684771 , 0.06457292, 0.06694999],\n",
       "       [0.31490698, 0.59062666, 0.09446638],\n",
       "       [0.16706482, 0.81966513, 0.01327002],\n",
       "       [0.54918766, 0.37390125, 0.07691114],\n",
       "       [0.21743709, 0.36999595, 0.41256693],\n",
       "       [0.06179285, 0.91526   , 0.02294714],\n",
       "       [0.87173516, 0.04985287, 0.07841201],\n",
       "       [0.14055261, 0.8566969 , 0.00275048],\n",
       "       [0.03711235, 0.9590125 , 0.00387512],\n",
       "       [0.54954636, 0.42619035, 0.02426332],\n",
       "       [0.25618598, 0.6382004 , 0.10561359],\n",
       "       [0.68413234, 0.1480974 , 0.16777025],\n",
       "       [0.01358041, 0.97887623, 0.00754339],\n",
       "       [0.0735735 , 0.9015271 , 0.02489937],\n",
       "       [0.32222706, 0.5204666 , 0.15730637],\n",
       "       [0.248053  , 0.53768843, 0.21425866],\n",
       "       [0.10083494, 0.83013254, 0.06903248],\n",
       "       [0.04115061, 0.9201327 , 0.03871671],\n",
       "       [0.64108384, 0.23900889, 0.11990725],\n",
       "       [0.19488192, 0.792881  , 0.01223705],\n",
       "       [0.14344457, 0.8172247 , 0.03933069],\n",
       "       [0.39986295, 0.4741699 , 0.1259671 ],\n",
       "       [0.05872616, 0.89514816, 0.04612568],\n",
       "       [0.2550822 , 0.68139714, 0.06352062],\n",
       "       [0.3621229 , 0.46158978, 0.17628738]], dtype=float32)"
      ]
     },
     "execution_count": 187,
     "metadata": {},
     "output_type": "execute_result"
    }
   ],
   "source": [
    "q"
   ]
  },
  {
   "cell_type": "code",
   "execution_count": 189,
   "metadata": {},
   "outputs": [
    {
     "data": {
      "text/html": [
       "<div>\n",
       "<style scoped>\n",
       "    .dataframe tbody tr th:only-of-type {\n",
       "        vertical-align: middle;\n",
       "    }\n",
       "\n",
       "    .dataframe tbody tr th {\n",
       "        vertical-align: top;\n",
       "    }\n",
       "\n",
       "    .dataframe thead th {\n",
       "        text-align: right;\n",
       "    }\n",
       "</style>\n",
       "<table border=\"1\" class=\"dataframe\">\n",
       "  <thead>\n",
       "    <tr style=\"text-align: right;\">\n",
       "      <th></th>\n",
       "      <th>id</th>\n",
       "      <th>sentiment</th>\n",
       "    </tr>\n",
       "  </thead>\n",
       "  <tbody>\n",
       "    <tr>\n",
       "      <th>0</th>\n",
       "      <td>15923</td>\n",
       "      <td>2</td>\n",
       "    </tr>\n",
       "    <tr>\n",
       "      <th>1</th>\n",
       "      <td>60133</td>\n",
       "      <td>0</td>\n",
       "    </tr>\n",
       "    <tr>\n",
       "      <th>2</th>\n",
       "      <td>83681</td>\n",
       "      <td>0</td>\n",
       "    </tr>\n",
       "    <tr>\n",
       "      <th>3</th>\n",
       "      <td>65507</td>\n",
       "      <td>0</td>\n",
       "    </tr>\n",
       "    <tr>\n",
       "      <th>4</th>\n",
       "      <td>34263</td>\n",
       "      <td>0</td>\n",
       "    </tr>\n",
       "  </tbody>\n",
       "</table>\n",
       "</div>"
      ],
      "text/plain": [
       "      id  sentiment\n",
       "0  15923          2\n",
       "1  60133          0\n",
       "2  83681          0\n",
       "3  65507          0\n",
       "4  34263          0"
      ]
     },
     "execution_count": 189,
     "metadata": {},
     "output_type": "execute_result"
    }
   ],
   "source": [
    "out_df = pd.DataFrame({'id':df_test.id, 'sentiment':p})\n",
    "out_df.head()"
   ]
  },
  {
   "cell_type": "code",
   "execution_count": 190,
   "metadata": {},
   "outputs": [],
   "source": [
    "z = {0 : 'IND',1 :'OTH' , 2 : 'GRP'}\n",
    "out_df['sentiment'] = out_df.sentiment.map(z)"
   ]
  },
  {
   "cell_type": "code",
   "execution_count": 191,
   "metadata": {},
   "outputs": [
    {
     "data": {
      "text/plain": [
       "IND    157\n",
       "GRP     55\n",
       "OTH      1\n",
       "Name: sentiment, dtype: int64"
      ]
     },
     "execution_count": 191,
     "metadata": {},
     "output_type": "execute_result"
    }
   ],
   "source": [
    "out_df.sentiment.value_counts()"
   ]
  },
  {
   "cell_type": "code",
   "execution_count": 192,
   "metadata": {},
   "outputs": [],
   "source": [
    "out_df.to_csv('output_NN.csv',header=None , index=False, encoding='utf-8')"
   ]
  },
  {
   "cell_type": "code",
   "execution_count": 193,
   "metadata": {},
   "outputs": [
    {
     "name": "stdout",
     "output_type": "stream",
     "text": [
      "_________________________________________________________________\n",
      "Layer (type)                 Output Shape              Param #   \n",
      "=================================================================\n",
      "dense_5 (Dense)              (None, 512)               51712     \n",
      "_________________________________________________________________\n",
      "activation_5 (Activation)    (None, 512)               0         \n",
      "_________________________________________________________________\n",
      "dropout_3 (Dropout)          (None, 512)               0         \n",
      "_________________________________________________________________\n",
      "dense_6 (Dense)              (None, 3)                 1539      \n",
      "_________________________________________________________________\n",
      "activation_6 (Activation)    (None, 3)                 0         \n",
      "=================================================================\n",
      "Total params: 53,251\n",
      "Trainable params: 53,251\n",
      "Non-trainable params: 0\n",
      "_________________________________________________________________\n"
     ]
    }
   ],
   "source": [
    "model.summary()"
   ]
  },
  {
   "cell_type": "code",
   "execution_count": null,
   "metadata": {},
   "outputs": [],
   "source": []
  }
 ],
 "metadata": {
  "kernelspec": {
   "display_name": "Python 3",
   "language": "python",
   "name": "python3"
  },
  "language_info": {
   "codemirror_mode": {
    "name": "ipython",
    "version": 3
   },
   "file_extension": ".py",
   "mimetype": "text/x-python",
   "name": "python",
   "nbconvert_exporter": "python",
   "pygments_lexer": "ipython3",
   "version": "3.6.5"
  }
 },
 "nbformat": 4,
 "nbformat_minor": 2
}
