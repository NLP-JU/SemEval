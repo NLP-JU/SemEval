{
 "cells": [
  {
   "cell_type": "code",
   "execution_count": 1,
   "metadata": {},
   "outputs": [],
   "source": [
    "\n",
    "\n",
    "import pandas as pd  \n",
    "import numpy as np\n",
    "import matplotlib.pyplot as plt\n",
    "plt.style.use('fivethirtyeight')\n",
    "\n",
    "%matplotlib inline\n",
    "%config InlineBackend.figure_format = 'retina'\n",
    "\n"
   ]
  },
  {
   "cell_type": "code",
   "execution_count": 2,
   "metadata": {},
   "outputs": [
    {
     "name": "stdout",
     "output_type": "stream",
     "text": [
      "c_t.ipynb  test_set_taskc.tsv\r\n"
     ]
    }
   ],
   "source": [
    "!ls"
   ]
  },
  {
   "cell_type": "code",
   "execution_count": 3,
   "metadata": {},
   "outputs": [],
   "source": [
    "df = pd.read_csv(\"test_set_taskc.tsv\", sep ='\\t')"
   ]
  },
  {
   "cell_type": "code",
   "execution_count": 6,
   "metadata": {},
   "outputs": [
    {
     "data": {
      "text/html": [
       "<div>\n",
       "<style scoped>\n",
       "    .dataframe tbody tr th:only-of-type {\n",
       "        vertical-align: middle;\n",
       "    }\n",
       "\n",
       "    .dataframe tbody tr th {\n",
       "        vertical-align: top;\n",
       "    }\n",
       "\n",
       "    .dataframe thead th {\n",
       "        text-align: right;\n",
       "    }\n",
       "</style>\n",
       "<table border=\"1\" class=\"dataframe\">\n",
       "  <thead>\n",
       "    <tr style=\"text-align: right;\">\n",
       "      <th></th>\n",
       "      <th>id</th>\n",
       "      <th>tweet</th>\n",
       "    </tr>\n",
       "  </thead>\n",
       "  <tbody>\n",
       "    <tr>\n",
       "      <th>0</th>\n",
       "      <td>15923</td>\n",
       "      <td>#WhoIsQ #WheresTheServer #DumpNike #DECLASFISA...</td>\n",
       "    </tr>\n",
       "    <tr>\n",
       "      <th>1</th>\n",
       "      <td>60133</td>\n",
       "      <td>#NoPasaran: Unity demo to oppose the far-right...</td>\n",
       "    </tr>\n",
       "    <tr>\n",
       "      <th>2</th>\n",
       "      <td>83681</td>\n",
       "      <td>. . . What the fuck did he do this time?</td>\n",
       "    </tr>\n",
       "    <tr>\n",
       "      <th>3</th>\n",
       "      <td>65507</td>\n",
       "      <td>@USER Do you get the feeling he is kissing @US...</td>\n",
       "    </tr>\n",
       "    <tr>\n",
       "      <th>4</th>\n",
       "      <td>34263</td>\n",
       "      <td>#StopKavanaugh he is liar like the rest of the...</td>\n",
       "    </tr>\n",
       "  </tbody>\n",
       "</table>\n",
       "</div>"
      ],
      "text/plain": [
       "      id                                              tweet\n",
       "0  15923  #WhoIsQ #WheresTheServer #DumpNike #DECLASFISA...\n",
       "1  60133  #NoPasaran: Unity demo to oppose the far-right...\n",
       "2  83681           . . . What the fuck did he do this time?\n",
       "3  65507  @USER Do you get the feeling he is kissing @US...\n",
       "4  34263  #StopKavanaugh he is liar like the rest of the..."
      ]
     },
     "execution_count": 6,
     "metadata": {},
     "output_type": "execute_result"
    }
   ],
   "source": [
    "df.head()\n"
   ]
  },
  {
   "cell_type": "code",
   "execution_count": 5,
   "metadata": {},
   "outputs": [
    {
     "data": {
      "text/plain": [
       "213"
      ]
     },
     "execution_count": 5,
     "metadata": {},
     "output_type": "execute_result"
    }
   ],
   "source": [
    "len(df)"
   ]
  },
  {
   "cell_type": "code",
   "execution_count": 6,
   "metadata": {},
   "outputs": [],
   "source": [
    "df.rename({'tweet':'review'}, axis=1,inplace=True)\n"
   ]
  },
  {
   "cell_type": "code",
   "execution_count": 7,
   "metadata": {},
   "outputs": [
    {
     "data": {
      "text/html": [
       "<div>\n",
       "<style scoped>\n",
       "    .dataframe tbody tr th:only-of-type {\n",
       "        vertical-align: middle;\n",
       "    }\n",
       "\n",
       "    .dataframe tbody tr th {\n",
       "        vertical-align: top;\n",
       "    }\n",
       "\n",
       "    .dataframe thead th {\n",
       "        text-align: right;\n",
       "    }\n",
       "</style>\n",
       "<table border=\"1\" class=\"dataframe\">\n",
       "  <thead>\n",
       "    <tr style=\"text-align: right;\">\n",
       "      <th></th>\n",
       "      <th>id</th>\n",
       "      <th>review</th>\n",
       "    </tr>\n",
       "  </thead>\n",
       "  <tbody>\n",
       "    <tr>\n",
       "      <th>0</th>\n",
       "      <td>15923</td>\n",
       "      <td>#WhoIsQ #WheresTheServer #DumpNike #DECLASFISA...</td>\n",
       "    </tr>\n",
       "    <tr>\n",
       "      <th>1</th>\n",
       "      <td>60133</td>\n",
       "      <td>#NoPasaran: Unity demo to oppose the far-right...</td>\n",
       "    </tr>\n",
       "    <tr>\n",
       "      <th>2</th>\n",
       "      <td>83681</td>\n",
       "      <td>. . . What the fuck did he do this time?</td>\n",
       "    </tr>\n",
       "    <tr>\n",
       "      <th>3</th>\n",
       "      <td>65507</td>\n",
       "      <td>@USER Do you get the feeling he is kissing @US...</td>\n",
       "    </tr>\n",
       "    <tr>\n",
       "      <th>4</th>\n",
       "      <td>34263</td>\n",
       "      <td>#StopKavanaugh he is liar like the rest of the...</td>\n",
       "    </tr>\n",
       "  </tbody>\n",
       "</table>\n",
       "</div>"
      ],
      "text/plain": [
       "      id                                             review\n",
       "0  15923  #WhoIsQ #WheresTheServer #DumpNike #DECLASFISA...\n",
       "1  60133  #NoPasaran: Unity demo to oppose the far-right...\n",
       "2  83681           . . . What the fuck did he do this time?\n",
       "3  65507  @USER Do you get the feeling he is kissing @US...\n",
       "4  34263  #StopKavanaugh he is liar like the rest of the..."
      ]
     },
     "execution_count": 7,
     "metadata": {},
     "output_type": "execute_result"
    }
   ],
   "source": [
    "df.head()"
   ]
  },
  {
   "cell_type": "code",
   "execution_count": 7,
   "metadata": {},
   "outputs": [
    {
     "ename": "AttributeError",
     "evalue": "'DataFrame' object has no attribute 'target'",
     "output_type": "error",
     "traceback": [
      "\u001b[0;31m---------------------------------------------------------------------------\u001b[0m",
      "\u001b[0;31mAttributeError\u001b[0m                            Traceback (most recent call last)",
      "\u001b[0;32m<ipython-input-7-19d241a0775c>\u001b[0m in \u001b[0;36m<module>\u001b[0;34m()\u001b[0m\n\u001b[1;32m      1\u001b[0m \u001b[0mz\u001b[0m \u001b[0;34m=\u001b[0m \u001b[0;34m{\u001b[0m\u001b[0;34m'NOT'\u001b[0m \u001b[0;34m:\u001b[0m \u001b[0;36m0\u001b[0m \u001b[0;34m,\u001b[0m\u001b[0;34m'OFF'\u001b[0m \u001b[0;34m:\u001b[0m \u001b[0;36m1\u001b[0m\u001b[0;34m}\u001b[0m\u001b[0;34m\u001b[0m\u001b[0m\n\u001b[0;32m----> 2\u001b[0;31m \u001b[0mdf\u001b[0m\u001b[0;34m[\u001b[0m\u001b[0;34m'target'\u001b[0m\u001b[0;34m]\u001b[0m \u001b[0;34m=\u001b[0m \u001b[0mdf\u001b[0m\u001b[0;34m.\u001b[0m\u001b[0mtarget\u001b[0m\u001b[0;34m.\u001b[0m\u001b[0mmap\u001b[0m\u001b[0;34m(\u001b[0m\u001b[0mz\u001b[0m\u001b[0;34m)\u001b[0m\u001b[0;34m\u001b[0m\u001b[0m\n\u001b[0m",
      "\u001b[0;32m~/anaconda3/lib/python3.6/site-packages/pandas/core/generic.py\u001b[0m in \u001b[0;36m__getattr__\u001b[0;34m(self, name)\u001b[0m\n\u001b[1;32m   4370\u001b[0m             \u001b[0;32mif\u001b[0m \u001b[0mself\u001b[0m\u001b[0;34m.\u001b[0m\u001b[0m_info_axis\u001b[0m\u001b[0;34m.\u001b[0m\u001b[0m_can_hold_identifiers_and_holds_name\u001b[0m\u001b[0;34m(\u001b[0m\u001b[0mname\u001b[0m\u001b[0;34m)\u001b[0m\u001b[0;34m:\u001b[0m\u001b[0;34m\u001b[0m\u001b[0m\n\u001b[1;32m   4371\u001b[0m                 \u001b[0;32mreturn\u001b[0m \u001b[0mself\u001b[0m\u001b[0;34m[\u001b[0m\u001b[0mname\u001b[0m\u001b[0;34m]\u001b[0m\u001b[0;34m\u001b[0m\u001b[0m\n\u001b[0;32m-> 4372\u001b[0;31m             \u001b[0;32mreturn\u001b[0m \u001b[0mobject\u001b[0m\u001b[0;34m.\u001b[0m\u001b[0m__getattribute__\u001b[0m\u001b[0;34m(\u001b[0m\u001b[0mself\u001b[0m\u001b[0;34m,\u001b[0m \u001b[0mname\u001b[0m\u001b[0;34m)\u001b[0m\u001b[0;34m\u001b[0m\u001b[0m\n\u001b[0m\u001b[1;32m   4373\u001b[0m \u001b[0;34m\u001b[0m\u001b[0m\n\u001b[1;32m   4374\u001b[0m     \u001b[0;32mdef\u001b[0m \u001b[0m__setattr__\u001b[0m\u001b[0;34m(\u001b[0m\u001b[0mself\u001b[0m\u001b[0;34m,\u001b[0m \u001b[0mname\u001b[0m\u001b[0;34m,\u001b[0m \u001b[0mvalue\u001b[0m\u001b[0;34m)\u001b[0m\u001b[0;34m:\u001b[0m\u001b[0;34m\u001b[0m\u001b[0m\n",
      "\u001b[0;31mAttributeError\u001b[0m: 'DataFrame' object has no attribute 'target'"
     ]
    }
   ],
   "source": [
    "z = {'NOT' : 0 ,'OFF' : 1}\n",
    "df['target'] = df.target.map(z)"
   ]
  },
  {
   "cell_type": "code",
   "execution_count": 7,
   "metadata": {},
   "outputs": [
    {
     "data": {
      "text/html": [
       "<div>\n",
       "<style scoped>\n",
       "    .dataframe tbody tr th:only-of-type {\n",
       "        vertical-align: middle;\n",
       "    }\n",
       "\n",
       "    .dataframe tbody tr th {\n",
       "        vertical-align: top;\n",
       "    }\n",
       "\n",
       "    .dataframe thead th {\n",
       "        text-align: right;\n",
       "    }\n",
       "</style>\n",
       "<table border=\"1\" class=\"dataframe\">\n",
       "  <thead>\n",
       "    <tr style=\"text-align: right;\">\n",
       "      <th></th>\n",
       "      <th>id</th>\n",
       "      <th>tweet</th>\n",
       "    </tr>\n",
       "  </thead>\n",
       "  <tbody>\n",
       "    <tr>\n",
       "      <th>0</th>\n",
       "      <td>15923</td>\n",
       "      <td>#WhoIsQ #WheresTheServer #DumpNike #DECLASFISA...</td>\n",
       "    </tr>\n",
       "    <tr>\n",
       "      <th>1</th>\n",
       "      <td>60133</td>\n",
       "      <td>#NoPasaran: Unity demo to oppose the far-right...</td>\n",
       "    </tr>\n",
       "    <tr>\n",
       "      <th>2</th>\n",
       "      <td>83681</td>\n",
       "      <td>. . . What the fuck did he do this time?</td>\n",
       "    </tr>\n",
       "    <tr>\n",
       "      <th>3</th>\n",
       "      <td>65507</td>\n",
       "      <td>@USER Do you get the feeling he is kissing @US...</td>\n",
       "    </tr>\n",
       "    <tr>\n",
       "      <th>4</th>\n",
       "      <td>34263</td>\n",
       "      <td>#StopKavanaugh he is liar like the rest of the...</td>\n",
       "    </tr>\n",
       "  </tbody>\n",
       "</table>\n",
       "</div>"
      ],
      "text/plain": [
       "      id                                              tweet\n",
       "0  15923  #WhoIsQ #WheresTheServer #DumpNike #DECLASFISA...\n",
       "1  60133  #NoPasaran: Unity demo to oppose the far-right...\n",
       "2  83681           . . . What the fuck did he do this time?\n",
       "3  65507  @USER Do you get the feeling he is kissing @US...\n",
       "4  34263  #StopKavanaugh he is liar like the rest of the..."
      ]
     },
     "execution_count": 7,
     "metadata": {},
     "output_type": "execute_result"
    }
   ],
   "source": [
    "df.head()"
   ]
  },
  {
   "cell_type": "code",
   "execution_count": 8,
   "metadata": {},
   "outputs": [
    {
     "name": "stdout",
     "output_type": "stream",
     "text": [
      "<class 'pandas.core.frame.DataFrame'>\n",
      "RangeIndex: 213 entries, 0 to 212\n",
      "Data columns (total 2 columns):\n",
      "id       213 non-null int64\n",
      "tweet    213 non-null object\n",
      "dtypes: int64(1), object(1)\n",
      "memory usage: 3.4+ KB\n"
     ]
    }
   ],
   "source": [
    "df.info()\n"
   ]
  },
  {
   "cell_type": "code",
   "execution_count": 9,
   "metadata": {},
   "outputs": [
    {
     "ename": "AttributeError",
     "evalue": "'DataFrame' object has no attribute 'target'",
     "output_type": "error",
     "traceback": [
      "\u001b[0;31m---------------------------------------------------------------------------\u001b[0m",
      "\u001b[0;31mAttributeError\u001b[0m                            Traceback (most recent call last)",
      "\u001b[0;32m<ipython-input-9-b37240c21d4e>\u001b[0m in \u001b[0;36m<module>\u001b[0;34m()\u001b[0m\n\u001b[1;32m      1\u001b[0m \u001b[0;34m\u001b[0m\u001b[0m\n\u001b[1;32m      2\u001b[0m \u001b[0;34m\u001b[0m\u001b[0m\n\u001b[0;32m----> 3\u001b[0;31m \u001b[0mdf\u001b[0m\u001b[0;34m.\u001b[0m\u001b[0mtarget\u001b[0m\u001b[0;34m.\u001b[0m\u001b[0mvalue_counts\u001b[0m\u001b[0;34m(\u001b[0m\u001b[0;34m)\u001b[0m\u001b[0;34m\u001b[0m\u001b[0m\n\u001b[0m",
      "\u001b[0;32m~/anaconda3/lib/python3.6/site-packages/pandas/core/generic.py\u001b[0m in \u001b[0;36m__getattr__\u001b[0;34m(self, name)\u001b[0m\n\u001b[1;32m   4370\u001b[0m             \u001b[0;32mif\u001b[0m \u001b[0mself\u001b[0m\u001b[0;34m.\u001b[0m\u001b[0m_info_axis\u001b[0m\u001b[0;34m.\u001b[0m\u001b[0m_can_hold_identifiers_and_holds_name\u001b[0m\u001b[0;34m(\u001b[0m\u001b[0mname\u001b[0m\u001b[0;34m)\u001b[0m\u001b[0;34m:\u001b[0m\u001b[0;34m\u001b[0m\u001b[0m\n\u001b[1;32m   4371\u001b[0m                 \u001b[0;32mreturn\u001b[0m \u001b[0mself\u001b[0m\u001b[0;34m[\u001b[0m\u001b[0mname\u001b[0m\u001b[0;34m]\u001b[0m\u001b[0;34m\u001b[0m\u001b[0m\n\u001b[0;32m-> 4372\u001b[0;31m             \u001b[0;32mreturn\u001b[0m \u001b[0mobject\u001b[0m\u001b[0;34m.\u001b[0m\u001b[0m__getattribute__\u001b[0m\u001b[0;34m(\u001b[0m\u001b[0mself\u001b[0m\u001b[0;34m,\u001b[0m \u001b[0mname\u001b[0m\u001b[0;34m)\u001b[0m\u001b[0;34m\u001b[0m\u001b[0m\n\u001b[0m\u001b[1;32m   4373\u001b[0m \u001b[0;34m\u001b[0m\u001b[0m\n\u001b[1;32m   4374\u001b[0m     \u001b[0;32mdef\u001b[0m \u001b[0m__setattr__\u001b[0m\u001b[0;34m(\u001b[0m\u001b[0mself\u001b[0m\u001b[0;34m,\u001b[0m \u001b[0mname\u001b[0m\u001b[0;34m,\u001b[0m \u001b[0mvalue\u001b[0m\u001b[0;34m)\u001b[0m\u001b[0;34m:\u001b[0m\u001b[0;34m\u001b[0m\u001b[0m\n",
      "\u001b[0;31mAttributeError\u001b[0m: 'DataFrame' object has no attribute 'target'"
     ]
    }
   ],
   "source": [
    "\n",
    "\n",
    "df.target.value_counts()\n",
    "\n"
   ]
  },
  {
   "cell_type": "code",
   "execution_count": 14,
   "metadata": {},
   "outputs": [],
   "source": [
    "df.drop(['subb','subc'],axis=1,inplace=True)"
   ]
  },
  {
   "cell_type": "code",
   "execution_count": 10,
   "metadata": {},
   "outputs": [
    {
     "data": {
      "text/html": [
       "<div>\n",
       "<style scoped>\n",
       "    .dataframe tbody tr th:only-of-type {\n",
       "        vertical-align: middle;\n",
       "    }\n",
       "\n",
       "    .dataframe tbody tr th {\n",
       "        vertical-align: top;\n",
       "    }\n",
       "\n",
       "    .dataframe thead th {\n",
       "        text-align: right;\n",
       "    }\n",
       "</style>\n",
       "<table border=\"1\" class=\"dataframe\">\n",
       "  <thead>\n",
       "    <tr style=\"text-align: right;\">\n",
       "      <th></th>\n",
       "      <th>id</th>\n",
       "      <th>tweet</th>\n",
       "    </tr>\n",
       "  </thead>\n",
       "  <tbody>\n",
       "    <tr>\n",
       "      <th>0</th>\n",
       "      <td>15923</td>\n",
       "      <td>#WhoIsQ #WheresTheServer #DumpNike #DECLASFISA...</td>\n",
       "    </tr>\n",
       "    <tr>\n",
       "      <th>1</th>\n",
       "      <td>60133</td>\n",
       "      <td>#NoPasaran: Unity demo to oppose the far-right...</td>\n",
       "    </tr>\n",
       "    <tr>\n",
       "      <th>2</th>\n",
       "      <td>83681</td>\n",
       "      <td>. . . What the fuck did he do this time?</td>\n",
       "    </tr>\n",
       "    <tr>\n",
       "      <th>3</th>\n",
       "      <td>65507</td>\n",
       "      <td>@USER Do you get the feeling he is kissing @US...</td>\n",
       "    </tr>\n",
       "    <tr>\n",
       "      <th>4</th>\n",
       "      <td>34263</td>\n",
       "      <td>#StopKavanaugh he is liar like the rest of the...</td>\n",
       "    </tr>\n",
       "  </tbody>\n",
       "</table>\n",
       "</div>"
      ],
      "text/plain": [
       "      id                                              tweet\n",
       "0  15923  #WhoIsQ #WheresTheServer #DumpNike #DECLASFISA...\n",
       "1  60133  #NoPasaran: Unity demo to oppose the far-right...\n",
       "2  83681           . . . What the fuck did he do this time?\n",
       "3  65507  @USER Do you get the feeling he is kissing @US...\n",
       "4  34263  #StopKavanaugh he is liar like the rest of the..."
      ]
     },
     "execution_count": 10,
     "metadata": {},
     "output_type": "execute_result"
    }
   ],
   "source": [
    "df.head()"
   ]
  },
  {
   "cell_type": "code",
   "execution_count": 13,
   "metadata": {},
   "outputs": [
    {
     "data": {
      "text/html": [
       "<div>\n",
       "<style scoped>\n",
       "    .dataframe tbody tr th:only-of-type {\n",
       "        vertical-align: middle;\n",
       "    }\n",
       "\n",
       "    .dataframe tbody tr th {\n",
       "        vertical-align: top;\n",
       "    }\n",
       "\n",
       "    .dataframe thead th {\n",
       "        text-align: right;\n",
       "    }\n",
       "</style>\n",
       "<table border=\"1\" class=\"dataframe\">\n",
       "  <thead>\n",
       "    <tr style=\"text-align: right;\">\n",
       "      <th></th>\n",
       "      <th>id</th>\n",
       "      <th>review</th>\n",
       "      <th>sentiment</th>\n",
       "    </tr>\n",
       "  </thead>\n",
       "  <tbody>\n",
       "    <tr>\n",
       "      <th>2</th>\n",
       "      <td>16820</td>\n",
       "      <td>Amazon is investigating Chinese employees who ...</td>\n",
       "      <td>0</td>\n",
       "    </tr>\n",
       "    <tr>\n",
       "      <th>4</th>\n",
       "      <td>43605</td>\n",
       "      <td>@USER @USER Obama wanted liberals &amp;amp; illega...</td>\n",
       "      <td>0</td>\n",
       "    </tr>\n",
       "    <tr>\n",
       "      <th>8</th>\n",
       "      <td>45157</td>\n",
       "      <td>@USER Buy more icecream!!!</td>\n",
       "      <td>0</td>\n",
       "    </tr>\n",
       "    <tr>\n",
       "      <th>10</th>\n",
       "      <td>82776</td>\n",
       "      <td>@USER @USER @USER It’s not my fault you suppor...</td>\n",
       "      <td>0</td>\n",
       "    </tr>\n",
       "    <tr>\n",
       "      <th>11</th>\n",
       "      <td>42992</td>\n",
       "      <td>@USER What’s the difference between #Kavanaugh...</td>\n",
       "      <td>0</td>\n",
       "    </tr>\n",
       "    <tr>\n",
       "      <th>13</th>\n",
       "      <td>54920</td>\n",
       "      <td>@USER @USER @USER It should scare every Americ...</td>\n",
       "      <td>0</td>\n",
       "    </tr>\n",
       "    <tr>\n",
       "      <th>14</th>\n",
       "      <td>56392</td>\n",
       "      <td>@USER @USER @USER @USER @USER @USER @USER @USE...</td>\n",
       "      <td>0</td>\n",
       "    </tr>\n",
       "    <tr>\n",
       "      <th>15</th>\n",
       "      <td>86735</td>\n",
       "      <td>@USER you are also the king of taste</td>\n",
       "      <td>0</td>\n",
       "    </tr>\n",
       "    <tr>\n",
       "      <th>16</th>\n",
       "      <td>95686</td>\n",
       "      <td>#MAGA @USER  🎶 Sing like no one is listening  ...</td>\n",
       "      <td>0</td>\n",
       "    </tr>\n",
       "    <tr>\n",
       "      <th>17</th>\n",
       "      <td>71446</td>\n",
       "      <td>5/5: @USER The time is right for this House to...</td>\n",
       "      <td>0</td>\n",
       "    </tr>\n",
       "  </tbody>\n",
       "</table>\n",
       "</div>"
      ],
      "text/plain": [
       "       id                                             review  sentiment\n",
       "2   16820  Amazon is investigating Chinese employees who ...          0\n",
       "4   43605  @USER @USER Obama wanted liberals &amp; illega...          0\n",
       "8   45157                         @USER Buy more icecream!!!          0\n",
       "10  82776  @USER @USER @USER It’s not my fault you suppor...          0\n",
       "11  42992  @USER What’s the difference between #Kavanaugh...          0\n",
       "13  54920  @USER @USER @USER It should scare every Americ...          0\n",
       "14  56392  @USER @USER @USER @USER @USER @USER @USER @USE...          0\n",
       "15  86735               @USER you are also the king of taste          0\n",
       "16  95686  #MAGA @USER  🎶 Sing like no one is listening  ...          0\n",
       "17  71446  5/5: @USER The time is right for this House to...          0"
      ]
     },
     "execution_count": 13,
     "metadata": {},
     "output_type": "execute_result"
    }
   ],
   "source": [
    "df[df.sentiment == 0].head(10)"
   ]
  },
  {
   "cell_type": "code",
   "execution_count": 14,
   "metadata": {},
   "outputs": [
    {
     "data": {
      "text/html": [
       "<div>\n",
       "<style scoped>\n",
       "    .dataframe tbody tr th:only-of-type {\n",
       "        vertical-align: middle;\n",
       "    }\n",
       "\n",
       "    .dataframe tbody tr th {\n",
       "        vertical-align: top;\n",
       "    }\n",
       "\n",
       "    .dataframe thead th {\n",
       "        text-align: right;\n",
       "    }\n",
       "</style>\n",
       "<table border=\"1\" class=\"dataframe\">\n",
       "  <thead>\n",
       "    <tr style=\"text-align: right;\">\n",
       "      <th></th>\n",
       "      <th>id</th>\n",
       "      <th>review</th>\n",
       "      <th>sentiment</th>\n",
       "    </tr>\n",
       "  </thead>\n",
       "  <tbody>\n",
       "    <tr>\n",
       "      <th>0</th>\n",
       "      <td>86426</td>\n",
       "      <td>@USER She should ask a few native Americans wh...</td>\n",
       "      <td>1</td>\n",
       "    </tr>\n",
       "    <tr>\n",
       "      <th>1</th>\n",
       "      <td>90194</td>\n",
       "      <td>@USER @USER Go home you’re drunk!!! @USER #MAG...</td>\n",
       "      <td>1</td>\n",
       "    </tr>\n",
       "    <tr>\n",
       "      <th>3</th>\n",
       "      <td>62688</td>\n",
       "      <td>@USER Someone should'veTaken\" this piece of sh...</td>\n",
       "      <td>1</td>\n",
       "    </tr>\n",
       "    <tr>\n",
       "      <th>5</th>\n",
       "      <td>97670</td>\n",
       "      <td>@USER Liberals are all Kookoo !!!</td>\n",
       "      <td>1</td>\n",
       "    </tr>\n",
       "    <tr>\n",
       "      <th>6</th>\n",
       "      <td>77444</td>\n",
       "      <td>@USER @USER Oh noes! Tough shit.</td>\n",
       "      <td>1</td>\n",
       "    </tr>\n",
       "    <tr>\n",
       "      <th>7</th>\n",
       "      <td>52415</td>\n",
       "      <td>@USER was literally just talking about this lo...</td>\n",
       "      <td>1</td>\n",
       "    </tr>\n",
       "    <tr>\n",
       "      <th>9</th>\n",
       "      <td>13384</td>\n",
       "      <td>@USER Canada doesn’t need another CUCK! We alr...</td>\n",
       "      <td>1</td>\n",
       "    </tr>\n",
       "    <tr>\n",
       "      <th>12</th>\n",
       "      <td>28414</td>\n",
       "      <td>@USER you are a lying corrupt traitor!!! Nobod...</td>\n",
       "      <td>1</td>\n",
       "    </tr>\n",
       "    <tr>\n",
       "      <th>19</th>\n",
       "      <td>28195</td>\n",
       "      <td>@USER @USER @USER gun control! That is all the...</td>\n",
       "      <td>1</td>\n",
       "    </tr>\n",
       "    <tr>\n",
       "      <th>20</th>\n",
       "      <td>56117</td>\n",
       "      <td>@USER @USER @USER @USER LOL!!!   Throwing the ...</td>\n",
       "      <td>1</td>\n",
       "    </tr>\n",
       "  </tbody>\n",
       "</table>\n",
       "</div>"
      ],
      "text/plain": [
       "       id                                             review  sentiment\n",
       "0   86426  @USER She should ask a few native Americans wh...          1\n",
       "1   90194  @USER @USER Go home you’re drunk!!! @USER #MAG...          1\n",
       "3   62688  @USER Someone should'veTaken\" this piece of sh...          1\n",
       "5   97670                  @USER Liberals are all Kookoo !!!          1\n",
       "6   77444                   @USER @USER Oh noes! Tough shit.          1\n",
       "7   52415  @USER was literally just talking about this lo...          1\n",
       "9   13384  @USER Canada doesn’t need another CUCK! We alr...          1\n",
       "12  28414  @USER you are a lying corrupt traitor!!! Nobod...          1\n",
       "19  28195  @USER @USER @USER gun control! That is all the...          1\n",
       "20  56117  @USER @USER @USER @USER LOL!!!   Throwing the ...          1"
      ]
     },
     "execution_count": 14,
     "metadata": {},
     "output_type": "execute_result"
    }
   ],
   "source": [
    "df[df.sentiment == 1].head(10)"
   ]
  },
  {
   "cell_type": "code",
   "execution_count": 11,
   "metadata": {},
   "outputs": [],
   "source": [
    "\n",
    "\n",
    "df['pre_clean_len'] = [len(t) for t in df.tweet]\n",
    "\n"
   ]
  },
  {
   "cell_type": "code",
   "execution_count": 21,
   "metadata": {},
   "outputs": [
    {
     "ename": "AttributeError",
     "evalue": "'DataFrame' object has no attribute 'sentiment'",
     "output_type": "error",
     "traceback": [
      "\u001b[0;31m---------------------------------------------------------------------------\u001b[0m",
      "\u001b[0;31mAttributeError\u001b[0m                            Traceback (most recent call last)",
      "\u001b[0;32m<ipython-input-21-9a5f9f615618>\u001b[0m in \u001b[0;36m<module>\u001b[0;34m()\u001b[0m\n\u001b[1;32m      2\u001b[0m data_dict = {\n\u001b[1;32m      3\u001b[0m     'sentiment':{\n\u001b[0;32m----> 4\u001b[0;31m         \u001b[0;34m'type'\u001b[0m\u001b[0;34m:\u001b[0m\u001b[0mdf\u001b[0m\u001b[0;34m.\u001b[0m\u001b[0msentiment\u001b[0m\u001b[0;34m.\u001b[0m\u001b[0mdtype\u001b[0m\u001b[0;34m,\u001b[0m\u001b[0;34m\u001b[0m\u001b[0m\n\u001b[0m\u001b[1;32m      5\u001b[0m         \u001b[0;34m'description'\u001b[0m\u001b[0;34m:\u001b[0m\u001b[0;34m'sentiment class - 0:negative, 1:positive'\u001b[0m\u001b[0;34m\u001b[0m\u001b[0m\n\u001b[1;32m      6\u001b[0m     },\n",
      "\u001b[0;32m~/anaconda3/lib/python3.6/site-packages/pandas/core/generic.py\u001b[0m in \u001b[0;36m__getattr__\u001b[0;34m(self, name)\u001b[0m\n\u001b[1;32m   4370\u001b[0m             \u001b[0;32mif\u001b[0m \u001b[0mself\u001b[0m\u001b[0;34m.\u001b[0m\u001b[0m_info_axis\u001b[0m\u001b[0;34m.\u001b[0m\u001b[0m_can_hold_identifiers_and_holds_name\u001b[0m\u001b[0;34m(\u001b[0m\u001b[0mname\u001b[0m\u001b[0;34m)\u001b[0m\u001b[0;34m:\u001b[0m\u001b[0;34m\u001b[0m\u001b[0m\n\u001b[1;32m   4371\u001b[0m                 \u001b[0;32mreturn\u001b[0m \u001b[0mself\u001b[0m\u001b[0;34m[\u001b[0m\u001b[0mname\u001b[0m\u001b[0;34m]\u001b[0m\u001b[0;34m\u001b[0m\u001b[0m\n\u001b[0;32m-> 4372\u001b[0;31m             \u001b[0;32mreturn\u001b[0m \u001b[0mobject\u001b[0m\u001b[0;34m.\u001b[0m\u001b[0m__getattribute__\u001b[0m\u001b[0;34m(\u001b[0m\u001b[0mself\u001b[0m\u001b[0;34m,\u001b[0m \u001b[0mname\u001b[0m\u001b[0;34m)\u001b[0m\u001b[0;34m\u001b[0m\u001b[0m\n\u001b[0m\u001b[1;32m   4373\u001b[0m \u001b[0;34m\u001b[0m\u001b[0m\n\u001b[1;32m   4374\u001b[0m     \u001b[0;32mdef\u001b[0m \u001b[0m__setattr__\u001b[0m\u001b[0;34m(\u001b[0m\u001b[0mself\u001b[0m\u001b[0;34m,\u001b[0m \u001b[0mname\u001b[0m\u001b[0;34m,\u001b[0m \u001b[0mvalue\u001b[0m\u001b[0;34m)\u001b[0m\u001b[0;34m:\u001b[0m\u001b[0;34m\u001b[0m\u001b[0m\n",
      "\u001b[0;31mAttributeError\u001b[0m: 'DataFrame' object has no attribute 'sentiment'"
     ]
    }
   ],
   "source": [
    "from pprint import pprint\n",
    "data_dict = {\n",
    "    'sentiment':{\n",
    "        'type':df.sentiment.dtype,\n",
    "        'description':'sentiment class - 0:negative, 1:positive'\n",
    "    },\n",
    "    'text':{\n",
    "        'type':df.review.dtype,\n",
    "        'description':'tweet text'\n",
    "    },\n",
    "    'pre_clean_len':{\n",
    "        'type':df.pre_clean_len.dtype,\n",
    "        'description':'Length of the tweet before cleaning'\n",
    "    },\n",
    "    'dataset_shape':df.shape\n",
    "}\n",
    "\n",
    "pprint(data_dict)\n"
   ]
  },
  {
   "cell_type": "code",
   "execution_count": 22,
   "metadata": {},
   "outputs": [
    {
     "data": {
      "image/png": "[encoded data removed]",
      "text/plain": [
       "<Figure size 360x360 with 1 Axes>"
      ]
     },
     "metadata": {
      "image/png": {
       "height": 299,
       "width": 350
      }
     },
     "output_type": "display_data"
    }
   ],
   "source": [
    "\n",
    "\n",
    "fig, ax = plt.subplots(figsize=(5, 5))\n",
    "plt.boxplot(df.pre_clean_len)\n",
    "plt.show()\n",
    "\n"
   ]
  },
  {
   "cell_type": "code",
   "execution_count": 10,
   "metadata": {},
   "outputs": [],
   "source": [
    "\n",
    "\n",
    "from nltk.tokenize import WordPunctTokenizer\n",
    "tok = WordPunctTokenizer()\n",
    "\n"
   ]
  },
  {
   "cell_type": "code",
   "execution_count": 12,
   "metadata": {},
   "outputs": [],
   "source": [
    "\n",
    "\n",
    "import re\n",
    "\n",
    "from nltk.tokenize import WordPunctTokenizer\n",
    "tok = WordPunctTokenizer()\n",
    "\n",
    "#pat1 = r'@[A-Za-z0-9_]+'\n",
    "pat2 = r'https?://[^ ]+'\n",
    "part3 = r'#[A-Za-z0-9_]+'\n",
    "combined_pat = r'|'.join((pat2,part3))\n",
    "www_pat = r'www.[^ ]+'\n",
    "url = r'URL'\n",
    "negations_dic = {\"isn't\":\"is not\", \"aren't\":\"are not\", \"wasn't\":\"was not\", \"weren't\":\"were not\",\n",
    "                \"haven't\":\"have not\",\"hasn't\":\"has not\",\"hadn't\":\"had not\",\"won't\":\"will not\",\n",
    "                \"wouldn't\":\"would not\", \"don't\":\"do not\", \"doesn't\":\"does not\",\"didn't\":\"did not\",\n",
    "                \"can't\":\"can not\",\"couldn't\":\"could not\",\"shouldn't\":\"should not\",\"mightn't\":\"might not\",\n",
    "                \"mustn't\":\"must not\"}\n",
    "neg_pattern = re.compile(r'\\b(' + '|'.join(negations_dic.keys()) + r')\\b')\n",
    "\n",
    "def tweet_cleaner(text):\n",
    "    \n",
    "    try:\n",
    "        bom_removed = text.decode(\"utf-8-sig\").replace(u\"\\ufffd\", \"?\")\n",
    "    except:\n",
    "        bom_removed = text\n",
    "    stripped = re.sub(combined_pat, '', bom_removed)\n",
    "    stripped = re.sub(www_pat, '', stripped)\n",
    "    stripped = re.sub(url, '', stripped)\n",
    "    \n",
    "    lower_case = stripped.lower()\n",
    "    neg_handled = neg_pattern.sub(lambda x: negations_dic[x.group()], lower_case)\n",
    "    letters_only = re.sub(\"[^a-zA-Z]\", \" \", neg_handled)\n",
    "    # During the letters_only process two lines above, it has created unnecessay white spaces,\n",
    "    # I will tokenize and join together to remove unneccessary white spaces\n",
    "    words = [x for x  in tok.tokenize(letters_only) if len(x) > 1]\n",
    "    return (\" \".join(words)).strip()\n",
    "\n"
   ]
  },
  {
   "cell_type": "code",
   "execution_count": 13,
   "metadata": {},
   "outputs": [],
   "source": [
    "testing = df.tweet"
   ]
  },
  {
   "cell_type": "code",
   "execution_count": 14,
   "metadata": {},
   "outputs": [],
   "source": [
    "\n",
    "\n",
    "test_result = []\n",
    "for t in testing:\n",
    "    test_result.append(tweet_cleaner(t))\n",
    "\n"
   ]
  },
  {
   "cell_type": "code",
   "execution_count": 16,
   "metadata": {},
   "outputs": [
    {
     "data": {
      "text/html": [
       "<div>\n",
       "<style scoped>\n",
       "    .dataframe tbody tr th:only-of-type {\n",
       "        vertical-align: middle;\n",
       "    }\n",
       "\n",
       "    .dataframe tbody tr th {\n",
       "        vertical-align: top;\n",
       "    }\n",
       "\n",
       "    .dataframe thead th {\n",
       "        text-align: right;\n",
       "    }\n",
       "</style>\n",
       "<table border=\"1\" class=\"dataframe\">\n",
       "  <thead>\n",
       "    <tr style=\"text-align: right;\">\n",
       "      <th></th>\n",
       "      <th>id</th>\n",
       "      <th>tweet</th>\n",
       "      <th>pre_clean_len</th>\n",
       "    </tr>\n",
       "  </thead>\n",
       "  <tbody>\n",
       "    <tr>\n",
       "      <th>0</th>\n",
       "      <td>15923</td>\n",
       "      <td>#WhoIsQ #WheresTheServer #DumpNike #DECLASFISA...</td>\n",
       "      <td>245</td>\n",
       "    </tr>\n",
       "    <tr>\n",
       "      <th>1</th>\n",
       "      <td>60133</td>\n",
       "      <td>#NoPasaran: Unity demo to oppose the far-right...</td>\n",
       "      <td>98</td>\n",
       "    </tr>\n",
       "    <tr>\n",
       "      <th>2</th>\n",
       "      <td>83681</td>\n",
       "      <td>. . . What the fuck did he do this time?</td>\n",
       "      <td>40</td>\n",
       "    </tr>\n",
       "    <tr>\n",
       "      <th>3</th>\n",
       "      <td>65507</td>\n",
       "      <td>@USER Do you get the feeling he is kissing @US...</td>\n",
       "      <td>86</td>\n",
       "    </tr>\n",
       "    <tr>\n",
       "      <th>4</th>\n",
       "      <td>34263</td>\n",
       "      <td>#StopKavanaugh he is liar like the rest of the...</td>\n",
       "      <td>55</td>\n",
       "    </tr>\n",
       "  </tbody>\n",
       "</table>\n",
       "</div>"
      ],
      "text/plain": [
       "      id                                              tweet  pre_clean_len\n",
       "0  15923  #WhoIsQ #WheresTheServer #DumpNike #DECLASFISA...            245\n",
       "1  60133  #NoPasaran: Unity demo to oppose the far-right...             98\n",
       "2  83681           . . . What the fuck did he do this time?             40\n",
       "3  65507  @USER Do you get the feeling he is kissing @US...             86\n",
       "4  34263  #StopKavanaugh he is liar like the rest of the...             55"
      ]
     },
     "execution_count": 16,
     "metadata": {},
     "output_type": "execute_result"
    }
   ],
   "source": [
    "df.head()"
   ]
  },
  {
   "cell_type": "code",
   "execution_count": 15,
   "metadata": {},
   "outputs": [
    {
     "data": {
      "text/plain": [
       "['democrats support antifa muslim brotherhood ms isis pedophilia child trafficking taxpayer funded abortion election fraud sedition and treason user',\n",
       " 'unity demo to oppose the far right in enough is enough',\n",
       " 'what the fuck did he do this time',\n",
       " 'user do you get the feeling he is kissing user behind so he can humiliate him later',\n",
       " 'he is liar like the rest of the',\n",
       " 'user user put delauro in police lineup identifying the bag lady she would be picked everytime she has to be proof either conn voters are incompetent to vote or she is part of vast voter fraud conspiracy no one votes for woman that gross',\n",
       " 'all family friends do not tell me bad shit that your bf gf did to you just to go right back to them',\n",
       " 'is your accuser try this every time',\n",
       " 'is that serious holy shit please your fucking assholes do not blame someone for the death of other one she is sad enough for today do not you see it is not fault of none he had an overdose and died end stop wanting someone to blame fuckers',\n",
       " 'user how is she hiding her ugly personality she is the worst',\n",
       " 'user user user user user user user user user shocked to learn human traffickers had guns some probably illegal too ca needs more gun control but don worry about the actual crime the pic of black guns is worse',\n",
       " 'user you re clown',\n",
       " 'beating teach their hate violence',\n",
       " 'gets all the bitches',\n",
       " 'take note of how to protest with civility this is why socialism aka communism will never win it is inherently evil and unsustainable',\n",
       " 'user omg is he for real this happened in peru like years ago and the inti devaluated so fucking much that they had to comoletely change the coin system because our money was worthless',\n",
       " 'it not about our disagreements with its that conservatives can not debate honestly and they have no integrity whatever gets them thru today is all that matters to them they re fundamentally dishonest people',\n",
       " 'user user user user then why aren there so many shootings in virginia jacksonville shooter got his guns in maryland among the poster children for gun control what good did that do you re full of crap',\n",
       " 'are bedfellows with the democratic socialists of america dsa who has exposed as being inserted throughout government attempting to bring down',\n",
       " 'user antifa has ts level influence it scary',\n",
       " 'user have three accounts two quasi anonymous and one completely anon and if twitter ever bans one of the quasi anon ll make two anon accounts and tweet the most insane shit will drown twitter in bullshit if one of those is banned ll make even more',\n",
       " 'are so pathetic innocent until proven guilty mean much should look at their own party if they need rapist to hang are straight from the pitts of hell',\n",
       " 'million reallocated from fema to ice this guy gives zero shits about anyone not named trump if you re in the mid atlantic get out now',\n",
       " 'user please ban this cheating scum he is literally invisible',\n",
       " 'the conversation about this is so unattractive the creator says he did not create character gay and he is being attacked',\n",
       " 'is so full of herself she is just as painful to watch as to listen to',\n",
       " 'has done nothing but sit on his ass and complain it time black people and die hard white liberals who think they are down with the cause aka user to wake the heck up or stfu colin is not civil rights hero or martyr no where near it',\n",
       " 'jeff sessions listen to the aclu antifa black lives matter if you want more chicago shootings',\n",
       " 'amazon will ship live christmas trees to your door but will they stay and put on the damn lights',\n",
       " 'user bet she is lot safer when she has sex now tho or she wouldn have just one but few kids why cant moms get dicked down too',\n",
       " 'govt user made my life hell whistleblowers say they were threatened by regulator thought this govt promised to protect whistleblowers',\n",
       " 'user please ban this cheating scum he is literally invisible',\n",
       " 'ellison accuser says she been sidelined by her own party',\n",
       " 'user you are dead to me user user',\n",
       " 'user michelle was there years and we sure do not need any more bad advice from her now we have new sheriff in town who get out and vote all colors all genders aka all americans',\n",
       " 'it so comical that liberals always want it both ways first women need to be treated as equals but when it comes to ford testifying they say it unfair to have more men asking her questions which is it dems are women equal or should we receive special treatment',\n",
       " 'always has feel for the most appropriate public behavior but often he is unable to control himself',\n",
       " 'user stick to comedy you were not that funny yo start with but that political commentary of yours is pathetic',\n",
       " 'user needed to be impeached',\n",
       " 'just when think things can not get dumber this happens liberals probably do not realize this because they are children but this is not equality how about we treat women an men the same pretty sure that ll have better results for culture',\n",
       " 'she is me when my phone dings',\n",
       " 'user are all racist',\n",
       " 'still acting like the wimps they are what they haven yet realized that liberals will hate them regardless of their sentiments either republicans are just too stupid to get out of their own way or they re just tilted to far left',\n",
       " 'liberals usually dehumanize those they want to exterminate later',\n",
       " 'ratings tank as expected who can possibly stand to watch so many liberals in one place at one time',\n",
       " 'user has always been nothing more than',\n",
       " 'of in at the awards toothless self promotion onslaught peppered with cracks but it was planned staged and okay because they are of the',\n",
       " 'is fraud female user group paid for and organized by',\n",
       " 'give my love or cooperate compromise conservatives trump supporters who constantly vilify marginalized groups who constantly attack women rights make choices about their own bodies',\n",
       " 'dt cycle track can easily open antifa tennis courts inside crescent heights until we are able to trash nenshi communist vape shop',\n",
       " 'he is most shameless in history of india and audacity and shamelessness with which is lies in public is disgrace to post',\n",
       " 'bn housing on trick user what crock of sh user',\n",
       " 'of in is user user user user user user user user user user user user user user user user user',\n",
       " 'but it is also danger to our country are showing themselves to be utterly hateful they do not care about truth they only care about power',\n",
       " 'user these are all coranated attacks from idiot loons they will get worse much worse before the election can imagine idiots who want to get rid of the economy and their along with interest rates just because he is not polished politician idiots',\n",
       " 'user user aw is so stinking cute how old is she now',\n",
       " 'join the fight against american communists democrats and liberals have taken this crap to the edge and there is no coming back they are openly promoting the destruction of america',\n",
       " 'user user has stated that any talk of zionist involvement in is metaphysical masturbation because he is disinformation agent taking advantage of people of lesser intellect he should be ashamed of himself but he not because he',\n",
       " 'kinda watching wtf does she think she is person pffft pathetic',\n",
       " 'and females on the same shit',\n",
       " 'love watching liberals like maria squirm',\n",
       " 'look donald you are only duck stop patronizing me',\n",
       " 'works and will put tons more money back into canadian pockets user user user user part of why trudeau won in was campaigning on national carbon tax conservatives died then they want another death in we will oblige',\n",
       " 'antonia evans was either sex trafficked or cremated',\n",
       " 'stormy was in trapped by dollar bill in her face poor pornstar but no worries the democratic party she is the leader of',\n",
       " 'and these entertainment agencies just gonna have to be an ass about it',\n",
       " 'really everything trump does is another piece of evidence for obstruction of justice he is talking crime machine',\n",
       " 'this goes to show how moronic antifa types are because this is good way to encourage some dumbass to rightfully get speedrocked open carry users practice weapon retention gun grabs will go very badly for you if you try you will get shot so do not do it',\n",
       " 'user every time liberals do not get there way they cry racism or sexual assault hard to believe',\n",
       " 'steps into control finally took on their damn door step for their to wake up but better late than never',\n",
       " 'bitch fucking coming back',\n",
       " 'are reaching peak desperation to call on to talk with to convince him to help with sept user user user user',\n",
       " 'controlled city with strict gun control laws and user wants to blame the um isn it you rich trying to keep the blacks in poverty',\n",
       " 'user got to love that the people making the laws tend to know nothing about the subject they re making the law for you should hear some of the gun control laws people try to pass here in the states',\n",
       " 'user it is corrupt to the core and become giant autocratic pedophile ring',\n",
       " 'patriots especially those in obama soros are attempting to take this house seat to get control of congress say no to tj cox he is shill candidate fronted by the dastardly duo please get out and vote david valadao for house dist follow user',\n",
       " 'when she takes her nigga name out her bio',\n",
       " 'he funds',\n",
       " 'govt have run up debt in spite of austerity cuts while the rich have doubled their wealth via user',\n",
       " 'continues to expose that the sjw bullies are paper tigers when conservatives fight back with truth and facts',\n",
       " 'how many of you cum user fans',\n",
       " 'user user user okay and anybody can go to eredivise and score goals shit league bundesliga teams are competitive in euro competitions mexico hasn produced any talent like pulisic in long time it okay maybe you guys will one day',\n",
       " 'is very stupid teenager totally despise her for the atrocities she is doing towards aunty anupriya she blames her for her mom death she should stop and listen to anupriya side of the story before she makes vile accusation',\n",
       " 'is very stupid teenager totally despise her for the atrocities she is doing towards aunty anupriya she blames her for her mom death she should stop and listen to anupriya side of the story before she makes vile accusation',\n",
       " 'if we go by example where liberals support open borders guess conservatives support school shootings please explain how this makes america great again',\n",
       " 'user user user she is the most disingenuous person in the senate if she was my senator would hide in shame after her despicable behavior in the scotus hearings',\n",
       " 'you are being by and you talk about of yourselves and of from the you should your and',\n",
       " 'just wanted to tell you you should hang out with me more think it ll be fun also lmao dick for tongue so people can easily suck me off haha kidding aside aint want tongue as my dick that looks hella weird but my choice was weird to but whatever',\n",
       " 'sorry see you love you was an asshole you know how we are',\n",
       " 'user he is an alien from the future',\n",
       " 'jh omg she is crazy wj wait yes am interested in assistant manager cha bh you guys look like good pair vo are you having some just sit over here jh do not do it wj lets live our own life lets do it news collision on hwy there is congestion jh woo jin',\n",
       " 'yup white mask privilege at it finest always trying to keep black mask down',\n",
       " 'all saying if we cool and you feel any type of way about me speak the fuck up',\n",
       " 'traitors are worse than fortnite players',\n",
       " 'boxer if liberals want to use rape as political tactic they had better have some hard evidence her word is not evidence its called hearsay on that note could say you cornered me in bathroom and put your hands all over me years ago prove me wrong',\n",
       " 'it very odd for the alt right conservatives to say that we are ruining the constitution just because we want but they are the ones ruining the constitution getting upset because foreigners are coming to this land who are not white wanting to live',\n",
       " 'looks predatory therefore he guilty are dangerous people who should not govern anyone or anything',\n",
       " 'can believe this sexist clueless old fart gets to weigh in on another woman charges against supreme court nominee and he is spouting the same old nasty shit he spewed years ago against anita hill his time up good riddance neanderthal',\n",
       " 'part did not have to think too hard to come up with gabriel they re lizard themed glitter bombing antifa mech pilot using their superhero powers to take down corrupt logging companies they re buff lesbian with hearts on their uniform literally what not to love',\n",
       " 'this is what you stand for if not then',\n",
       " 'just demonstrated how to lose an election in user user',\n",
       " 'and have bitch thinking you niggas have money and you tf don',\n",
       " 'are disgusting they only believe women who accuse conservatives of abuse crimes when liberals are accused they ignore the accusations',\n",
       " 'is only being harassed by members of the antifa the radical arm of the democratic party funded by george soros',\n",
       " 'cent calls out joe budden bullshit on instagram',\n",
       " 'actually question why do people want jc to win more than angela he has been way meaner says the word repeatly makes fun of eating disorders and sexually harasses houseguests she is just as much as an underdog to win so dont use that excuse',\n",
       " 'alright let me get right with god bc mother nature is like fuck humans',\n",
       " 'and least other',\n",
       " 'is recruiting for designated organization',\n",
       " 'everything liberals touch turns to absolute shit',\n",
       " 'user user as have said the media and money soros with dip shit waters is creating civil war',\n",
       " 'ted cruz campaign is sending people solicitations disguised as official looking county summons elderly residents have been confused by the notice to appear he is so skeezy',\n",
       " 'anyone who finds neta behavior funny can fuck off and die',\n",
       " 'the will begin to see the about our user user user completely',\n",
       " 'user the difference between you and as stated before and this inane asinine comment have solidified is bring facts and truth while all you have is lies and bullshit present single shred of credible evidence to support single thing you ve just said lies is all you ve got',\n",
       " 'user damn felt this shit why you so loud lol',\n",
       " 'user bingo you are absolutely correct he cannot bring president obama down he can get over how president obama humiliated him at the white house correspondents dinner and can guarantee you that is definite driver of his hate for president obama',\n",
       " 'user user you wonder why your ratings suck',\n",
       " 'is vile excuse for journalist here he is criticizing yet refuses to come clean about the death of an intern in his office stop talking about everyone else and start talking about your involvement with user',\n",
       " 'the dregs of society more labelingand dehumanizing conservatives suggest we conservatives keep our ammo dry and our guns loaded if the fascist liberal left think conservatives will go quietly into internment camps or slaughtered in the streets they need reality check',\n",
       " 'you cant say anything truthful you are loers and liar',\n",
       " 'you are the most incompetent leader in nigeria history atiku blasts buhari by championnewsng via',\n",
       " 'well most of those ex crackheads are liberals and democrats so',\n",
       " 'user only works when those joining the new group want to be part of the team hates every non muslim',\n",
       " 'so want to kick twitterfuck ass',\n",
       " 'should have quit decades ago she is disgrace feinstein blames gop after kavanaugh accuser stays mum admits can not say everything truthful',\n",
       " 'user user user fascism was also against liberals as is antifa according to your meme',\n",
       " 'grown ass woman probably years older than me is currently spreading rumors rather than talking to me about it nice work you got there satan',\n",
       " 'don care what you post it user propaganda',\n",
       " 'is there nothing beneath them lol what fools liberals are',\n",
       " 'user the kindest explanation is that he is tone deaf it hard to feel kind when he and his ilk do this repeatedly',\n",
       " 'etta can be tricky to photograph because of her colouring but she is beautiful and she knows it she is in charge has first dibs on treats and will shout for our attention whenever she comes in the house she kills wild rabbits but hangs out in the hutch with ours',\n",
       " 'niggas don really understand levels to career pursuits',\n",
       " 'what about death metal want more death metal tell me you hateful keebler elf where can have more death metal',\n",
       " 'is disciple of anthony kennedy who ed liberals unconstitutional opinions he trump con to con conservatives to ing is moving right were user smart they do everything to get bk the but they will not idiots',\n",
       " 'tear down that',\n",
       " 'am dickhead probably yes',\n",
       " 'user cause everyone knows real leader falls into van like sack of potatoes',\n",
       " 'campaign must continue and grow paying overseas staff an hour is not okay because your staff is over there you are exploiting poor women men in the world this is more than americans can stand',\n",
       " 'jeff sessions if you want more death listen to the aclu antifa black lives matter',\n",
       " 'flew away in to be with the had to flee hatred of jews',\n",
       " 'anyway this game sucks',\n",
       " 'is liar she is fat ugly libreal she sold her herself to get some cash from dems and iran why she spoke after',\n",
       " 'do not represent all canadians they are authoritarian scum',\n",
       " 'attorney says she receiving death threats and has had to move her family to safety where the proof that are not doing this to promote this circus',\n",
       " 'ruined and now he is doing the same to hope the checks cash forever because he should never get another job',\n",
       " 'another season for tom brady to give it to these niggas',\n",
       " 'when you are black and can say the word nigga feel me my niggas',\n",
       " 'low pay lack of housing wages falling unaffordable rents crisis crap railways empty shops no deal exit from eu in just short years the user have completely fucked the uk',\n",
       " 'user are afraid justice is coming is scam just like the',\n",
       " 'days before bbc radio festival in day they decide to tell us that their headline act isn coming anymore thanks lot now ve paid fortune to see tonne of acts who are shit and who are of no interest to me',\n",
       " 'trump needs to go because he is danger to the country and the world any way we can get rid of him is good',\n",
       " 'user you re nobody',\n",
       " 'deracist as bad choice as he is he distanced himself from the prez comments today questioning any deaths in puerto rico from hurricane maria user user',\n",
       " 'user user ll use that one the next time im in gun control debate or in debate about free speech or taxes yes you can choose to be irresponsible or choose not to be argue responsible whats wrong with that do not justify murder by saying it was never alive or its my right',\n",
       " 'user user who the hell does he think he is',\n",
       " 'everything liberals touch turns to absolute shit',\n",
       " 'of these niggas have podcasts and youtube channels dedicated to this and shit ain getting solved so',\n",
       " 'anytime randomly bust out laughing it because remembered some dumb shit albria said',\n",
       " 'user user you do not like the jewish people because you all claims they are holding all the money sound familiar your left wing libtard family is the family of the kkk you do not hate jews that funny gun control even funnier good luck',\n",
       " 'always up to dirty tricks to get their way',\n",
       " 'are more upset about being than having in the user hooker as user and as',\n",
       " 'protest in for the years after the murder of pavlos fyssas by golden dawn their voters are complicit to their crimes',\n",
       " 'just like old bags blowing in the wind here an old garbage bag now',\n",
       " 'is why we need gun control sorry for the victims other than the gunman himself hope he rots in hell',\n",
       " 'hope human rights rats happy hope sidhu is happy hope liberals happy let play cricket wth thm let thank thm wht they doing our soldiers let celebrate our impotence funny piddly little nation like pak is taking us ride',\n",
       " 'anti liberal activist accuser makes accusation but not willing to be subject question suffer the consequence of filing false charge',\n",
       " 'traitors caught on video breaking our laws to further their ways and slow down the agenda they are the dc chapter of democrat socialists of america forget antifa that is distraction from the real resistance',\n",
       " 'was grinding at party almost yrs ago you gotta love the age of this ridiculous movement just swear in already and get this over with before have an anxiety attack like',\n",
       " 'is not hero he is an american traitor and should be treated as such arrest prosecute and carry out sentence via user',\n",
       " 'round goon bitch is you kiddin me',\n",
       " 'user more',\n",
       " 'omg how can latino faith based woman think that trump is christian wow he is the poster child for immorality and hating latinos',\n",
       " 'user is himself',\n",
       " 'user nigga are you stupid your trash dont play with him play with your bitch',\n",
       " 'but here my opinion keeping this beef up between and user he know cardi slow and believe everything he says she is his meal ticket just think need to sit his ugly ass down',\n",
       " 'liberals favorite myth that obama was law professor is now destroyed',\n",
       " 'user to demonstrate how wholly incapable of carrying thought to its logical conclusion she is',\n",
       " 'and she has pet fucking disgusting',\n",
       " 'when liberals ask why your against illegal immigration taco bell employee no habla ingles',\n",
       " 'lily they don hate you you hate you you are your own worst enemy cause you let your anger get in the way legit feel like shes one of the kids work with at my job',\n",
       " 'mr usman buzdar sb please respond to sonia iqbal daughter of pti counsellor from okara whose father was killed during elections by nawaz league killers she is saying she will commit suicide in front of media where is justice',\n",
       " 'user worst potus ever',\n",
       " 'have no genetic ability to understand or right wing ideology gets ya all twisted in knots user',\n",
       " 'do not believe she is lying pos live near police station hope and pray cop does not bust up in my house thinking it his hers and kills me my god we people of color are police prey we re always in police cross hairs no matter what',\n",
       " 'september stop the fascist nvu in',\n",
       " 'and that why you were at nyfw cause your such class act getcho wack ass outta here',\n",
       " 'liberals weren unhinged',\n",
       " 'we mus pray for liberals they trooly kno knot watt they do was brot up socialist democrat by my wonderful but ignorant parents served inda military learnd can serve christ too eye reel eyesed conservativism was more closely aligned god',\n",
       " 'please no one be stupid enough to do this most of us do not open carry most of us carry concealed anyone stupid enough to do this that is considered an act of aggression and you will be shot we also carry more than one weapon we shoot to kill not maim',\n",
       " 'user puerto rico is destroyed more than die trump visits and throws paper rolls at people months later puerto rico is still waiting for help trump says everything is fine and his visit was great success',\n",
       " 'all these sick ass ppl from school gave me something and now have to chug down this nasty drink so it can go away',\n",
       " 'are is the central point of my tweet',\n",
       " 'user makes me nauseous',\n",
       " 'are liberals so only counts when they blame non liberal man',\n",
       " 'deal has been reached and will be unveiled at special summit in november has user sold out the to the eu she better have not or the user are finished user',\n",
       " 'in very at the who claims to be our she will never accept it denying all the lives lost in puerto rico he is',\n",
       " 'song the eu cash your remaining chips in and ss off you ve played all your cards and liberals in the too brexiteers and trump takes it all so be nice eh and life ll be better for everyone',\n",
       " 'for phone you all are fucking dumb',\n",
       " 'the moment is exposed as fraud expect new accuser to surface liberals are one trick pony',\n",
       " 'user she is cool confident cocky and she kicks ass user user user',\n",
       " 'user oh fuck off',\n",
       " 'keith ellison domestic violence accuser says democratic party does not believe her story',\n",
       " 'do not just run',\n",
       " 'do not know why he is still in his job seriously',\n",
       " 'tell me one good thing has done as dare you he is the worst president in history',\n",
       " 'now stall tactics are dc cronies only recourse no more delays to end this madness and to',\n",
       " 'user user user user beats the hell nj out of me lol dude already made the assumption that antifa he even ignored all the evidence to make that assumption',\n",
       " 'fuck you all que florezcan mil baby etchecopar',\n",
       " 'are mentally unstable cowards pretending to be relevant',\n",
       " 'user user and browning looked like dog shit against the same fcs school what your point',\n",
       " 'all two of them taste like ass',\n",
       " 'lie again about rifles dem distorted the law to push gun control at kavanaugh confirmation via user']"
      ]
     },
     "execution_count": 15,
     "metadata": {},
     "output_type": "execute_result"
    }
   ],
   "source": [
    "test_result"
   ]
  },
  {
   "cell_type": "code",
   "execution_count": 17,
   "metadata": {},
   "outputs": [
    {
     "name": "stdout",
     "output_type": "stream",
     "text": [
      "Cleaning and parsing the tweets...\n",
      "\n",
      "Tweets has been processed\n",
      "CPU times: user 15.6 ms, sys: 3.91 ms, total: 19.5 ms\n",
      "Wall time: 21.3 ms\n"
     ]
    }
   ],
   "source": [
    "%%time\n",
    "print (\"Cleaning and parsing the tweets...\\n\")\n",
    "clean_tweet_texts = []\n",
    "for i in range(0,240):\n",
    "    if( (i+1)%240 == 0 ):\n",
    "        print (\"Tweets has been processed\")                                                                    \n",
    "    clean_tweet_texts.append(tweet_cleaner(df['review'][i]))"
   ]
  },
  {
   "cell_type": "code",
   "execution_count": 17,
   "metadata": {},
   "outputs": [
    {
     "data": {
      "text/plain": [
       "213"
      ]
     },
     "execution_count": 17,
     "metadata": {},
     "output_type": "execute_result"
    }
   ],
   "source": [
    "len(test_result)"
   ]
  },
  {
   "cell_type": "code",
   "execution_count": 18,
   "metadata": {},
   "outputs": [
    {
     "data": {
      "text/html": [
       "<div>\n",
       "<style scoped>\n",
       "    .dataframe tbody tr th:only-of-type {\n",
       "        vertical-align: middle;\n",
       "    }\n",
       "\n",
       "    .dataframe tbody tr th {\n",
       "        vertical-align: top;\n",
       "    }\n",
       "\n",
       "    .dataframe thead th {\n",
       "        text-align: right;\n",
       "    }\n",
       "</style>\n",
       "<table border=\"1\" class=\"dataframe\">\n",
       "  <thead>\n",
       "    <tr style=\"text-align: right;\">\n",
       "      <th></th>\n",
       "      <th>id</th>\n",
       "      <th>text</th>\n",
       "    </tr>\n",
       "  </thead>\n",
       "  <tbody>\n",
       "    <tr>\n",
       "      <th>0</th>\n",
       "      <td>15923</td>\n",
       "      <td>democrats support antifa muslim brotherhood ms...</td>\n",
       "    </tr>\n",
       "    <tr>\n",
       "      <th>1</th>\n",
       "      <td>60133</td>\n",
       "      <td>unity demo to oppose the far right in enough i...</td>\n",
       "    </tr>\n",
       "    <tr>\n",
       "      <th>2</th>\n",
       "      <td>83681</td>\n",
       "      <td>what the fuck did he do this time</td>\n",
       "    </tr>\n",
       "    <tr>\n",
       "      <th>3</th>\n",
       "      <td>65507</td>\n",
       "      <td>user do you get the feeling he is kissing user...</td>\n",
       "    </tr>\n",
       "    <tr>\n",
       "      <th>4</th>\n",
       "      <td>34263</td>\n",
       "      <td>he is liar like the rest of the</td>\n",
       "    </tr>\n",
       "  </tbody>\n",
       "</table>\n",
       "</div>"
      ],
      "text/plain": [
       "      id                                               text\n",
       "0  15923  democrats support antifa muslim brotherhood ms...\n",
       "1  60133  unity demo to oppose the far right in enough i...\n",
       "2  83681                  what the fuck did he do this time\n",
       "3  65507  user do you get the feeling he is kissing user...\n",
       "4  34263                    he is liar like the rest of the"
      ]
     },
     "execution_count": 18,
     "metadata": {},
     "output_type": "execute_result"
    }
   ],
   "source": [
    "\n",
    "\n",
    "\n",
    "clean_df = pd.DataFrame(df.id,columns=['id'])\n",
    "clean_df['text'] = test_result\n",
    "#clean_df['target'] = df.target\n",
    "\n",
    "\n",
    "clean_df.head()"
   ]
  },
  {
   "cell_type": "code",
   "execution_count": 19,
   "metadata": {},
   "outputs": [],
   "source": [
    "\n",
    "\n",
    "\n",
    "clean_df.to_csv('test_clean_c.csv',index=False,encoding='utf-8')\n",
    "\n"
   ]
  },
  {
   "cell_type": "code",
   "execution_count": null,
   "metadata": {},
   "outputs": [],
   "source": []
  }
 ],
 "metadata": {
  "kernelspec": {
   "display_name": "Python 3",
   "language": "python",
   "name": "python3"
  },
  "language_info": {
   "codemirror_mode": {
    "name": "ipython",
    "version": 3
   },
   "file_extension": ".py",
   "mimetype": "text/x-python",
   "name": "python",
   "nbconvert_exporter": "python",
   "pygments_lexer": "ipython3",
   "version": "3.6.5"
  }
 },
 "nbformat": 4,
 "nbformat_minor": 2
}
